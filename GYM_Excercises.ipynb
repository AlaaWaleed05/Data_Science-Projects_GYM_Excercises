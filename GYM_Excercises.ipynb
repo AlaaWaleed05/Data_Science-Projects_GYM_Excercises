{
 "cells": [
  {
   "cell_type": "code",
   "execution_count": 228,
   "id": "e135b087-f8c6-42c9-a7a8-13e53f9c76c6",
   "metadata": {},
   "outputs": [],
   "source": [
    "import numpy as np\n",
    "import pandas as pd\n",
    "import matplotlib.pyplot as plt\n",
    "import seaborn as sns\n",
    "import plotly.express as px\n",
    "%matplotlib inline"
   ]
  },
  {
   "cell_type": "code",
   "execution_count": 230,
   "id": "31050b35-e420-47c7-a174-b57a4a4308db",
   "metadata": {},
   "outputs": [],
   "source": [
    "df=pd.read_csv('gym_members_exercise_tracking.csv')"
   ]
  },
  {
   "cell_type": "code",
   "execution_count": 232,
   "id": "b440a7b3-9ed2-4c34-a3aa-b4c97d1c828e",
   "metadata": {},
   "outputs": [
    {
     "data": {
      "text/html": [
       "<div>\n",
       "<style scoped>\n",
       "    .dataframe tbody tr th:only-of-type {\n",
       "        vertical-align: middle;\n",
       "    }\n",
       "\n",
       "    .dataframe tbody tr th {\n",
       "        vertical-align: top;\n",
       "    }\n",
       "\n",
       "    .dataframe thead th {\n",
       "        text-align: right;\n",
       "    }\n",
       "</style>\n",
       "<table border=\"1\" class=\"dataframe\">\n",
       "  <thead>\n",
       "    <tr style=\"text-align: right;\">\n",
       "      <th></th>\n",
       "      <th>Age</th>\n",
       "      <th>Gender</th>\n",
       "      <th>Weight (kg)</th>\n",
       "      <th>Height (m)</th>\n",
       "      <th>Max_BPM</th>\n",
       "      <th>Avg_BPM</th>\n",
       "      <th>Resting_BPM</th>\n",
       "      <th>Session_Duration (hours)</th>\n",
       "      <th>Calories_Burned</th>\n",
       "      <th>Workout_Type</th>\n",
       "      <th>Fat_Percentage</th>\n",
       "      <th>Water_Intake (liters)</th>\n",
       "      <th>Workout_Frequency (days/week)</th>\n",
       "      <th>Experience_Level</th>\n",
       "      <th>BMI</th>\n",
       "    </tr>\n",
       "  </thead>\n",
       "  <tbody>\n",
       "    <tr>\n",
       "      <th>0</th>\n",
       "      <td>56</td>\n",
       "      <td>Male</td>\n",
       "      <td>88.3</td>\n",
       "      <td>1.71</td>\n",
       "      <td>180</td>\n",
       "      <td>157</td>\n",
       "      <td>60</td>\n",
       "      <td>1.69</td>\n",
       "      <td>1313.0</td>\n",
       "      <td>Yoga</td>\n",
       "      <td>12.6</td>\n",
       "      <td>3.5</td>\n",
       "      <td>4</td>\n",
       "      <td>3</td>\n",
       "      <td>30.20</td>\n",
       "    </tr>\n",
       "    <tr>\n",
       "      <th>1</th>\n",
       "      <td>46</td>\n",
       "      <td>Female</td>\n",
       "      <td>74.9</td>\n",
       "      <td>1.53</td>\n",
       "      <td>179</td>\n",
       "      <td>151</td>\n",
       "      <td>66</td>\n",
       "      <td>1.30</td>\n",
       "      <td>883.0</td>\n",
       "      <td>HIIT</td>\n",
       "      <td>33.9</td>\n",
       "      <td>2.1</td>\n",
       "      <td>4</td>\n",
       "      <td>2</td>\n",
       "      <td>32.00</td>\n",
       "    </tr>\n",
       "    <tr>\n",
       "      <th>2</th>\n",
       "      <td>32</td>\n",
       "      <td>Female</td>\n",
       "      <td>68.1</td>\n",
       "      <td>1.66</td>\n",
       "      <td>167</td>\n",
       "      <td>122</td>\n",
       "      <td>54</td>\n",
       "      <td>1.11</td>\n",
       "      <td>677.0</td>\n",
       "      <td>Cardio</td>\n",
       "      <td>33.4</td>\n",
       "      <td>2.3</td>\n",
       "      <td>4</td>\n",
       "      <td>2</td>\n",
       "      <td>24.71</td>\n",
       "    </tr>\n",
       "    <tr>\n",
       "      <th>3</th>\n",
       "      <td>25</td>\n",
       "      <td>Male</td>\n",
       "      <td>53.2</td>\n",
       "      <td>1.70</td>\n",
       "      <td>190</td>\n",
       "      <td>164</td>\n",
       "      <td>56</td>\n",
       "      <td>0.59</td>\n",
       "      <td>532.0</td>\n",
       "      <td>Strength</td>\n",
       "      <td>28.8</td>\n",
       "      <td>2.1</td>\n",
       "      <td>3</td>\n",
       "      <td>1</td>\n",
       "      <td>18.41</td>\n",
       "    </tr>\n",
       "    <tr>\n",
       "      <th>4</th>\n",
       "      <td>38</td>\n",
       "      <td>Male</td>\n",
       "      <td>46.1</td>\n",
       "      <td>1.79</td>\n",
       "      <td>188</td>\n",
       "      <td>158</td>\n",
       "      <td>68</td>\n",
       "      <td>0.64</td>\n",
       "      <td>556.0</td>\n",
       "      <td>Strength</td>\n",
       "      <td>29.2</td>\n",
       "      <td>2.8</td>\n",
       "      <td>3</td>\n",
       "      <td>1</td>\n",
       "      <td>14.39</td>\n",
       "    </tr>\n",
       "  </tbody>\n",
       "</table>\n",
       "</div>"
      ],
      "text/plain": [
       "   Age  Gender  Weight (kg)  Height (m)  Max_BPM  Avg_BPM  Resting_BPM  \\\n",
       "0   56    Male         88.3        1.71      180      157           60   \n",
       "1   46  Female         74.9        1.53      179      151           66   \n",
       "2   32  Female         68.1        1.66      167      122           54   \n",
       "3   25    Male         53.2        1.70      190      164           56   \n",
       "4   38    Male         46.1        1.79      188      158           68   \n",
       "\n",
       "   Session_Duration (hours)  Calories_Burned Workout_Type  Fat_Percentage  \\\n",
       "0                      1.69           1313.0         Yoga            12.6   \n",
       "1                      1.30            883.0         HIIT            33.9   \n",
       "2                      1.11            677.0       Cardio            33.4   \n",
       "3                      0.59            532.0     Strength            28.8   \n",
       "4                      0.64            556.0     Strength            29.2   \n",
       "\n",
       "   Water_Intake (liters)  Workout_Frequency (days/week)  Experience_Level  \\\n",
       "0                    3.5                              4                 3   \n",
       "1                    2.1                              4                 2   \n",
       "2                    2.3                              4                 2   \n",
       "3                    2.1                              3                 1   \n",
       "4                    2.8                              3                 1   \n",
       "\n",
       "     BMI  \n",
       "0  30.20  \n",
       "1  32.00  \n",
       "2  24.71  \n",
       "3  18.41  \n",
       "4  14.39  "
      ]
     },
     "execution_count": 232,
     "metadata": {},
     "output_type": "execute_result"
    }
   ],
   "source": [
    "df.head()"
   ]
  },
  {
   "cell_type": "code",
   "execution_count": 234,
   "id": "2a2a07b0-b37c-430b-bcb5-dd7d501f4954",
   "metadata": {
    "scrolled": true
   },
   "outputs": [
    {
     "name": "stdout",
     "output_type": "stream",
     "text": [
      "<class 'pandas.core.frame.DataFrame'>\n",
      "RangeIndex: 973 entries, 0 to 972\n",
      "Data columns (total 15 columns):\n",
      " #   Column                         Non-Null Count  Dtype  \n",
      "---  ------                         --------------  -----  \n",
      " 0   Age                            973 non-null    int64  \n",
      " 1   Gender                         973 non-null    object \n",
      " 2   Weight (kg)                    973 non-null    float64\n",
      " 3   Height (m)                     973 non-null    float64\n",
      " 4   Max_BPM                        973 non-null    int64  \n",
      " 5   Avg_BPM                        973 non-null    int64  \n",
      " 6   Resting_BPM                    973 non-null    int64  \n",
      " 7   Session_Duration (hours)       973 non-null    float64\n",
      " 8   Calories_Burned                973 non-null    float64\n",
      " 9   Workout_Type                   973 non-null    object \n",
      " 10  Fat_Percentage                 973 non-null    float64\n",
      " 11  Water_Intake (liters)          973 non-null    float64\n",
      " 12  Workout_Frequency (days/week)  973 non-null    int64  \n",
      " 13  Experience_Level               973 non-null    int64  \n",
      " 14  BMI                            973 non-null    float64\n",
      "dtypes: float64(7), int64(6), object(2)\n",
      "memory usage: 114.2+ KB\n"
     ]
    }
   ],
   "source": [
    "df.info()"
   ]
  },
  {
   "cell_type": "code",
   "execution_count": 236,
   "id": "dd8a577e-3924-4090-805a-6513ad499743",
   "metadata": {},
   "outputs": [
    {
     "data": {
      "application/vnd.plotly.v1+json": {
       "config": {
        "plotlyServerURL": "https://plot.ly"
       },
       "data": [
        {
         "alignmentgroup": "True",
         "hovertemplate": "Workout Type=%{x}<br>Number of Participants=%{y}<extra></extra>",
         "legendgroup": "Strength",
         "marker": {
          "color": "#440154",
          "pattern": {
           "shape": ""
          }
         },
         "name": "Strength",
         "offsetgroup": "Strength",
         "orientation": "v",
         "showlegend": true,
         "textposition": "auto",
         "type": "bar",
         "x": [
          "Strength"
         ],
         "xaxis": "x",
         "y": [
          258
         ],
         "yaxis": "y"
        },
        {
         "alignmentgroup": "True",
         "hovertemplate": "Workout Type=%{x}<br>Number of Participants=%{y}<extra></extra>",
         "legendgroup": "Cardio",
         "marker": {
          "color": "#482878",
          "pattern": {
           "shape": ""
          }
         },
         "name": "Cardio",
         "offsetgroup": "Cardio",
         "orientation": "v",
         "showlegend": true,
         "textposition": "auto",
         "type": "bar",
         "x": [
          "Cardio"
         ],
         "xaxis": "x",
         "y": [
          255
         ],
         "yaxis": "y"
        },
        {
         "alignmentgroup": "True",
         "hovertemplate": "Workout Type=%{x}<br>Number of Participants=%{y}<extra></extra>",
         "legendgroup": "Yoga",
         "marker": {
          "color": "#3e4989",
          "pattern": {
           "shape": ""
          }
         },
         "name": "Yoga",
         "offsetgroup": "Yoga",
         "orientation": "v",
         "showlegend": true,
         "textposition": "auto",
         "type": "bar",
         "x": [
          "Yoga"
         ],
         "xaxis": "x",
         "y": [
          239
         ],
         "yaxis": "y"
        },
        {
         "alignmentgroup": "True",
         "hovertemplate": "Workout Type=%{x}<br>Number of Participants=%{y}<extra></extra>",
         "legendgroup": "HIIT",
         "marker": {
          "color": "#31688e",
          "pattern": {
           "shape": ""
          }
         },
         "name": "HIIT",
         "offsetgroup": "HIIT",
         "orientation": "v",
         "showlegend": true,
         "textposition": "auto",
         "type": "bar",
         "x": [
          "HIIT"
         ],
         "xaxis": "x",
         "y": [
          221
         ],
         "yaxis": "y"
        }
       ],
       "layout": {
        "autosize": true,
        "barmode": "relative",
        "legend": {
         "title": {
          "text": "Workout Type"
         },
         "tracegroupgap": 0
        },
        "template": {
         "data": {
          "bar": [
           {
            "error_x": {
             "color": "#2a3f5f"
            },
            "error_y": {
             "color": "#2a3f5f"
            },
            "marker": {
             "line": {
              "color": "#E5ECF6",
              "width": 0.5
             },
             "pattern": {
              "fillmode": "overlay",
              "size": 10,
              "solidity": 0.2
             }
            },
            "type": "bar"
           }
          ],
          "barpolar": [
           {
            "marker": {
             "line": {
              "color": "#E5ECF6",
              "width": 0.5
             },
             "pattern": {
              "fillmode": "overlay",
              "size": 10,
              "solidity": 0.2
             }
            },
            "type": "barpolar"
           }
          ],
          "carpet": [
           {
            "aaxis": {
             "endlinecolor": "#2a3f5f",
             "gridcolor": "white",
             "linecolor": "white",
             "minorgridcolor": "white",
             "startlinecolor": "#2a3f5f"
            },
            "baxis": {
             "endlinecolor": "#2a3f5f",
             "gridcolor": "white",
             "linecolor": "white",
             "minorgridcolor": "white",
             "startlinecolor": "#2a3f5f"
            },
            "type": "carpet"
           }
          ],
          "choropleth": [
           {
            "colorbar": {
             "outlinewidth": 0,
             "ticks": ""
            },
            "type": "choropleth"
           }
          ],
          "contour": [
           {
            "colorbar": {
             "outlinewidth": 0,
             "ticks": ""
            },
            "colorscale": [
             [
              0,
              "#0d0887"
             ],
             [
              0.1111111111111111,
              "#46039f"
             ],
             [
              0.2222222222222222,
              "#7201a8"
             ],
             [
              0.3333333333333333,
              "#9c179e"
             ],
             [
              0.4444444444444444,
              "#bd3786"
             ],
             [
              0.5555555555555556,
              "#d8576b"
             ],
             [
              0.6666666666666666,
              "#ed7953"
             ],
             [
              0.7777777777777778,
              "#fb9f3a"
             ],
             [
              0.8888888888888888,
              "#fdca26"
             ],
             [
              1,
              "#f0f921"
             ]
            ],
            "type": "contour"
           }
          ],
          "contourcarpet": [
           {
            "colorbar": {
             "outlinewidth": 0,
             "ticks": ""
            },
            "type": "contourcarpet"
           }
          ],
          "heatmap": [
           {
            "colorbar": {
             "outlinewidth": 0,
             "ticks": ""
            },
            "colorscale": [
             [
              0,
              "#0d0887"
             ],
             [
              0.1111111111111111,
              "#46039f"
             ],
             [
              0.2222222222222222,
              "#7201a8"
             ],
             [
              0.3333333333333333,
              "#9c179e"
             ],
             [
              0.4444444444444444,
              "#bd3786"
             ],
             [
              0.5555555555555556,
              "#d8576b"
             ],
             [
              0.6666666666666666,
              "#ed7953"
             ],
             [
              0.7777777777777778,
              "#fb9f3a"
             ],
             [
              0.8888888888888888,
              "#fdca26"
             ],
             [
              1,
              "#f0f921"
             ]
            ],
            "type": "heatmap"
           }
          ],
          "heatmapgl": [
           {
            "colorbar": {
             "outlinewidth": 0,
             "ticks": ""
            },
            "colorscale": [
             [
              0,
              "#0d0887"
             ],
             [
              0.1111111111111111,
              "#46039f"
             ],
             [
              0.2222222222222222,
              "#7201a8"
             ],
             [
              0.3333333333333333,
              "#9c179e"
             ],
             [
              0.4444444444444444,
              "#bd3786"
             ],
             [
              0.5555555555555556,
              "#d8576b"
             ],
             [
              0.6666666666666666,
              "#ed7953"
             ],
             [
              0.7777777777777778,
              "#fb9f3a"
             ],
             [
              0.8888888888888888,
              "#fdca26"
             ],
             [
              1,
              "#f0f921"
             ]
            ],
            "type": "heatmapgl"
           }
          ],
          "histogram": [
           {
            "marker": {
             "pattern": {
              "fillmode": "overlay",
              "size": 10,
              "solidity": 0.2
             }
            },
            "type": "histogram"
           }
          ],
          "histogram2d": [
           {
            "colorbar": {
             "outlinewidth": 0,
             "ticks": ""
            },
            "colorscale": [
             [
              0,
              "#0d0887"
             ],
             [
              0.1111111111111111,
              "#46039f"
             ],
             [
              0.2222222222222222,
              "#7201a8"
             ],
             [
              0.3333333333333333,
              "#9c179e"
             ],
             [
              0.4444444444444444,
              "#bd3786"
             ],
             [
              0.5555555555555556,
              "#d8576b"
             ],
             [
              0.6666666666666666,
              "#ed7953"
             ],
             [
              0.7777777777777778,
              "#fb9f3a"
             ],
             [
              0.8888888888888888,
              "#fdca26"
             ],
             [
              1,
              "#f0f921"
             ]
            ],
            "type": "histogram2d"
           }
          ],
          "histogram2dcontour": [
           {
            "colorbar": {
             "outlinewidth": 0,
             "ticks": ""
            },
            "colorscale": [
             [
              0,
              "#0d0887"
             ],
             [
              0.1111111111111111,
              "#46039f"
             ],
             [
              0.2222222222222222,
              "#7201a8"
             ],
             [
              0.3333333333333333,
              "#9c179e"
             ],
             [
              0.4444444444444444,
              "#bd3786"
             ],
             [
              0.5555555555555556,
              "#d8576b"
             ],
             [
              0.6666666666666666,
              "#ed7953"
             ],
             [
              0.7777777777777778,
              "#fb9f3a"
             ],
             [
              0.8888888888888888,
              "#fdca26"
             ],
             [
              1,
              "#f0f921"
             ]
            ],
            "type": "histogram2dcontour"
           }
          ],
          "mesh3d": [
           {
            "colorbar": {
             "outlinewidth": 0,
             "ticks": ""
            },
            "type": "mesh3d"
           }
          ],
          "parcoords": [
           {
            "line": {
             "colorbar": {
              "outlinewidth": 0,
              "ticks": ""
             }
            },
            "type": "parcoords"
           }
          ],
          "pie": [
           {
            "automargin": true,
            "type": "pie"
           }
          ],
          "scatter": [
           {
            "fillpattern": {
             "fillmode": "overlay",
             "size": 10,
             "solidity": 0.2
            },
            "type": "scatter"
           }
          ],
          "scatter3d": [
           {
            "line": {
             "colorbar": {
              "outlinewidth": 0,
              "ticks": ""
             }
            },
            "marker": {
             "colorbar": {
              "outlinewidth": 0,
              "ticks": ""
             }
            },
            "type": "scatter3d"
           }
          ],
          "scattercarpet": [
           {
            "marker": {
             "colorbar": {
              "outlinewidth": 0,
              "ticks": ""
             }
            },
            "type": "scattercarpet"
           }
          ],
          "scattergeo": [
           {
            "marker": {
             "colorbar": {
              "outlinewidth": 0,
              "ticks": ""
             }
            },
            "type": "scattergeo"
           }
          ],
          "scattergl": [
           {
            "marker": {
             "colorbar": {
              "outlinewidth": 0,
              "ticks": ""
             }
            },
            "type": "scattergl"
           }
          ],
          "scattermapbox": [
           {
            "marker": {
             "colorbar": {
              "outlinewidth": 0,
              "ticks": ""
             }
            },
            "type": "scattermapbox"
           }
          ],
          "scatterpolar": [
           {
            "marker": {
             "colorbar": {
              "outlinewidth": 0,
              "ticks": ""
             }
            },
            "type": "scatterpolar"
           }
          ],
          "scatterpolargl": [
           {
            "marker": {
             "colorbar": {
              "outlinewidth": 0,
              "ticks": ""
             }
            },
            "type": "scatterpolargl"
           }
          ],
          "scatterternary": [
           {
            "marker": {
             "colorbar": {
              "outlinewidth": 0,
              "ticks": ""
             }
            },
            "type": "scatterternary"
           }
          ],
          "surface": [
           {
            "colorbar": {
             "outlinewidth": 0,
             "ticks": ""
            },
            "colorscale": [
             [
              0,
              "#0d0887"
             ],
             [
              0.1111111111111111,
              "#46039f"
             ],
             [
              0.2222222222222222,
              "#7201a8"
             ],
             [
              0.3333333333333333,
              "#9c179e"
             ],
             [
              0.4444444444444444,
              "#bd3786"
             ],
             [
              0.5555555555555556,
              "#d8576b"
             ],
             [
              0.6666666666666666,
              "#ed7953"
             ],
             [
              0.7777777777777778,
              "#fb9f3a"
             ],
             [
              0.8888888888888888,
              "#fdca26"
             ],
             [
              1,
              "#f0f921"
             ]
            ],
            "type": "surface"
           }
          ],
          "table": [
           {
            "cells": {
             "fill": {
              "color": "#EBF0F8"
             },
             "line": {
              "color": "white"
             }
            },
            "header": {
             "fill": {
              "color": "#C8D4E3"
             },
             "line": {
              "color": "white"
             }
            },
            "type": "table"
           }
          ]
         },
         "layout": {
          "annotationdefaults": {
           "arrowcolor": "#2a3f5f",
           "arrowhead": 0,
           "arrowwidth": 1
          },
          "autotypenumbers": "strict",
          "coloraxis": {
           "colorbar": {
            "outlinewidth": 0,
            "ticks": ""
           }
          },
          "colorscale": {
           "diverging": [
            [
             0,
             "#8e0152"
            ],
            [
             0.1,
             "#c51b7d"
            ],
            [
             0.2,
             "#de77ae"
            ],
            [
             0.3,
             "#f1b6da"
            ],
            [
             0.4,
             "#fde0ef"
            ],
            [
             0.5,
             "#f7f7f7"
            ],
            [
             0.6,
             "#e6f5d0"
            ],
            [
             0.7,
             "#b8e186"
            ],
            [
             0.8,
             "#7fbc41"
            ],
            [
             0.9,
             "#4d9221"
            ],
            [
             1,
             "#276419"
            ]
           ],
           "sequential": [
            [
             0,
             "#0d0887"
            ],
            [
             0.1111111111111111,
             "#46039f"
            ],
            [
             0.2222222222222222,
             "#7201a8"
            ],
            [
             0.3333333333333333,
             "#9c179e"
            ],
            [
             0.4444444444444444,
             "#bd3786"
            ],
            [
             0.5555555555555556,
             "#d8576b"
            ],
            [
             0.6666666666666666,
             "#ed7953"
            ],
            [
             0.7777777777777778,
             "#fb9f3a"
            ],
            [
             0.8888888888888888,
             "#fdca26"
            ],
            [
             1,
             "#f0f921"
            ]
           ],
           "sequentialminus": [
            [
             0,
             "#0d0887"
            ],
            [
             0.1111111111111111,
             "#46039f"
            ],
            [
             0.2222222222222222,
             "#7201a8"
            ],
            [
             0.3333333333333333,
             "#9c179e"
            ],
            [
             0.4444444444444444,
             "#bd3786"
            ],
            [
             0.5555555555555556,
             "#d8576b"
            ],
            [
             0.6666666666666666,
             "#ed7953"
            ],
            [
             0.7777777777777778,
             "#fb9f3a"
            ],
            [
             0.8888888888888888,
             "#fdca26"
            ],
            [
             1,
             "#f0f921"
            ]
           ]
          },
          "colorway": [
           "#636efa",
           "#EF553B",
           "#00cc96",
           "#ab63fa",
           "#FFA15A",
           "#19d3f3",
           "#FF6692",
           "#B6E880",
           "#FF97FF",
           "#FECB52"
          ],
          "font": {
           "color": "#2a3f5f"
          },
          "geo": {
           "bgcolor": "white",
           "lakecolor": "white",
           "landcolor": "#E5ECF6",
           "showlakes": true,
           "showland": true,
           "subunitcolor": "white"
          },
          "hoverlabel": {
           "align": "left"
          },
          "hovermode": "closest",
          "mapbox": {
           "style": "light"
          },
          "paper_bgcolor": "white",
          "plot_bgcolor": "#E5ECF6",
          "polar": {
           "angularaxis": {
            "gridcolor": "white",
            "linecolor": "white",
            "ticks": ""
           },
           "bgcolor": "#E5ECF6",
           "radialaxis": {
            "gridcolor": "white",
            "linecolor": "white",
            "ticks": ""
           }
          },
          "scene": {
           "xaxis": {
            "backgroundcolor": "#E5ECF6",
            "gridcolor": "white",
            "gridwidth": 2,
            "linecolor": "white",
            "showbackground": true,
            "ticks": "",
            "zerolinecolor": "white"
           },
           "yaxis": {
            "backgroundcolor": "#E5ECF6",
            "gridcolor": "white",
            "gridwidth": 2,
            "linecolor": "white",
            "showbackground": true,
            "ticks": "",
            "zerolinecolor": "white"
           },
           "zaxis": {
            "backgroundcolor": "#E5ECF6",
            "gridcolor": "white",
            "gridwidth": 2,
            "linecolor": "white",
            "showbackground": true,
            "ticks": "",
            "zerolinecolor": "white"
           }
          },
          "shapedefaults": {
           "line": {
            "color": "#2a3f5f"
           }
          },
          "ternary": {
           "aaxis": {
            "gridcolor": "white",
            "linecolor": "white",
            "ticks": ""
           },
           "baxis": {
            "gridcolor": "white",
            "linecolor": "white",
            "ticks": ""
           },
           "bgcolor": "#E5ECF6",
           "caxis": {
            "gridcolor": "white",
            "linecolor": "white",
            "ticks": ""
           }
          },
          "title": {
           "x": 0.05
          },
          "xaxis": {
           "automargin": true,
           "gridcolor": "white",
           "linecolor": "white",
           "ticks": "",
           "title": {
            "standoff": 15
           },
           "zerolinecolor": "white",
           "zerolinewidth": 2
          },
          "yaxis": {
           "automargin": true,
           "gridcolor": "white",
           "linecolor": "white",
           "ticks": "",
           "title": {
            "standoff": 15
           },
           "zerolinecolor": "white",
           "zerolinewidth": 2
          }
         }
        },
        "title": {
         "text": "Workout Type Distribution"
        },
        "xaxis": {
         "anchor": "y",
         "autorange": true,
         "categoryarray": [
          "Strength",
          "Cardio",
          "Yoga",
          "HIIT"
         ],
         "categoryorder": "array",
         "domain": [
          0,
          1
         ],
         "range": [
          -0.5,
          3.5
         ],
         "title": {
          "text": "Workout Type"
         },
         "type": "category"
        },
        "yaxis": {
         "anchor": "x",
         "autorange": true,
         "domain": [
          0,
          1
         ],
         "range": [
          0,
          271.57894736842104
         ],
         "title": {
          "text": "Number of Participants"
         },
         "type": "linear"
        }
       }
      },
      "image/png": "[encoded data removed]",
      "text/html": [
       "<div>                            <div id=\"e2455329-aa4d-463a-9427-028fd0ecbd29\" class=\"plotly-graph-div\" style=\"height:525px; width:100%;\"></div>            <script type=\"text/javascript\">                require([\"plotly\"], function(Plotly) {                    window.PLOTLYENV=window.PLOTLYENV || {};                                    if (document.getElementById(\"e2455329-aa4d-463a-9427-028fd0ecbd29\")) {                    Plotly.newPlot(                        \"e2455329-aa4d-463a-9427-028fd0ecbd29\",                        [{\"alignmentgroup\":\"True\",\"hovertemplate\":\"Workout Type=%{x}\\u003cbr\\u003eNumber of Participants=%{y}\\u003cextra\\u003e\\u003c\\u002fextra\\u003e\",\"legendgroup\":\"Strength\",\"marker\":{\"color\":\"#440154\",\"pattern\":{\"shape\":\"\"}},\"name\":\"Strength\",\"offsetgroup\":\"Strength\",\"orientation\":\"v\",\"showlegend\":true,\"textposition\":\"auto\",\"x\":[\"Strength\"],\"xaxis\":\"x\",\"y\":[258],\"yaxis\":\"y\",\"type\":\"bar\"},{\"alignmentgroup\":\"True\",\"hovertemplate\":\"Workout Type=%{x}\\u003cbr\\u003eNumber of Participants=%{y}\\u003cextra\\u003e\\u003c\\u002fextra\\u003e\",\"legendgroup\":\"Cardio\",\"marker\":{\"color\":\"#482878\",\"pattern\":{\"shape\":\"\"}},\"name\":\"Cardio\",\"offsetgroup\":\"Cardio\",\"orientation\":\"v\",\"showlegend\":true,\"textposition\":\"auto\",\"x\":[\"Cardio\"],\"xaxis\":\"x\",\"y\":[255],\"yaxis\":\"y\",\"type\":\"bar\"},{\"alignmentgroup\":\"True\",\"hovertemplate\":\"Workout Type=%{x}\\u003cbr\\u003eNumber of Participants=%{y}\\u003cextra\\u003e\\u003c\\u002fextra\\u003e\",\"legendgroup\":\"Yoga\",\"marker\":{\"color\":\"#3e4989\",\"pattern\":{\"shape\":\"\"}},\"name\":\"Yoga\",\"offsetgroup\":\"Yoga\",\"orientation\":\"v\",\"showlegend\":true,\"textposition\":\"auto\",\"x\":[\"Yoga\"],\"xaxis\":\"x\",\"y\":[239],\"yaxis\":\"y\",\"type\":\"bar\"},{\"alignmentgroup\":\"True\",\"hovertemplate\":\"Workout Type=%{x}\\u003cbr\\u003eNumber of Participants=%{y}\\u003cextra\\u003e\\u003c\\u002fextra\\u003e\",\"legendgroup\":\"HIIT\",\"marker\":{\"color\":\"#31688e\",\"pattern\":{\"shape\":\"\"}},\"name\":\"HIIT\",\"offsetgroup\":\"HIIT\",\"orientation\":\"v\",\"showlegend\":true,\"textposition\":\"auto\",\"x\":[\"HIIT\"],\"xaxis\":\"x\",\"y\":[221],\"yaxis\":\"y\",\"type\":\"bar\"}],                        {\"template\":{\"data\":{\"histogram2dcontour\":[{\"type\":\"histogram2dcontour\",\"colorbar\":{\"outlinewidth\":0,\"ticks\":\"\"},\"colorscale\":[[0.0,\"#0d0887\"],[0.1111111111111111,\"#46039f\"],[0.2222222222222222,\"#7201a8\"],[0.3333333333333333,\"#9c179e\"],[0.4444444444444444,\"#bd3786\"],[0.5555555555555556,\"#d8576b\"],[0.6666666666666666,\"#ed7953\"],[0.7777777777777778,\"#fb9f3a\"],[0.8888888888888888,\"#fdca26\"],[1.0,\"#f0f921\"]]}],\"choropleth\":[{\"type\":\"choropleth\",\"colorbar\":{\"outlinewidth\":0,\"ticks\":\"\"}}],\"histogram2d\":[{\"type\":\"histogram2d\",\"colorbar\":{\"outlinewidth\":0,\"ticks\":\"\"},\"colorscale\":[[0.0,\"#0d0887\"],[0.1111111111111111,\"#46039f\"],[0.2222222222222222,\"#7201a8\"],[0.3333333333333333,\"#9c179e\"],[0.4444444444444444,\"#bd3786\"],[0.5555555555555556,\"#d8576b\"],[0.6666666666666666,\"#ed7953\"],[0.7777777777777778,\"#fb9f3a\"],[0.8888888888888888,\"#fdca26\"],[1.0,\"#f0f921\"]]}],\"heatmap\":[{\"type\":\"heatmap\",\"colorbar\":{\"outlinewidth\":0,\"ticks\":\"\"},\"colorscale\":[[0.0,\"#0d0887\"],[0.1111111111111111,\"#46039f\"],[0.2222222222222222,\"#7201a8\"],[0.3333333333333333,\"#9c179e\"],[0.4444444444444444,\"#bd3786\"],[0.5555555555555556,\"#d8576b\"],[0.6666666666666666,\"#ed7953\"],[0.7777777777777778,\"#fb9f3a\"],[0.8888888888888888,\"#fdca26\"],[1.0,\"#f0f921\"]]}],\"heatmapgl\":[{\"type\":\"heatmapgl\",\"colorbar\":{\"outlinewidth\":0,\"ticks\":\"\"},\"colorscale\":[[0.0,\"#0d0887\"],[0.1111111111111111,\"#46039f\"],[0.2222222222222222,\"#7201a8\"],[0.3333333333333333,\"#9c179e\"],[0.4444444444444444,\"#bd3786\"],[0.5555555555555556,\"#d8576b\"],[0.6666666666666666,\"#ed7953\"],[0.7777777777777778,\"#fb9f3a\"],[0.8888888888888888,\"#fdca26\"],[1.0,\"#f0f921\"]]}],\"contourcarpet\":[{\"type\":\"contourcarpet\",\"colorbar\":{\"outlinewidth\":0,\"ticks\":\"\"}}],\"contour\":[{\"type\":\"contour\",\"colorbar\":{\"outlinewidth\":0,\"ticks\":\"\"},\"colorscale\":[[0.0,\"#0d0887\"],[0.1111111111111111,\"#46039f\"],[0.2222222222222222,\"#7201a8\"],[0.3333333333333333,\"#9c179e\"],[0.4444444444444444,\"#bd3786\"],[0.5555555555555556,\"#d8576b\"],[0.6666666666666666,\"#ed7953\"],[0.7777777777777778,\"#fb9f3a\"],[0.8888888888888888,\"#fdca26\"],[1.0,\"#f0f921\"]]}],\"surface\":[{\"type\":\"surface\",\"colorbar\":{\"outlinewidth\":0,\"ticks\":\"\"},\"colorscale\":[[0.0,\"#0d0887\"],[0.1111111111111111,\"#46039f\"],[0.2222222222222222,\"#7201a8\"],[0.3333333333333333,\"#9c179e\"],[0.4444444444444444,\"#bd3786\"],[0.5555555555555556,\"#d8576b\"],[0.6666666666666666,\"#ed7953\"],[0.7777777777777778,\"#fb9f3a\"],[0.8888888888888888,\"#fdca26\"],[1.0,\"#f0f921\"]]}],\"mesh3d\":[{\"type\":\"mesh3d\",\"colorbar\":{\"outlinewidth\":0,\"ticks\":\"\"}}],\"scatter\":[{\"fillpattern\":{\"fillmode\":\"overlay\",\"size\":10,\"solidity\":0.2},\"type\":\"scatter\"}],\"parcoords\":[{\"type\":\"parcoords\",\"line\":{\"colorbar\":{\"outlinewidth\":0,\"ticks\":\"\"}}}],\"scatterpolargl\":[{\"type\":\"scatterpolargl\",\"marker\":{\"colorbar\":{\"outlinewidth\":0,\"ticks\":\"\"}}}],\"bar\":[{\"error_x\":{\"color\":\"#2a3f5f\"},\"error_y\":{\"color\":\"#2a3f5f\"},\"marker\":{\"line\":{\"color\":\"#E5ECF6\",\"width\":0.5},\"pattern\":{\"fillmode\":\"overlay\",\"size\":10,\"solidity\":0.2}},\"type\":\"bar\"}],\"scattergeo\":[{\"type\":\"scattergeo\",\"marker\":{\"colorbar\":{\"outlinewidth\":0,\"ticks\":\"\"}}}],\"scatterpolar\":[{\"type\":\"scatterpolar\",\"marker\":{\"colorbar\":{\"outlinewidth\":0,\"ticks\":\"\"}}}],\"histogram\":[{\"marker\":{\"pattern\":{\"fillmode\":\"overlay\",\"size\":10,\"solidity\":0.2}},\"type\":\"histogram\"}],\"scattergl\":[{\"type\":\"scattergl\",\"marker\":{\"colorbar\":{\"outlinewidth\":0,\"ticks\":\"\"}}}],\"scatter3d\":[{\"type\":\"scatter3d\",\"line\":{\"colorbar\":{\"outlinewidth\":0,\"ticks\":\"\"}},\"marker\":{\"colorbar\":{\"outlinewidth\":0,\"ticks\":\"\"}}}],\"scattermapbox\":[{\"type\":\"scattermapbox\",\"marker\":{\"colorbar\":{\"outlinewidth\":0,\"ticks\":\"\"}}}],\"scatterternary\":[{\"type\":\"scatterternary\",\"marker\":{\"colorbar\":{\"outlinewidth\":0,\"ticks\":\"\"}}}],\"scattercarpet\":[{\"type\":\"scattercarpet\",\"marker\":{\"colorbar\":{\"outlinewidth\":0,\"ticks\":\"\"}}}],\"carpet\":[{\"aaxis\":{\"endlinecolor\":\"#2a3f5f\",\"gridcolor\":\"white\",\"linecolor\":\"white\",\"minorgridcolor\":\"white\",\"startlinecolor\":\"#2a3f5f\"},\"baxis\":{\"endlinecolor\":\"#2a3f5f\",\"gridcolor\":\"white\",\"linecolor\":\"white\",\"minorgridcolor\":\"white\",\"startlinecolor\":\"#2a3f5f\"},\"type\":\"carpet\"}],\"table\":[{\"cells\":{\"fill\":{\"color\":\"#EBF0F8\"},\"line\":{\"color\":\"white\"}},\"header\":{\"fill\":{\"color\":\"#C8D4E3\"},\"line\":{\"color\":\"white\"}},\"type\":\"table\"}],\"barpolar\":[{\"marker\":{\"line\":{\"color\":\"#E5ECF6\",\"width\":0.5},\"pattern\":{\"fillmode\":\"overlay\",\"size\":10,\"solidity\":0.2}},\"type\":\"barpolar\"}],\"pie\":[{\"automargin\":true,\"type\":\"pie\"}]},\"layout\":{\"autotypenumbers\":\"strict\",\"colorway\":[\"#636efa\",\"#EF553B\",\"#00cc96\",\"#ab63fa\",\"#FFA15A\",\"#19d3f3\",\"#FF6692\",\"#B6E880\",\"#FF97FF\",\"#FECB52\"],\"font\":{\"color\":\"#2a3f5f\"},\"hovermode\":\"closest\",\"hoverlabel\":{\"align\":\"left\"},\"paper_bgcolor\":\"white\",\"plot_bgcolor\":\"#E5ECF6\",\"polar\":{\"bgcolor\":\"#E5ECF6\",\"angularaxis\":{\"gridcolor\":\"white\",\"linecolor\":\"white\",\"ticks\":\"\"},\"radialaxis\":{\"gridcolor\":\"white\",\"linecolor\":\"white\",\"ticks\":\"\"}},\"ternary\":{\"bgcolor\":\"#E5ECF6\",\"aaxis\":{\"gridcolor\":\"white\",\"linecolor\":\"white\",\"ticks\":\"\"},\"baxis\":{\"gridcolor\":\"white\",\"linecolor\":\"white\",\"ticks\":\"\"},\"caxis\":{\"gridcolor\":\"white\",\"linecolor\":\"white\",\"ticks\":\"\"}},\"coloraxis\":{\"colorbar\":{\"outlinewidth\":0,\"ticks\":\"\"}},\"colorscale\":{\"sequential\":[[0.0,\"#0d0887\"],[0.1111111111111111,\"#46039f\"],[0.2222222222222222,\"#7201a8\"],[0.3333333333333333,\"#9c179e\"],[0.4444444444444444,\"#bd3786\"],[0.5555555555555556,\"#d8576b\"],[0.6666666666666666,\"#ed7953\"],[0.7777777777777778,\"#fb9f3a\"],[0.8888888888888888,\"#fdca26\"],[1.0,\"#f0f921\"]],\"sequentialminus\":[[0.0,\"#0d0887\"],[0.1111111111111111,\"#46039f\"],[0.2222222222222222,\"#7201a8\"],[0.3333333333333333,\"#9c179e\"],[0.4444444444444444,\"#bd3786\"],[0.5555555555555556,\"#d8576b\"],[0.6666666666666666,\"#ed7953\"],[0.7777777777777778,\"#fb9f3a\"],[0.8888888888888888,\"#fdca26\"],[1.0,\"#f0f921\"]],\"diverging\":[[0,\"#8e0152\"],[0.1,\"#c51b7d\"],[0.2,\"#de77ae\"],[0.3,\"#f1b6da\"],[0.4,\"#fde0ef\"],[0.5,\"#f7f7f7\"],[0.6,\"#e6f5d0\"],[0.7,\"#b8e186\"],[0.8,\"#7fbc41\"],[0.9,\"#4d9221\"],[1,\"#276419\"]]},\"xaxis\":{\"gridcolor\":\"white\",\"linecolor\":\"white\",\"ticks\":\"\",\"title\":{\"standoff\":15},\"zerolinecolor\":\"white\",\"automargin\":true,\"zerolinewidth\":2},\"yaxis\":{\"gridcolor\":\"white\",\"linecolor\":\"white\",\"ticks\":\"\",\"title\":{\"standoff\":15},\"zerolinecolor\":\"white\",\"automargin\":true,\"zerolinewidth\":2},\"scene\":{\"xaxis\":{\"backgroundcolor\":\"#E5ECF6\",\"gridcolor\":\"white\",\"linecolor\":\"white\",\"showbackground\":true,\"ticks\":\"\",\"zerolinecolor\":\"white\",\"gridwidth\":2},\"yaxis\":{\"backgroundcolor\":\"#E5ECF6\",\"gridcolor\":\"white\",\"linecolor\":\"white\",\"showbackground\":true,\"ticks\":\"\",\"zerolinecolor\":\"white\",\"gridwidth\":2},\"zaxis\":{\"backgroundcolor\":\"#E5ECF6\",\"gridcolor\":\"white\",\"linecolor\":\"white\",\"showbackground\":true,\"ticks\":\"\",\"zerolinecolor\":\"white\",\"gridwidth\":2}},\"shapedefaults\":{\"line\":{\"color\":\"#2a3f5f\"}},\"annotationdefaults\":{\"arrowcolor\":\"#2a3f5f\",\"arrowhead\":0,\"arrowwidth\":1},\"geo\":{\"bgcolor\":\"white\",\"landcolor\":\"#E5ECF6\",\"subunitcolor\":\"white\",\"showland\":true,\"showlakes\":true,\"lakecolor\":\"white\"},\"title\":{\"x\":0.05},\"mapbox\":{\"style\":\"light\"}}},\"xaxis\":{\"anchor\":\"y\",\"domain\":[0.0,1.0],\"title\":{\"text\":\"Workout Type\"},\"categoryorder\":\"array\",\"categoryarray\":[\"Strength\",\"Cardio\",\"Yoga\",\"HIIT\"]},\"yaxis\":{\"anchor\":\"x\",\"domain\":[0.0,1.0],\"title\":{\"text\":\"Number of Participants\"}},\"legend\":{\"title\":{\"text\":\"Workout Type\"},\"tracegroupgap\":0},\"title\":{\"text\":\"Workout Type Distribution\"},\"barmode\":\"relative\"},                        {\"responsive\": true}                    ).then(function(){\n",
       "                            \n",
       "var gd = document.getElementById('e2455329-aa4d-463a-9427-028fd0ecbd29');\n",
       "var x = new MutationObserver(function (mutations, observer) {{\n",
       "        var display = window.getComputedStyle(gd).display;\n",
       "        if (!display || display === 'none') {{\n",
       "            console.log([gd, 'removed!']);\n",
       "            Plotly.purge(gd);\n",
       "            observer.disconnect();\n",
       "        }}\n",
       "}});\n",
       "\n",
       "// Listen for the removal of the full notebook cells\n",
       "var notebookContainer = gd.closest('#notebook-container');\n",
       "if (notebookContainer) {{\n",
       "    x.observe(notebookContainer, {childList: true});\n",
       "}}\n",
       "\n",
       "// Listen for the clearing of the current output cell\n",
       "var outputEl = gd.closest('.output');\n",
       "if (outputEl) {{\n",
       "    x.observe(outputEl, {childList: true});\n",
       "}}\n",
       "\n",
       "                        })                };                });            </script>        </div>"
      ]
     },
     "metadata": {},
     "output_type": "display_data"
    }
   ],
   "source": [
    "workout_counts = df['Workout_Type'].value_counts().reset_index()\n",
    "workout_counts.columns = ['Workout_Type', 'Count']\n",
    "\n",
    "# Create a bar plot using Plotly Express\n",
    "fig = px.bar(\n",
    "    workout_counts, \n",
    "    x='Workout_Type', \n",
    "    y='Count', \n",
    "    color='Workout_Type', \n",
    "    title='Workout Type Distribution',\n",
    "    labels={'Workout_Type': 'Workout Type', 'Count': 'Number of Participants'},\n",
    "    color_discrete_sequence=px.colors.sequential.Viridis\n",
    ")\n",
    "\n",
    "fig.show()"
   ]
  },
  {
   "cell_type": "code",
   "execution_count": 238,
   "id": "7563e8d6-adda-4c1c-9801-e3ef7d8179f9",
   "metadata": {},
   "outputs": [
    {
     "data": {
      "application/vnd.plotly.v1+json": {
       "config": {
        "plotlyServerURL": "https://plot.ly"
       },
       "data": [
        {
         "alignmentgroup": "True",
         "hovertemplate": "Gender=Female<br>Workout Type=%{x}<br>Number of Participants=%{y}<extra></extra>",
         "legendgroup": "Female",
         "marker": {
          "color": "#440154",
          "pattern": {
           "shape": ""
          }
         },
         "name": "Female",
         "offsetgroup": "Female",
         "orientation": "v",
         "showlegend": true,
         "textposition": "auto",
         "type": "bar",
         "x": [
          "Cardio",
          "HIIT",
          "Strength",
          "Yoga"
         ],
         "xaxis": "x",
         "y": [
          126,
          107,
          123,
          106
         ],
         "yaxis": "y"
        },
        {
         "alignmentgroup": "True",
         "hovertemplate": "Gender=Male<br>Workout Type=%{x}<br>Number of Participants=%{y}<extra></extra>",
         "legendgroup": "Male",
         "marker": {
          "color": "#482878",
          "pattern": {
           "shape": ""
          }
         },
         "name": "Male",
         "offsetgroup": "Male",
         "orientation": "v",
         "showlegend": true,
         "textposition": "auto",
         "type": "bar",
         "x": [
          "Cardio",
          "HIIT",
          "Strength",
          "Yoga"
         ],
         "xaxis": "x",
         "y": [
          129,
          114,
          135,
          133
         ],
         "yaxis": "y"
        }
       ],
       "layout": {
        "autosize": true,
        "barmode": "group",
        "legend": {
         "title": {
          "text": "Gender"
         },
         "tracegroupgap": 0
        },
        "template": {
         "data": {
          "bar": [
           {
            "error_x": {
             "color": "#2a3f5f"
            },
            "error_y": {
             "color": "#2a3f5f"
            },
            "marker": {
             "line": {
              "color": "#E5ECF6",
              "width": 0.5
             },
             "pattern": {
              "fillmode": "overlay",
              "size": 10,
              "solidity": 0.2
             }
            },
            "type": "bar"
           }
          ],
          "barpolar": [
           {
            "marker": {
             "line": {
              "color": "#E5ECF6",
              "width": 0.5
             },
             "pattern": {
              "fillmode": "overlay",
              "size": 10,
              "solidity": 0.2
             }
            },
            "type": "barpolar"
           }
          ],
          "carpet": [
           {
            "aaxis": {
             "endlinecolor": "#2a3f5f",
             "gridcolor": "white",
             "linecolor": "white",
             "minorgridcolor": "white",
             "startlinecolor": "#2a3f5f"
            },
            "baxis": {
             "endlinecolor": "#2a3f5f",
             "gridcolor": "white",
             "linecolor": "white",
             "minorgridcolor": "white",
             "startlinecolor": "#2a3f5f"
            },
            "type": "carpet"
           }
          ],
          "choropleth": [
           {
            "colorbar": {
             "outlinewidth": 0,
             "ticks": ""
            },
            "type": "choropleth"
           }
          ],
          "contour": [
           {
            "colorbar": {
             "outlinewidth": 0,
             "ticks": ""
            },
            "colorscale": [
             [
              0,
              "#0d0887"
             ],
             [
              0.1111111111111111,
              "#46039f"
             ],
             [
              0.2222222222222222,
              "#7201a8"
             ],
             [
              0.3333333333333333,
              "#9c179e"
             ],
             [
              0.4444444444444444,
              "#bd3786"
             ],
             [
              0.5555555555555556,
              "#d8576b"
             ],
             [
              0.6666666666666666,
              "#ed7953"
             ],
             [
              0.7777777777777778,
              "#fb9f3a"
             ],
             [
              0.8888888888888888,
              "#fdca26"
             ],
             [
              1,
              "#f0f921"
             ]
            ],
            "type": "contour"
           }
          ],
          "contourcarpet": [
           {
            "colorbar": {
             "outlinewidth": 0,
             "ticks": ""
            },
            "type": "contourcarpet"
           }
          ],
          "heatmap": [
           {
            "colorbar": {
             "outlinewidth": 0,
             "ticks": ""
            },
            "colorscale": [
             [
              0,
              "#0d0887"
             ],
             [
              0.1111111111111111,
              "#46039f"
             ],
             [
              0.2222222222222222,
              "#7201a8"
             ],
             [
              0.3333333333333333,
              "#9c179e"
             ],
             [
              0.4444444444444444,
              "#bd3786"
             ],
             [
              0.5555555555555556,
              "#d8576b"
             ],
             [
              0.6666666666666666,
              "#ed7953"
             ],
             [
              0.7777777777777778,
              "#fb9f3a"
             ],
             [
              0.8888888888888888,
              "#fdca26"
             ],
             [
              1,
              "#f0f921"
             ]
            ],
            "type": "heatmap"
           }
          ],
          "heatmapgl": [
           {
            "colorbar": {
             "outlinewidth": 0,
             "ticks": ""
            },
            "colorscale": [
             [
              0,
              "#0d0887"
             ],
             [
              0.1111111111111111,
              "#46039f"
             ],
             [
              0.2222222222222222,
              "#7201a8"
             ],
             [
              0.3333333333333333,
              "#9c179e"
             ],
             [
              0.4444444444444444,
              "#bd3786"
             ],
             [
              0.5555555555555556,
              "#d8576b"
             ],
             [
              0.6666666666666666,
              "#ed7953"
             ],
             [
              0.7777777777777778,
              "#fb9f3a"
             ],
             [
              0.8888888888888888,
              "#fdca26"
             ],
             [
              1,
              "#f0f921"
             ]
            ],
            "type": "heatmapgl"
           }
          ],
          "histogram": [
           {
            "marker": {
             "pattern": {
              "fillmode": "overlay",
              "size": 10,
              "solidity": 0.2
             }
            },
            "type": "histogram"
           }
          ],
          "histogram2d": [
           {
            "colorbar": {
             "outlinewidth": 0,
             "ticks": ""
            },
            "colorscale": [
             [
              0,
              "#0d0887"
             ],
             [
              0.1111111111111111,
              "#46039f"
             ],
             [
              0.2222222222222222,
              "#7201a8"
             ],
             [
              0.3333333333333333,
              "#9c179e"
             ],
             [
              0.4444444444444444,
              "#bd3786"
             ],
             [
              0.5555555555555556,
              "#d8576b"
             ],
             [
              0.6666666666666666,
              "#ed7953"
             ],
             [
              0.7777777777777778,
              "#fb9f3a"
             ],
             [
              0.8888888888888888,
              "#fdca26"
             ],
             [
              1,
              "#f0f921"
             ]
            ],
            "type": "histogram2d"
           }
          ],
          "histogram2dcontour": [
           {
            "colorbar": {
             "outlinewidth": 0,
             "ticks": ""
            },
            "colorscale": [
             [
              0,
              "#0d0887"
             ],
             [
              0.1111111111111111,
              "#46039f"
             ],
             [
              0.2222222222222222,
              "#7201a8"
             ],
             [
              0.3333333333333333,
              "#9c179e"
             ],
             [
              0.4444444444444444,
              "#bd3786"
             ],
             [
              0.5555555555555556,
              "#d8576b"
             ],
             [
              0.6666666666666666,
              "#ed7953"
             ],
             [
              0.7777777777777778,
              "#fb9f3a"
             ],
             [
              0.8888888888888888,
              "#fdca26"
             ],
             [
              1,
              "#f0f921"
             ]
            ],
            "type": "histogram2dcontour"
           }
          ],
          "mesh3d": [
           {
            "colorbar": {
             "outlinewidth": 0,
             "ticks": ""
            },
            "type": "mesh3d"
           }
          ],
          "parcoords": [
           {
            "line": {
             "colorbar": {
              "outlinewidth": 0,
              "ticks": ""
             }
            },
            "type": "parcoords"
           }
          ],
          "pie": [
           {
            "automargin": true,
            "type": "pie"
           }
          ],
          "scatter": [
           {
            "fillpattern": {
             "fillmode": "overlay",
             "size": 10,
             "solidity": 0.2
            },
            "type": "scatter"
           }
          ],
          "scatter3d": [
           {
            "line": {
             "colorbar": {
              "outlinewidth": 0,
              "ticks": ""
             }
            },
            "marker": {
             "colorbar": {
              "outlinewidth": 0,
              "ticks": ""
             }
            },
            "type": "scatter3d"
           }
          ],
          "scattercarpet": [
           {
            "marker": {
             "colorbar": {
              "outlinewidth": 0,
              "ticks": ""
             }
            },
            "type": "scattercarpet"
           }
          ],
          "scattergeo": [
           {
            "marker": {
             "colorbar": {
              "outlinewidth": 0,
              "ticks": ""
             }
            },
            "type": "scattergeo"
           }
          ],
          "scattergl": [
           {
            "marker": {
             "colorbar": {
              "outlinewidth": 0,
              "ticks": ""
             }
            },
            "type": "scattergl"
           }
          ],
          "scattermapbox": [
           {
            "marker": {
             "colorbar": {
              "outlinewidth": 0,
              "ticks": ""
             }
            },
            "type": "scattermapbox"
           }
          ],
          "scatterpolar": [
           {
            "marker": {
             "colorbar": {
              "outlinewidth": 0,
              "ticks": ""
             }
            },
            "type": "scatterpolar"
           }
          ],
          "scatterpolargl": [
           {
            "marker": {
             "colorbar": {
              "outlinewidth": 0,
              "ticks": ""
             }
            },
            "type": "scatterpolargl"
           }
          ],
          "scatterternary": [
           {
            "marker": {
             "colorbar": {
              "outlinewidth": 0,
              "ticks": ""
             }
            },
            "type": "scatterternary"
           }
          ],
          "surface": [
           {
            "colorbar": {
             "outlinewidth": 0,
             "ticks": ""
            },
            "colorscale": [
             [
              0,
              "#0d0887"
             ],
             [
              0.1111111111111111,
              "#46039f"
             ],
             [
              0.2222222222222222,
              "#7201a8"
             ],
             [
              0.3333333333333333,
              "#9c179e"
             ],
             [
              0.4444444444444444,
              "#bd3786"
             ],
             [
              0.5555555555555556,
              "#d8576b"
             ],
             [
              0.6666666666666666,
              "#ed7953"
             ],
             [
              0.7777777777777778,
              "#fb9f3a"
             ],
             [
              0.8888888888888888,
              "#fdca26"
             ],
             [
              1,
              "#f0f921"
             ]
            ],
            "type": "surface"
           }
          ],
          "table": [
           {
            "cells": {
             "fill": {
              "color": "#EBF0F8"
             },
             "line": {
              "color": "white"
             }
            },
            "header": {
             "fill": {
              "color": "#C8D4E3"
             },
             "line": {
              "color": "white"
             }
            },
            "type": "table"
           }
          ]
         },
         "layout": {
          "annotationdefaults": {
           "arrowcolor": "#2a3f5f",
           "arrowhead": 0,
           "arrowwidth": 1
          },
          "autotypenumbers": "strict",
          "coloraxis": {
           "colorbar": {
            "outlinewidth": 0,
            "ticks": ""
           }
          },
          "colorscale": {
           "diverging": [
            [
             0,
             "#8e0152"
            ],
            [
             0.1,
             "#c51b7d"
            ],
            [
             0.2,
             "#de77ae"
            ],
            [
             0.3,
             "#f1b6da"
            ],
            [
             0.4,
             "#fde0ef"
            ],
            [
             0.5,
             "#f7f7f7"
            ],
            [
             0.6,
             "#e6f5d0"
            ],
            [
             0.7,
             "#b8e186"
            ],
            [
             0.8,
             "#7fbc41"
            ],
            [
             0.9,
             "#4d9221"
            ],
            [
             1,
             "#276419"
            ]
           ],
           "sequential": [
            [
             0,
             "#0d0887"
            ],
            [
             0.1111111111111111,
             "#46039f"
            ],
            [
             0.2222222222222222,
             "#7201a8"
            ],
            [
             0.3333333333333333,
             "#9c179e"
            ],
            [
             0.4444444444444444,
             "#bd3786"
            ],
            [
             0.5555555555555556,
             "#d8576b"
            ],
            [
             0.6666666666666666,
             "#ed7953"
            ],
            [
             0.7777777777777778,
             "#fb9f3a"
            ],
            [
             0.8888888888888888,
             "#fdca26"
            ],
            [
             1,
             "#f0f921"
            ]
           ],
           "sequentialminus": [
            [
             0,
             "#0d0887"
            ],
            [
             0.1111111111111111,
             "#46039f"
            ],
            [
             0.2222222222222222,
             "#7201a8"
            ],
            [
             0.3333333333333333,
             "#9c179e"
            ],
            [
             0.4444444444444444,
             "#bd3786"
            ],
            [
             0.5555555555555556,
             "#d8576b"
            ],
            [
             0.6666666666666666,
             "#ed7953"
            ],
            [
             0.7777777777777778,
             "#fb9f3a"
            ],
            [
             0.8888888888888888,
             "#fdca26"
            ],
            [
             1,
             "#f0f921"
            ]
           ]
          },
          "colorway": [
           "#636efa",
           "#EF553B",
           "#00cc96",
           "#ab63fa",
           "#FFA15A",
           "#19d3f3",
           "#FF6692",
           "#B6E880",
           "#FF97FF",
           "#FECB52"
          ],
          "font": {
           "color": "#2a3f5f"
          },
          "geo": {
           "bgcolor": "white",
           "lakecolor": "white",
           "landcolor": "#E5ECF6",
           "showlakes": true,
           "showland": true,
           "subunitcolor": "white"
          },
          "hoverlabel": {
           "align": "left"
          },
          "hovermode": "closest",
          "mapbox": {
           "style": "light"
          },
          "paper_bgcolor": "white",
          "plot_bgcolor": "#E5ECF6",
          "polar": {
           "angularaxis": {
            "gridcolor": "white",
            "linecolor": "white",
            "ticks": ""
           },
           "bgcolor": "#E5ECF6",
           "radialaxis": {
            "gridcolor": "white",
            "linecolor": "white",
            "ticks": ""
           }
          },
          "scene": {
           "xaxis": {
            "backgroundcolor": "#E5ECF6",
            "gridcolor": "white",
            "gridwidth": 2,
            "linecolor": "white",
            "showbackground": true,
            "ticks": "",
            "zerolinecolor": "white"
           },
           "yaxis": {
            "backgroundcolor": "#E5ECF6",
            "gridcolor": "white",
            "gridwidth": 2,
            "linecolor": "white",
            "showbackground": true,
            "ticks": "",
            "zerolinecolor": "white"
           },
           "zaxis": {
            "backgroundcolor": "#E5ECF6",
            "gridcolor": "white",
            "gridwidth": 2,
            "linecolor": "white",
            "showbackground": true,
            "ticks": "",
            "zerolinecolor": "white"
           }
          },
          "shapedefaults": {
           "line": {
            "color": "#2a3f5f"
           }
          },
          "ternary": {
           "aaxis": {
            "gridcolor": "white",
            "linecolor": "white",
            "ticks": ""
           },
           "baxis": {
            "gridcolor": "white",
            "linecolor": "white",
            "ticks": ""
           },
           "bgcolor": "#E5ECF6",
           "caxis": {
            "gridcolor": "white",
            "linecolor": "white",
            "ticks": ""
           }
          },
          "title": {
           "x": 0.05
          },
          "xaxis": {
           "automargin": true,
           "gridcolor": "white",
           "linecolor": "white",
           "ticks": "",
           "title": {
            "standoff": 15
           },
           "zerolinecolor": "white",
           "zerolinewidth": 2
          },
          "yaxis": {
           "automargin": true,
           "gridcolor": "white",
           "linecolor": "white",
           "ticks": "",
           "title": {
            "standoff": 15
           },
           "zerolinecolor": "white",
           "zerolinewidth": 2
          }
         }
        },
        "title": {
         "text": "Gender Distribution Across Workout Types"
        },
        "xaxis": {
         "anchor": "y",
         "autorange": true,
         "domain": [
          0,
          1
         ],
         "range": [
          -0.5,
          3.5
         ],
         "title": {
          "text": "Workout Type"
         },
         "type": "category"
        },
        "yaxis": {
         "anchor": "x",
         "autorange": true,
         "domain": [
          0,
          1
         ],
         "range": [
          0,
          142.10526315789474
         ],
         "title": {
          "text": "Number of Participants"
         },
         "type": "linear"
        }
       }
      },
      "image/png": "[encoded data removed]",
      "text/html": [
       "<div>                            <div id=\"04c52aa9-2c8c-4f77-a812-2c9c1119c001\" class=\"plotly-graph-div\" style=\"height:525px; width:100%;\"></div>            <script type=\"text/javascript\">                require([\"plotly\"], function(Plotly) {                    window.PLOTLYENV=window.PLOTLYENV || {};                                    if (document.getElementById(\"04c52aa9-2c8c-4f77-a812-2c9c1119c001\")) {                    Plotly.newPlot(                        \"04c52aa9-2c8c-4f77-a812-2c9c1119c001\",                        [{\"alignmentgroup\":\"True\",\"hovertemplate\":\"Gender=Female\\u003cbr\\u003eWorkout Type=%{x}\\u003cbr\\u003eNumber of Participants=%{y}\\u003cextra\\u003e\\u003c\\u002fextra\\u003e\",\"legendgroup\":\"Female\",\"marker\":{\"color\":\"#440154\",\"pattern\":{\"shape\":\"\"}},\"name\":\"Female\",\"offsetgroup\":\"Female\",\"orientation\":\"v\",\"showlegend\":true,\"textposition\":\"auto\",\"x\":[\"Cardio\",\"HIIT\",\"Strength\",\"Yoga\"],\"xaxis\":\"x\",\"y\":[126,107,123,106],\"yaxis\":\"y\",\"type\":\"bar\"},{\"alignmentgroup\":\"True\",\"hovertemplate\":\"Gender=Male\\u003cbr\\u003eWorkout Type=%{x}\\u003cbr\\u003eNumber of Participants=%{y}\\u003cextra\\u003e\\u003c\\u002fextra\\u003e\",\"legendgroup\":\"Male\",\"marker\":{\"color\":\"#482878\",\"pattern\":{\"shape\":\"\"}},\"name\":\"Male\",\"offsetgroup\":\"Male\",\"orientation\":\"v\",\"showlegend\":true,\"textposition\":\"auto\",\"x\":[\"Cardio\",\"HIIT\",\"Strength\",\"Yoga\"],\"xaxis\":\"x\",\"y\":[129,114,135,133],\"yaxis\":\"y\",\"type\":\"bar\"}],                        {\"template\":{\"data\":{\"histogram2dcontour\":[{\"type\":\"histogram2dcontour\",\"colorbar\":{\"outlinewidth\":0,\"ticks\":\"\"},\"colorscale\":[[0.0,\"#0d0887\"],[0.1111111111111111,\"#46039f\"],[0.2222222222222222,\"#7201a8\"],[0.3333333333333333,\"#9c179e\"],[0.4444444444444444,\"#bd3786\"],[0.5555555555555556,\"#d8576b\"],[0.6666666666666666,\"#ed7953\"],[0.7777777777777778,\"#fb9f3a\"],[0.8888888888888888,\"#fdca26\"],[1.0,\"#f0f921\"]]}],\"choropleth\":[{\"type\":\"choropleth\",\"colorbar\":{\"outlinewidth\":0,\"ticks\":\"\"}}],\"histogram2d\":[{\"type\":\"histogram2d\",\"colorbar\":{\"outlinewidth\":0,\"ticks\":\"\"},\"colorscale\":[[0.0,\"#0d0887\"],[0.1111111111111111,\"#46039f\"],[0.2222222222222222,\"#7201a8\"],[0.3333333333333333,\"#9c179e\"],[0.4444444444444444,\"#bd3786\"],[0.5555555555555556,\"#d8576b\"],[0.6666666666666666,\"#ed7953\"],[0.7777777777777778,\"#fb9f3a\"],[0.8888888888888888,\"#fdca26\"],[1.0,\"#f0f921\"]]}],\"heatmap\":[{\"type\":\"heatmap\",\"colorbar\":{\"outlinewidth\":0,\"ticks\":\"\"},\"colorscale\":[[0.0,\"#0d0887\"],[0.1111111111111111,\"#46039f\"],[0.2222222222222222,\"#7201a8\"],[0.3333333333333333,\"#9c179e\"],[0.4444444444444444,\"#bd3786\"],[0.5555555555555556,\"#d8576b\"],[0.6666666666666666,\"#ed7953\"],[0.7777777777777778,\"#fb9f3a\"],[0.8888888888888888,\"#fdca26\"],[1.0,\"#f0f921\"]]}],\"heatmapgl\":[{\"type\":\"heatmapgl\",\"colorbar\":{\"outlinewidth\":0,\"ticks\":\"\"},\"colorscale\":[[0.0,\"#0d0887\"],[0.1111111111111111,\"#46039f\"],[0.2222222222222222,\"#7201a8\"],[0.3333333333333333,\"#9c179e\"],[0.4444444444444444,\"#bd3786\"],[0.5555555555555556,\"#d8576b\"],[0.6666666666666666,\"#ed7953\"],[0.7777777777777778,\"#fb9f3a\"],[0.8888888888888888,\"#fdca26\"],[1.0,\"#f0f921\"]]}],\"contourcarpet\":[{\"type\":\"contourcarpet\",\"colorbar\":{\"outlinewidth\":0,\"ticks\":\"\"}}],\"contour\":[{\"type\":\"contour\",\"colorbar\":{\"outlinewidth\":0,\"ticks\":\"\"},\"colorscale\":[[0.0,\"#0d0887\"],[0.1111111111111111,\"#46039f\"],[0.2222222222222222,\"#7201a8\"],[0.3333333333333333,\"#9c179e\"],[0.4444444444444444,\"#bd3786\"],[0.5555555555555556,\"#d8576b\"],[0.6666666666666666,\"#ed7953\"],[0.7777777777777778,\"#fb9f3a\"],[0.8888888888888888,\"#fdca26\"],[1.0,\"#f0f921\"]]}],\"surface\":[{\"type\":\"surface\",\"colorbar\":{\"outlinewidth\":0,\"ticks\":\"\"},\"colorscale\":[[0.0,\"#0d0887\"],[0.1111111111111111,\"#46039f\"],[0.2222222222222222,\"#7201a8\"],[0.3333333333333333,\"#9c179e\"],[0.4444444444444444,\"#bd3786\"],[0.5555555555555556,\"#d8576b\"],[0.6666666666666666,\"#ed7953\"],[0.7777777777777778,\"#fb9f3a\"],[0.8888888888888888,\"#fdca26\"],[1.0,\"#f0f921\"]]}],\"mesh3d\":[{\"type\":\"mesh3d\",\"colorbar\":{\"outlinewidth\":0,\"ticks\":\"\"}}],\"scatter\":[{\"fillpattern\":{\"fillmode\":\"overlay\",\"size\":10,\"solidity\":0.2},\"type\":\"scatter\"}],\"parcoords\":[{\"type\":\"parcoords\",\"line\":{\"colorbar\":{\"outlinewidth\":0,\"ticks\":\"\"}}}],\"scatterpolargl\":[{\"type\":\"scatterpolargl\",\"marker\":{\"colorbar\":{\"outlinewidth\":0,\"ticks\":\"\"}}}],\"bar\":[{\"error_x\":{\"color\":\"#2a3f5f\"},\"error_y\":{\"color\":\"#2a3f5f\"},\"marker\":{\"line\":{\"color\":\"#E5ECF6\",\"width\":0.5},\"pattern\":{\"fillmode\":\"overlay\",\"size\":10,\"solidity\":0.2}},\"type\":\"bar\"}],\"scattergeo\":[{\"type\":\"scattergeo\",\"marker\":{\"colorbar\":{\"outlinewidth\":0,\"ticks\":\"\"}}}],\"scatterpolar\":[{\"type\":\"scatterpolar\",\"marker\":{\"colorbar\":{\"outlinewidth\":0,\"ticks\":\"\"}}}],\"histogram\":[{\"marker\":{\"pattern\":{\"fillmode\":\"overlay\",\"size\":10,\"solidity\":0.2}},\"type\":\"histogram\"}],\"scattergl\":[{\"type\":\"scattergl\",\"marker\":{\"colorbar\":{\"outlinewidth\":0,\"ticks\":\"\"}}}],\"scatter3d\":[{\"type\":\"scatter3d\",\"line\":{\"colorbar\":{\"outlinewidth\":0,\"ticks\":\"\"}},\"marker\":{\"colorbar\":{\"outlinewidth\":0,\"ticks\":\"\"}}}],\"scattermapbox\":[{\"type\":\"scattermapbox\",\"marker\":{\"colorbar\":{\"outlinewidth\":0,\"ticks\":\"\"}}}],\"scatterternary\":[{\"type\":\"scatterternary\",\"marker\":{\"colorbar\":{\"outlinewidth\":0,\"ticks\":\"\"}}}],\"scattercarpet\":[{\"type\":\"scattercarpet\",\"marker\":{\"colorbar\":{\"outlinewidth\":0,\"ticks\":\"\"}}}],\"carpet\":[{\"aaxis\":{\"endlinecolor\":\"#2a3f5f\",\"gridcolor\":\"white\",\"linecolor\":\"white\",\"minorgridcolor\":\"white\",\"startlinecolor\":\"#2a3f5f\"},\"baxis\":{\"endlinecolor\":\"#2a3f5f\",\"gridcolor\":\"white\",\"linecolor\":\"white\",\"minorgridcolor\":\"white\",\"startlinecolor\":\"#2a3f5f\"},\"type\":\"carpet\"}],\"table\":[{\"cells\":{\"fill\":{\"color\":\"#EBF0F8\"},\"line\":{\"color\":\"white\"}},\"header\":{\"fill\":{\"color\":\"#C8D4E3\"},\"line\":{\"color\":\"white\"}},\"type\":\"table\"}],\"barpolar\":[{\"marker\":{\"line\":{\"color\":\"#E5ECF6\",\"width\":0.5},\"pattern\":{\"fillmode\":\"overlay\",\"size\":10,\"solidity\":0.2}},\"type\":\"barpolar\"}],\"pie\":[{\"automargin\":true,\"type\":\"pie\"}]},\"layout\":{\"autotypenumbers\":\"strict\",\"colorway\":[\"#636efa\",\"#EF553B\",\"#00cc96\",\"#ab63fa\",\"#FFA15A\",\"#19d3f3\",\"#FF6692\",\"#B6E880\",\"#FF97FF\",\"#FECB52\"],\"font\":{\"color\":\"#2a3f5f\"},\"hovermode\":\"closest\",\"hoverlabel\":{\"align\":\"left\"},\"paper_bgcolor\":\"white\",\"plot_bgcolor\":\"#E5ECF6\",\"polar\":{\"bgcolor\":\"#E5ECF6\",\"angularaxis\":{\"gridcolor\":\"white\",\"linecolor\":\"white\",\"ticks\":\"\"},\"radialaxis\":{\"gridcolor\":\"white\",\"linecolor\":\"white\",\"ticks\":\"\"}},\"ternary\":{\"bgcolor\":\"#E5ECF6\",\"aaxis\":{\"gridcolor\":\"white\",\"linecolor\":\"white\",\"ticks\":\"\"},\"baxis\":{\"gridcolor\":\"white\",\"linecolor\":\"white\",\"ticks\":\"\"},\"caxis\":{\"gridcolor\":\"white\",\"linecolor\":\"white\",\"ticks\":\"\"}},\"coloraxis\":{\"colorbar\":{\"outlinewidth\":0,\"ticks\":\"\"}},\"colorscale\":{\"sequential\":[[0.0,\"#0d0887\"],[0.1111111111111111,\"#46039f\"],[0.2222222222222222,\"#7201a8\"],[0.3333333333333333,\"#9c179e\"],[0.4444444444444444,\"#bd3786\"],[0.5555555555555556,\"#d8576b\"],[0.6666666666666666,\"#ed7953\"],[0.7777777777777778,\"#fb9f3a\"],[0.8888888888888888,\"#fdca26\"],[1.0,\"#f0f921\"]],\"sequentialminus\":[[0.0,\"#0d0887\"],[0.1111111111111111,\"#46039f\"],[0.2222222222222222,\"#7201a8\"],[0.3333333333333333,\"#9c179e\"],[0.4444444444444444,\"#bd3786\"],[0.5555555555555556,\"#d8576b\"],[0.6666666666666666,\"#ed7953\"],[0.7777777777777778,\"#fb9f3a\"],[0.8888888888888888,\"#fdca26\"],[1.0,\"#f0f921\"]],\"diverging\":[[0,\"#8e0152\"],[0.1,\"#c51b7d\"],[0.2,\"#de77ae\"],[0.3,\"#f1b6da\"],[0.4,\"#fde0ef\"],[0.5,\"#f7f7f7\"],[0.6,\"#e6f5d0\"],[0.7,\"#b8e186\"],[0.8,\"#7fbc41\"],[0.9,\"#4d9221\"],[1,\"#276419\"]]},\"xaxis\":{\"gridcolor\":\"white\",\"linecolor\":\"white\",\"ticks\":\"\",\"title\":{\"standoff\":15},\"zerolinecolor\":\"white\",\"automargin\":true,\"zerolinewidth\":2},\"yaxis\":{\"gridcolor\":\"white\",\"linecolor\":\"white\",\"ticks\":\"\",\"title\":{\"standoff\":15},\"zerolinecolor\":\"white\",\"automargin\":true,\"zerolinewidth\":2},\"scene\":{\"xaxis\":{\"backgroundcolor\":\"#E5ECF6\",\"gridcolor\":\"white\",\"linecolor\":\"white\",\"showbackground\":true,\"ticks\":\"\",\"zerolinecolor\":\"white\",\"gridwidth\":2},\"yaxis\":{\"backgroundcolor\":\"#E5ECF6\",\"gridcolor\":\"white\",\"linecolor\":\"white\",\"showbackground\":true,\"ticks\":\"\",\"zerolinecolor\":\"white\",\"gridwidth\":2},\"zaxis\":{\"backgroundcolor\":\"#E5ECF6\",\"gridcolor\":\"white\",\"linecolor\":\"white\",\"showbackground\":true,\"ticks\":\"\",\"zerolinecolor\":\"white\",\"gridwidth\":2}},\"shapedefaults\":{\"line\":{\"color\":\"#2a3f5f\"}},\"annotationdefaults\":{\"arrowcolor\":\"#2a3f5f\",\"arrowhead\":0,\"arrowwidth\":1},\"geo\":{\"bgcolor\":\"white\",\"landcolor\":\"#E5ECF6\",\"subunitcolor\":\"white\",\"showland\":true,\"showlakes\":true,\"lakecolor\":\"white\"},\"title\":{\"x\":0.05},\"mapbox\":{\"style\":\"light\"}}},\"xaxis\":{\"anchor\":\"y\",\"domain\":[0.0,1.0],\"title\":{\"text\":\"Workout Type\"}},\"yaxis\":{\"anchor\":\"x\",\"domain\":[0.0,1.0],\"title\":{\"text\":\"Number of Participants\"}},\"legend\":{\"title\":{\"text\":\"Gender\"},\"tracegroupgap\":0},\"title\":{\"text\":\"Gender Distribution Across Workout Types\"},\"barmode\":\"group\"},                        {\"responsive\": true}                    ).then(function(){\n",
       "                            \n",
       "var gd = document.getElementById('04c52aa9-2c8c-4f77-a812-2c9c1119c001');\n",
       "var x = new MutationObserver(function (mutations, observer) {{\n",
       "        var display = window.getComputedStyle(gd).display;\n",
       "        if (!display || display === 'none') {{\n",
       "            console.log([gd, 'removed!']);\n",
       "            Plotly.purge(gd);\n",
       "            observer.disconnect();\n",
       "        }}\n",
       "}});\n",
       "\n",
       "// Listen for the removal of the full notebook cells\n",
       "var notebookContainer = gd.closest('#notebook-container');\n",
       "if (notebookContainer) {{\n",
       "    x.observe(notebookContainer, {childList: true});\n",
       "}}\n",
       "\n",
       "// Listen for the clearing of the current output cell\n",
       "var outputEl = gd.closest('.output');\n",
       "if (outputEl) {{\n",
       "    x.observe(outputEl, {childList: true});\n",
       "}}\n",
       "\n",
       "                        })                };                });            </script>        </div>"
      ]
     },
     "metadata": {},
     "output_type": "display_data"
    }
   ],
   "source": [
    "gender_distribution = df.groupby(['Workout_Type', 'Gender']).size().reset_index(name='Count')\n",
    "\n",
    "fig1 = px.bar(\n",
    "    gender_distribution,\n",
    "    x='Workout_Type',\n",
    "    y='Count',\n",
    "    color='Gender',\n",
    "    title='Gender Distribution Across Workout Types',\n",
    "    labels={'Workout_Type': 'Workout Type', 'Count': 'Number of Participants'},\n",
    "    barmode='group',color_discrete_sequence=px.colors.sequential.Viridis\n",
    "    \n",
    ")\n",
    "fig_gender.show()\n"
   ]
  },
  {
   "cell_type": "code",
   "execution_count": 240,
   "id": "5d87ff3e-be67-4490-ab5d-b62f954c1618",
   "metadata": {},
   "outputs": [
    {
     "data": {
      "application/vnd.plotly.v1+json": {
       "config": {
        "plotlyServerURL": "https://plot.ly"
       },
       "data": [
        {
         "alignmentgroup": "True",
         "hovertemplate": "Workout Type=%{x}<br>BMI=%{y}<extra></extra>",
         "legendgroup": "Yoga",
         "marker": {
          "color": "#440154"
         },
         "name": "Yoga",
         "notched": false,
         "offsetgroup": "Yoga",
         "orientation": "v",
         "showlegend": true,
         "type": "box",
         "x": [
          "Yoga",
          "Yoga",
          "Yoga",
          "Yoga",
          "Yoga",
          "Yoga",
          "Yoga",
          "Yoga",
          "Yoga",
          "Yoga",
          "Yoga",
          "Yoga",
          "Yoga",
          "Yoga",
          "Yoga",
          "Yoga",
          "Yoga",
          "Yoga",
          "Yoga",
          "Yoga",
          "Yoga",
          "Yoga",
          "Yoga",
          "Yoga",
          "Yoga",
          "Yoga",
          "Yoga",
          "Yoga",
          "Yoga",
          "Yoga",
          "Yoga",
          "Yoga",
          "Yoga",
          "Yoga",
          "Yoga",
          "Yoga",
          "Yoga",
          "Yoga",
          "Yoga",
          "Yoga",
          "Yoga",
          "Yoga",
          "Yoga",
          "Yoga",
          "Yoga",
          "Yoga",
          "Yoga",
          "Yoga",
          "Yoga",
          "Yoga",
          "Yoga",
          "Yoga",
          "Yoga",
          "Yoga",
          "Yoga",
          "Yoga",
          "Yoga",
          "Yoga",
          "Yoga",
          "Yoga",
          "Yoga",
          "Yoga",
          "Yoga",
          "Yoga",
          "Yoga",
          "Yoga",
          "Yoga",
          "Yoga",
          "Yoga",
          "Yoga",
          "Yoga",
          "Yoga",
          "Yoga",
          "Yoga",
          "Yoga",
          "Yoga",
          "Yoga",
          "Yoga",
          "Yoga",
          "Yoga",
          "Yoga",
          "Yoga",
          "Yoga",
          "Yoga",
          "Yoga",
          "Yoga",
          "Yoga",
          "Yoga",
          "Yoga",
          "Yoga",
          "Yoga",
          "Yoga",
          "Yoga",
          "Yoga",
          "Yoga",
          "Yoga",
          "Yoga",
          "Yoga",
          "Yoga",
          "Yoga",
          "Yoga",
          "Yoga",
          "Yoga",
          "Yoga",
          "Yoga",
          "Yoga",
          "Yoga",
          "Yoga",
          "Yoga",
          "Yoga",
          "Yoga",
          "Yoga",
          "Yoga",
          "Yoga",
          "Yoga",
          "Yoga",
          "Yoga",
          "Yoga",
          "Yoga",
          "Yoga",
          "Yoga",
          "Yoga",
          "Yoga",
          "Yoga",
          "Yoga",
          "Yoga",
          "Yoga",
          "Yoga",
          "Yoga",
          "Yoga",
          "Yoga",
          "Yoga",
          "Yoga",
          "Yoga",
          "Yoga",
          "Yoga",
          "Yoga",
          "Yoga",
          "Yoga",
          "Yoga",
          "Yoga",
          "Yoga",
          "Yoga",
          "Yoga",
          "Yoga",
          "Yoga",
          "Yoga",
          "Yoga",
          "Yoga",
          "Yoga",
          "Yoga",
          "Yoga",
          "Yoga",
          "Yoga",
          "Yoga",
          "Yoga",
          "Yoga",
          "Yoga",
          "Yoga",
          "Yoga",
          "Yoga",
          "Yoga",
          "Yoga",
          "Yoga",
          "Yoga",
          "Yoga",
          "Yoga",
          "Yoga",
          "Yoga",
          "Yoga",
          "Yoga",
          "Yoga",
          "Yoga",
          "Yoga",
          "Yoga",
          "Yoga",
          "Yoga",
          "Yoga",
          "Yoga",
          "Yoga",
          "Yoga",
          "Yoga",
          "Yoga",
          "Yoga",
          "Yoga",
          "Yoga",
          "Yoga",
          "Yoga",
          "Yoga",
          "Yoga",
          "Yoga",
          "Yoga",
          "Yoga",
          "Yoga",
          "Yoga",
          "Yoga",
          "Yoga",
          "Yoga",
          "Yoga",
          "Yoga",
          "Yoga",
          "Yoga",
          "Yoga",
          "Yoga",
          "Yoga",
          "Yoga",
          "Yoga",
          "Yoga",
          "Yoga",
          "Yoga",
          "Yoga",
          "Yoga",
          "Yoga",
          "Yoga",
          "Yoga",
          "Yoga",
          "Yoga",
          "Yoga",
          "Yoga",
          "Yoga",
          "Yoga",
          "Yoga",
          "Yoga",
          "Yoga",
          "Yoga",
          "Yoga",
          "Yoga",
          "Yoga",
          "Yoga",
          "Yoga",
          "Yoga",
          "Yoga",
          "Yoga",
          "Yoga",
          "Yoga",
          "Yoga",
          "Yoga",
          "Yoga",
          "Yoga"
         ],
         "x0": " ",
         "xaxis": "x",
         "y": [
          30.2,
          35.93,
          25.16,
          38.16,
          21.78,
          28.31,
          33.8,
          18.07,
          19.43,
          28.35,
          16.86,
          19.72,
          15.24,
          33.16,
          19.65,
          23.53,
          21.53,
          29.61,
          40.71,
          29.61,
          15.7,
          22.61,
          17.54,
          18.66,
          25.81,
          23.74,
          30.52,
          24.16,
          29.95,
          17.88,
          34.24,
          22.43,
          21.78,
          18.26,
          22.64,
          24.55,
          14.54,
          26.1,
          20.06,
          16.04,
          29.88,
          25.58,
          13.03,
          30.22,
          26.77,
          17.94,
          17.16,
          15.65,
          21.02,
          14.69,
          22.85,
          18.32,
          19.12,
          28.09,
          16.28,
          24.91,
          16.22,
          36.02,
          16.35,
          21.26,
          15.72,
          25.23,
          12.73,
          47.72,
          25.35,
          25.39,
          20.4,
          17.61,
          29.21,
          17.46,
          23.75,
          15.02,
          29.26,
          19.21,
          18.62,
          18.62,
          21.72,
          23.94,
          28.27,
          20.62,
          20.28,
          31.05,
          19.44,
          18.33,
          18.13,
          27.52,
          17.93,
          19.65,
          25.41,
          32.24,
          29.7,
          22.41,
          25.35,
          19.35,
          21.45,
          36.22,
          20.47,
          15.5,
          28.02,
          23.59,
          23.27,
          27.55,
          27.68,
          22.41,
          27.79,
          15.5,
          23.14,
          22.17,
          26.58,
          28.88,
          35.51,
          26.69,
          26.01,
          31.3,
          30.51,
          14.87,
          26.32,
          25.11,
          16.25,
          24.16,
          26.75,
          23.73,
          27.59,
          23.87,
          31.53,
          20.86,
          26.4,
          30.89,
          25.49,
          27.18,
          17.32,
          17.25,
          28.93,
          17.85,
          23.84,
          43.4,
          29.46,
          20.7,
          26.43,
          32.34,
          24.76,
          25.15,
          20.14,
          27.35,
          27.92,
          16.53,
          23.35,
          31.14,
          35.44,
          20.13,
          21.66,
          38.5,
          22.07,
          18.68,
          19.06,
          19.71,
          29.1,
          29.17,
          19.01,
          21.99,
          19.45,
          19.73,
          45.14,
          22.14,
          24.31,
          20.83,
          29.14,
          16.09,
          46.98,
          23.79,
          27.58,
          41.34,
          14.87,
          33.07,
          38.76,
          24.5,
          35.19,
          19.13,
          23.11,
          25.62,
          22.22,
          30.43,
          20.83,
          28.7,
          22.31,
          21.87,
          32.72,
          13.95,
          13.82,
          17.91,
          26.99,
          23.01,
          19.86,
          24.42,
          28.2,
          27.78,
          27.11,
          34.8,
          29.69,
          20.36,
          22.67,
          19.55,
          21.49,
          29.97,
          22.48,
          30.68,
          16.66,
          17.2,
          22.06,
          40.52,
          49.84,
          18.98,
          26.08,
          29.89,
          13.36,
          14.74,
          23.48,
          25.7,
          19.88,
          25.56,
          18.46,
          23.7,
          26.75,
          31.32,
          21.84,
          28.56,
          24.07,
          30.19,
          21.83,
          41.56,
          23.33,
          27.18,
          30.43,
          25.85,
          29.23,
          21.67,
          23.88,
          16.8,
          21.48
         ],
         "y0": " ",
         "yaxis": "y"
        },
        {
         "alignmentgroup": "True",
         "hovertemplate": "Workout Type=%{x}<br>BMI=%{y}<extra></extra>",
         "legendgroup": "HIIT",
         "marker": {
          "color": "#482878"
         },
         "name": "HIIT",
         "notched": false,
         "offsetgroup": "HIIT",
         "orientation": "v",
         "showlegend": true,
         "type": "box",
         "x": [
          "HIIT",
          "HIIT",
          "HIIT",
          "HIIT",
          "HIIT",
          "HIIT",
          "HIIT",
          "HIIT",
          "HIIT",
          "HIIT",
          "HIIT",
          "HIIT",
          "HIIT",
          "HIIT",
          "HIIT",
          "HIIT",
          "HIIT",
          "HIIT",
          "HIIT",
          "HIIT",
          "HIIT",
          "HIIT",
          "HIIT",
          "HIIT",
          "HIIT",
          "HIIT",
          "HIIT",
          "HIIT",
          "HIIT",
          "HIIT",
          "HIIT",
          "HIIT",
          "HIIT",
          "HIIT",
          "HIIT",
          "HIIT",
          "HIIT",
          "HIIT",
          "HIIT",
          "HIIT",
          "HIIT",
          "HIIT",
          "HIIT",
          "HIIT",
          "HIIT",
          "HIIT",
          "HIIT",
          "HIIT",
          "HIIT",
          "HIIT",
          "HIIT",
          "HIIT",
          "HIIT",
          "HIIT",
          "HIIT",
          "HIIT",
          "HIIT",
          "HIIT",
          "HIIT",
          "HIIT",
          "HIIT",
          "HIIT",
          "HIIT",
          "HIIT",
          "HIIT",
          "HIIT",
          "HIIT",
          "HIIT",
          "HIIT",
          "HIIT",
          "HIIT",
          "HIIT",
          "HIIT",
          "HIIT",
          "HIIT",
          "HIIT",
          "HIIT",
          "HIIT",
          "HIIT",
          "HIIT",
          "HIIT",
          "HIIT",
          "HIIT",
          "HIIT",
          "HIIT",
          "HIIT",
          "HIIT",
          "HIIT",
          "HIIT",
          "HIIT",
          "HIIT",
          "HIIT",
          "HIIT",
          "HIIT",
          "HIIT",
          "HIIT",
          "HIIT",
          "HIIT",
          "HIIT",
          "HIIT",
          "HIIT",
          "HIIT",
          "HIIT",
          "HIIT",
          "HIIT",
          "HIIT",
          "HIIT",
          "HIIT",
          "HIIT",
          "HIIT",
          "HIIT",
          "HIIT",
          "HIIT",
          "HIIT",
          "HIIT",
          "HIIT",
          "HIIT",
          "HIIT",
          "HIIT",
          "HIIT",
          "HIIT",
          "HIIT",
          "HIIT",
          "HIIT",
          "HIIT",
          "HIIT",
          "HIIT",
          "HIIT",
          "HIIT",
          "HIIT",
          "HIIT",
          "HIIT",
          "HIIT",
          "HIIT",
          "HIIT",
          "HIIT",
          "HIIT",
          "HIIT",
          "HIIT",
          "HIIT",
          "HIIT",
          "HIIT",
          "HIIT",
          "HIIT",
          "HIIT",
          "HIIT",
          "HIIT",
          "HIIT",
          "HIIT",
          "HIIT",
          "HIIT",
          "HIIT",
          "HIIT",
          "HIIT",
          "HIIT",
          "HIIT",
          "HIIT",
          "HIIT",
          "HIIT",
          "HIIT",
          "HIIT",
          "HIIT",
          "HIIT",
          "HIIT",
          "HIIT",
          "HIIT",
          "HIIT",
          "HIIT",
          "HIIT",
          "HIIT",
          "HIIT",
          "HIIT",
          "HIIT",
          "HIIT",
          "HIIT",
          "HIIT",
          "HIIT",
          "HIIT",
          "HIIT",
          "HIIT",
          "HIIT",
          "HIIT",
          "HIIT",
          "HIIT",
          "HIIT",
          "HIIT",
          "HIIT",
          "HIIT",
          "HIIT",
          "HIIT",
          "HIIT",
          "HIIT",
          "HIIT",
          "HIIT",
          "HIIT",
          "HIIT",
          "HIIT",
          "HIIT",
          "HIIT",
          "HIIT",
          "HIIT",
          "HIIT",
          "HIIT",
          "HIIT",
          "HIIT",
          "HIIT",
          "HIIT",
          "HIIT",
          "HIIT",
          "HIIT",
          "HIIT",
          "HIIT",
          "HIIT",
          "HIIT",
          "HIIT",
          "HIIT",
          "HIIT",
          "HIIT",
          "HIIT",
          "HIIT",
          "HIIT"
         ],
         "x0": " ",
         "xaxis": "x",
         "y": [
          32,
          20.55,
          43.31,
          17.89,
          23.62,
          27.34,
          26.96,
          22.51,
          20.12,
          24.54,
          27.64,
          33.4,
          19.37,
          27.84,
          40.1,
          22.78,
          16.99,
          33.55,
          39.12,
          25.89,
          24.72,
          29.53,
          31.44,
          22.31,
          21.64,
          23.52,
          20.88,
          45.43,
          24.75,
          31.61,
          27.93,
          22.69,
          16.42,
          18.18,
          19.88,
          37.87,
          24.16,
          31.17,
          22.54,
          16.78,
          34.53,
          18.28,
          25.08,
          22.33,
          26.26,
          28.76,
          35.18,
          19.01,
          23.51,
          28.15,
          15.02,
          28.49,
          29.98,
          25.73,
          24.36,
          45.14,
          26.47,
          33.86,
          18.77,
          40.09,
          24.54,
          26.64,
          24.25,
          22.55,
          17.47,
          36.47,
          21.26,
          24.87,
          29.56,
          24.51,
          28.46,
          35.82,
          26.9,
          16.2,
          24.31,
          22.79,
          23.92,
          26.47,
          30.12,
          21.87,
          22.51,
          23.81,
          22.26,
          19.69,
          34.89,
          28.43,
          18.23,
          34.53,
          23.08,
          19.74,
          22.1,
          26.41,
          26.95,
          24.64,
          19.69,
          23.53,
          22.32,
          14.59,
          21.39,
          23.53,
          15.88,
          24.55,
          34.63,
          20.2,
          46.9,
          33.2,
          26.52,
          21.27,
          21.26,
          18.35,
          16.8,
          15.43,
          32.69,
          23.33,
          20.75,
          20.1,
          17.93,
          28.35,
          31.63,
          27.82,
          24.91,
          25.98,
          31.84,
          25.33,
          21.07,
          21.04,
          31.08,
          26.79,
          27.69,
          21.34,
          20.2,
          26.16,
          30.09,
          24.26,
          24.35,
          16.5,
          13.81,
          21.66,
          21.8,
          24.72,
          41.84,
          23.56,
          24.31,
          19.49,
          23.94,
          33.5,
          30.05,
          23.17,
          30.59,
          22.02,
          17.65,
          27.94,
          19.41,
          17.06,
          16.23,
          22.48,
          25.03,
          19.47,
          31.26,
          23.37,
          24.52,
          15.72,
          22.64,
          32.84,
          21.45,
          19.72,
          25.33,
          22.19,
          30.63,
          27.47,
          30.64,
          30.74,
          23.88,
          31.49,
          19.92,
          17.33,
          16.48,
          14.6,
          25.75,
          16.56,
          32.74,
          23.71,
          30.49,
          30.55,
          21.67,
          19.31,
          21.16,
          29.34,
          27.53,
          26.54,
          17.05,
          32.75,
          28.78,
          18.45,
          23.77,
          28.56,
          26.81,
          26.33,
          17.61,
          22.96,
          13.38,
          27.05,
          17.44,
          30.34,
          27.43,
          21.06,
          34.92,
          12.97,
          25.54,
          23.79,
          28.28,
          20.76,
          27.2,
          16.01,
          44.66,
          27.55,
          20.07,
          23.02,
          30.63,
          23.93,
          37.74
         ],
         "y0": " ",
         "yaxis": "y"
        },
        {
         "alignmentgroup": "True",
         "hovertemplate": "Workout Type=%{x}<br>BMI=%{y}<extra></extra>",
         "legendgroup": "Cardio",
         "marker": {
          "color": "#3e4989"
         },
         "name": "Cardio",
         "notched": false,
         "offsetgroup": "Cardio",
         "orientation": "v",
         "showlegend": true,
         "type": "box",
         "x": [
          "Cardio",
          "Cardio",
          "Cardio",
          "Cardio",
          "Cardio",
          "Cardio",
          "Cardio",
          "Cardio",
          "Cardio",
          "Cardio",
          "Cardio",
          "Cardio",
          "Cardio",
          "Cardio",
          "Cardio",
          "Cardio",
          "Cardio",
          "Cardio",
          "Cardio",
          "Cardio",
          "Cardio",
          "Cardio",
          "Cardio",
          "Cardio",
          "Cardio",
          "Cardio",
          "Cardio",
          "Cardio",
          "Cardio",
          "Cardio",
          "Cardio",
          "Cardio",
          "Cardio",
          "Cardio",
          "Cardio",
          "Cardio",
          "Cardio",
          "Cardio",
          "Cardio",
          "Cardio",
          "Cardio",
          "Cardio",
          "Cardio",
          "Cardio",
          "Cardio",
          "Cardio",
          "Cardio",
          "Cardio",
          "Cardio",
          "Cardio",
          "Cardio",
          "Cardio",
          "Cardio",
          "Cardio",
          "Cardio",
          "Cardio",
          "Cardio",
          "Cardio",
          "Cardio",
          "Cardio",
          "Cardio",
          "Cardio",
          "Cardio",
          "Cardio",
          "Cardio",
          "Cardio",
          "Cardio",
          "Cardio",
          "Cardio",
          "Cardio",
          "Cardio",
          "Cardio",
          "Cardio",
          "Cardio",
          "Cardio",
          "Cardio",
          "Cardio",
          "Cardio",
          "Cardio",
          "Cardio",
          "Cardio",
          "Cardio",
          "Cardio",
          "Cardio",
          "Cardio",
          "Cardio",
          "Cardio",
          "Cardio",
          "Cardio",
          "Cardio",
          "Cardio",
          "Cardio",
          "Cardio",
          "Cardio",
          "Cardio",
          "Cardio",
          "Cardio",
          "Cardio",
          "Cardio",
          "Cardio",
          "Cardio",
          "Cardio",
          "Cardio",
          "Cardio",
          "Cardio",
          "Cardio",
          "Cardio",
          "Cardio",
          "Cardio",
          "Cardio",
          "Cardio",
          "Cardio",
          "Cardio",
          "Cardio",
          "Cardio",
          "Cardio",
          "Cardio",
          "Cardio",
          "Cardio",
          "Cardio",
          "Cardio",
          "Cardio",
          "Cardio",
          "Cardio",
          "Cardio",
          "Cardio",
          "Cardio",
          "Cardio",
          "Cardio",
          "Cardio",
          "Cardio",
          "Cardio",
          "Cardio",
          "Cardio",
          "Cardio",
          "Cardio",
          "Cardio",
          "Cardio",
          "Cardio",
          "Cardio",
          "Cardio",
          "Cardio",
          "Cardio",
          "Cardio",
          "Cardio",
          "Cardio",
          "Cardio",
          "Cardio",
          "Cardio",
          "Cardio",
          "Cardio",
          "Cardio",
          "Cardio",
          "Cardio",
          "Cardio",
          "Cardio",
          "Cardio",
          "Cardio",
          "Cardio",
          "Cardio",
          "Cardio",
          "Cardio",
          "Cardio",
          "Cardio",
          "Cardio",
          "Cardio",
          "Cardio",
          "Cardio",
          "Cardio",
          "Cardio",
          "Cardio",
          "Cardio",
          "Cardio",
          "Cardio",
          "Cardio",
          "Cardio",
          "Cardio",
          "Cardio",
          "Cardio",
          "Cardio",
          "Cardio",
          "Cardio",
          "Cardio",
          "Cardio",
          "Cardio",
          "Cardio",
          "Cardio",
          "Cardio",
          "Cardio",
          "Cardio",
          "Cardio",
          "Cardio",
          "Cardio",
          "Cardio",
          "Cardio",
          "Cardio",
          "Cardio",
          "Cardio",
          "Cardio",
          "Cardio",
          "Cardio",
          "Cardio",
          "Cardio",
          "Cardio",
          "Cardio",
          "Cardio",
          "Cardio",
          "Cardio",
          "Cardio",
          "Cardio",
          "Cardio",
          "Cardio",
          "Cardio",
          "Cardio",
          "Cardio",
          "Cardio",
          "Cardio",
          "Cardio",
          "Cardio",
          "Cardio",
          "Cardio",
          "Cardio",
          "Cardio",
          "Cardio",
          "Cardio",
          "Cardio",
          "Cardio",
          "Cardio",
          "Cardio",
          "Cardio",
          "Cardio",
          "Cardio",
          "Cardio",
          "Cardio",
          "Cardio",
          "Cardio",
          "Cardio",
          "Cardio",
          "Cardio",
          "Cardio",
          "Cardio",
          "Cardio",
          "Cardio",
          "Cardio",
          "Cardio",
          "Cardio",
          "Cardio",
          "Cardio",
          "Cardio",
          "Cardio",
          "Cardio",
          "Cardio",
          "Cardio",
          "Cardio",
          "Cardio"
         ],
         "x0": " ",
         "xaxis": "x",
         "y": [
          24.71,
          23.76,
          30.57,
          30.07,
          43.4,
          13.98,
          22.95,
          25.83,
          24.37,
          21.4,
          17.3,
          23.93,
          23.17,
          33.61,
          27.18,
          34.18,
          44.84,
          21.77,
          20.86,
          25.89,
          20.88,
          21.88,
          35.86,
          18.15,
          21.58,
          17.27,
          29.71,
          21.53,
          27.85,
          22.15,
          37.56,
          18.76,
          16.52,
          26.65,
          29.26,
          21.41,
          24.5,
          22.08,
          30.18,
          19.63,
          23.05,
          20.55,
          28.97,
          12.47,
          21.91,
          39.16,
          27.69,
          25.86,
          24.97,
          22.82,
          24.87,
          19.67,
          17.94,
          27.71,
          14.61,
          28.22,
          36.29,
          26.73,
          21.16,
          26.67,
          24.78,
          18.67,
          29.11,
          23.53,
          25.07,
          28.43,
          17.75,
          19.01,
          18.88,
          15.24,
          26.64,
          17.72,
          25.75,
          28.92,
          20.16,
          19.69,
          31.14,
          23.46,
          34.83,
          30.1,
          31.75,
          45.49,
          29.26,
          19.98,
          25.49,
          43.31,
          31.4,
          15.8,
          28.49,
          23.64,
          20.71,
          31.94,
          14.36,
          44.71,
          22.76,
          30.26,
          37.76,
          26.74,
          25.51,
          18.67,
          26.46,
          15.59,
          21.8,
          19.37,
          25.13,
          29.83,
          17.63,
          22.23,
          36.25,
          12.67,
          31.04,
          14.85,
          25.02,
          32.7,
          18.1,
          26.57,
          39.3,
          30.89,
          32.63,
          23.65,
          37.53,
          28.59,
          34.12,
          26.05,
          19.1,
          15.5,
          18.39,
          27.61,
          19.91,
          27.23,
          17.03,
          23.22,
          22.56,
          33.17,
          20.38,
          17.7,
          42.3,
          21.16,
          27.84,
          32.51,
          21.16,
          28.52,
          30.76,
          30.4,
          25.05,
          16.27,
          25.55,
          36.01,
          24.09,
          22.96,
          33.21,
          21.23,
          40.26,
          30.4,
          20.62,
          22.15,
          25.73,
          19.51,
          20.29,
          24.64,
          16.14,
          18.44,
          24.28,
          23.46,
          16.19,
          29.34,
          22.57,
          16.54,
          26.36,
          18.64,
          23.8,
          31.05,
          26.48,
          23.78,
          25.73,
          29.49,
          33.33,
          23.81,
          29.89,
          27.14,
          26.47,
          39.77,
          19.02,
          28.97,
          24.84,
          30.96,
          22.32,
          24.87,
          27.88,
          17.4,
          12.85,
          23.2,
          26.46,
          32.73,
          20.29,
          18.68,
          15.14,
          12.32,
          23.79,
          26.48,
          31.71,
          22.44,
          15.73,
          17.4,
          20.27,
          23.64,
          26.43,
          40.79,
          21,
          23.1,
          22.48,
          16.97,
          26.66,
          21.29,
          25.72,
          37.98,
          15.65,
          23.8,
          24.84,
          26.68,
          31.31,
          28.46,
          23.6,
          46.94,
          24.2,
          23.21,
          24.21,
          29.5,
          32.66,
          23.25,
          24.44,
          36.95,
          26.32,
          23.98,
          24.78,
          26.47,
          26.14,
          31.64,
          33.61,
          44.1,
          22.6,
          28.68,
          18.65,
          30.66,
          27.11,
          22.99,
          23.79,
          31.74,
          16.01,
          23.41,
          23.28,
          27.03,
          14.3,
          22.48,
          19.5
         ],
         "y0": " ",
         "yaxis": "y"
        },
        {
         "alignmentgroup": "True",
         "hovertemplate": "Workout Type=%{x}<br>BMI=%{y}<extra></extra>",
         "legendgroup": "Strength",
         "marker": {
          "color": "#31688e"
         },
         "name": "Strength",
         "notched": false,
         "offsetgroup": "Strength",
         "orientation": "v",
         "showlegend": true,
         "type": "box",
         "x": [
          "Strength",
          "Strength",
          "Strength",
          "Strength",
          "Strength",
          "Strength",
          "Strength",
          "Strength",
          "Strength",
          "Strength",
          "Strength",
          "Strength",
          "Strength",
          "Strength",
          "Strength",
          "Strength",
          "Strength",
          "Strength",
          "Strength",
          "Strength",
          "Strength",
          "Strength",
          "Strength",
          "Strength",
          "Strength",
          "Strength",
          "Strength",
          "Strength",
          "Strength",
          "Strength",
          "Strength",
          "Strength",
          "Strength",
          "Strength",
          "Strength",
          "Strength",
          "Strength",
          "Strength",
          "Strength",
          "Strength",
          "Strength",
          "Strength",
          "Strength",
          "Strength",
          "Strength",
          "Strength",
          "Strength",
          "Strength",
          "Strength",
          "Strength",
          "Strength",
          "Strength",
          "Strength",
          "Strength",
          "Strength",
          "Strength",
          "Strength",
          "Strength",
          "Strength",
          "Strength",
          "Strength",
          "Strength",
          "Strength",
          "Strength",
          "Strength",
          "Strength",
          "Strength",
          "Strength",
          "Strength",
          "Strength",
          "Strength",
          "Strength",
          "Strength",
          "Strength",
          "Strength",
          "Strength",
          "Strength",
          "Strength",
          "Strength",
          "Strength",
          "Strength",
          "Strength",
          "Strength",
          "Strength",
          "Strength",
          "Strength",
          "Strength",
          "Strength",
          "Strength",
          "Strength",
          "Strength",
          "Strength",
          "Strength",
          "Strength",
          "Strength",
          "Strength",
          "Strength",
          "Strength",
          "Strength",
          "Strength",
          "Strength",
          "Strength",
          "Strength",
          "Strength",
          "Strength",
          "Strength",
          "Strength",
          "Strength",
          "Strength",
          "Strength",
          "Strength",
          "Strength",
          "Strength",
          "Strength",
          "Strength",
          "Strength",
          "Strength",
          "Strength",
          "Strength",
          "Strength",
          "Strength",
          "Strength",
          "Strength",
          "Strength",
          "Strength",
          "Strength",
          "Strength",
          "Strength",
          "Strength",
          "Strength",
          "Strength",
          "Strength",
          "Strength",
          "Strength",
          "Strength",
          "Strength",
          "Strength",
          "Strength",
          "Strength",
          "Strength",
          "Strength",
          "Strength",
          "Strength",
          "Strength",
          "Strength",
          "Strength",
          "Strength",
          "Strength",
          "Strength",
          "Strength",
          "Strength",
          "Strength",
          "Strength",
          "Strength",
          "Strength",
          "Strength",
          "Strength",
          "Strength",
          "Strength",
          "Strength",
          "Strength",
          "Strength",
          "Strength",
          "Strength",
          "Strength",
          "Strength",
          "Strength",
          "Strength",
          "Strength",
          "Strength",
          "Strength",
          "Strength",
          "Strength",
          "Strength",
          "Strength",
          "Strength",
          "Strength",
          "Strength",
          "Strength",
          "Strength",
          "Strength",
          "Strength",
          "Strength",
          "Strength",
          "Strength",
          "Strength",
          "Strength",
          "Strength",
          "Strength",
          "Strength",
          "Strength",
          "Strength",
          "Strength",
          "Strength",
          "Strength",
          "Strength",
          "Strength",
          "Strength",
          "Strength",
          "Strength",
          "Strength",
          "Strength",
          "Strength",
          "Strength",
          "Strength",
          "Strength",
          "Strength",
          "Strength",
          "Strength",
          "Strength",
          "Strength",
          "Strength",
          "Strength",
          "Strength",
          "Strength",
          "Strength",
          "Strength",
          "Strength",
          "Strength",
          "Strength",
          "Strength",
          "Strength",
          "Strength",
          "Strength",
          "Strength",
          "Strength",
          "Strength",
          "Strength",
          "Strength",
          "Strength",
          "Strength",
          "Strength",
          "Strength",
          "Strength",
          "Strength",
          "Strength",
          "Strength",
          "Strength",
          "Strength",
          "Strength",
          "Strength",
          "Strength",
          "Strength",
          "Strength",
          "Strength",
          "Strength",
          "Strength",
          "Strength",
          "Strength",
          "Strength",
          "Strength",
          "Strength",
          "Strength",
          "Strength",
          "Strength",
          "Strength",
          "Strength",
          "Strength"
         ],
         "x0": " ",
         "xaxis": "x",
         "y": [
          18.41,
          14.39,
          32.34,
          13.88,
          21.81,
          28.41,
          17.6,
          42.63,
          33.14,
          19.11,
          17.77,
          15.31,
          20.42,
          32.69,
          22.45,
          32.93,
          17.11,
          22.28,
          27.7,
          16.76,
          28.87,
          19.42,
          22.89,
          30.3,
          26.05,
          34.5,
          18.12,
          23.09,
          31.41,
          29.87,
          25.68,
          27.85,
          27.96,
          34.06,
          30.54,
          14.93,
          15.08,
          26.86,
          23.59,
          13.23,
          25.65,
          38.78,
          27.01,
          23.07,
          15.9,
          22.16,
          25.1,
          19.63,
          25.42,
          29.56,
          25.85,
          24.96,
          21.3,
          23.53,
          23.73,
          32.69,
          25.28,
          29.07,
          16.56,
          28.05,
          21.36,
          34.68,
          30.37,
          21.49,
          25.36,
          34.29,
          22.15,
          26.84,
          26.61,
          20.38,
          17.57,
          20.76,
          13.71,
          31.48,
          32.32,
          24.25,
          34.14,
          24.34,
          25.2,
          23.06,
          29.92,
          27.97,
          26.13,
          19.45,
          20.91,
          13.51,
          28.44,
          14.88,
          26.01,
          15.07,
          34.06,
          23.97,
          19.91,
          28.69,
          15.61,
          25.23,
          34.25,
          21.65,
          18.53,
          38.73,
          22.98,
          24.13,
          29.98,
          28.78,
          22.27,
          15.46,
          22.18,
          14.78,
          28.49,
          33.04,
          24.52,
          14.1,
          26.33,
          19.76,
          40.45,
          20.63,
          20.66,
          30.47,
          17.92,
          20.05,
          21.87,
          20.61,
          24.78,
          22.44,
          18.37,
          17.44,
          24.13,
          41.6,
          33.45,
          18.12,
          23.56,
          26.36,
          19.71,
          25.67,
          18.29,
          32.66,
          25.05,
          26.39,
          24.31,
          20.71,
          25.22,
          21.63,
          26.02,
          22.28,
          22.86,
          26.19,
          17.6,
          23.95,
          13.78,
          34.06,
          24.37,
          23.76,
          23.84,
          18.35,
          26.16,
          23.88,
          21.05,
          23.88,
          28.03,
          27.12,
          36.46,
          17.51,
          14.85,
          17.82,
          18.24,
          23.78,
          15.49,
          25.57,
          31.75,
          25.01,
          28.12,
          15.75,
          37.11,
          27.57,
          15.23,
          15.42,
          35.79,
          17.01,
          35.04,
          33.72,
          27.66,
          34.34,
          17.59,
          21.48,
          29.62,
          21,
          30.44,
          18.7,
          16.41,
          21.8,
          19.09,
          19.36,
          20.11,
          20.76,
          28.88,
          33.97,
          12.91,
          27.74,
          26.98,
          22.72,
          22.81,
          32.42,
          18.09,
          26.35,
          31.13,
          28.66,
          27.16,
          18.7,
          25.17,
          24.19,
          18.52,
          18.19,
          26.1,
          17.83,
          18.79,
          25.54,
          38.49,
          24.22,
          23.23,
          15.51,
          20.28,
          44.26,
          25.44,
          20.11,
          36.45,
          41.03,
          26.99,
          27.84,
          22.44,
          24.89,
          15.92,
          18.79,
          24.01,
          18.42,
          23.22,
          17.27,
          29.3,
          19.73,
          25.92,
          21.84,
          14.57,
          24.36,
          40.09,
          14.07,
          24.13,
          23.75,
          24.23,
          35.47,
          19.82,
          17.39,
          48.43,
          21.34,
          25.14,
          26.22,
          36.8,
          28.77,
          25.69,
          33.38
         ],
         "y0": " ",
         "yaxis": "y"
        }
       ],
       "layout": {
        "autosize": true,
        "boxmode": "overlay",
        "legend": {
         "title": {
          "text": "Workout Type"
         },
         "tracegroupgap": 0
        },
        "template": {
         "data": {
          "bar": [
           {
            "error_x": {
             "color": "#2a3f5f"
            },
            "error_y": {
             "color": "#2a3f5f"
            },
            "marker": {
             "line": {
              "color": "#E5ECF6",
              "width": 0.5
             },
             "pattern": {
              "fillmode": "overlay",
              "size": 10,
              "solidity": 0.2
             }
            },
            "type": "bar"
           }
          ],
          "barpolar": [
           {
            "marker": {
             "line": {
              "color": "#E5ECF6",
              "width": 0.5
             },
             "pattern": {
              "fillmode": "overlay",
              "size": 10,
              "solidity": 0.2
             }
            },
            "type": "barpolar"
           }
          ],
          "carpet": [
           {
            "aaxis": {
             "endlinecolor": "#2a3f5f",
             "gridcolor": "white",
             "linecolor": "white",
             "minorgridcolor": "white",
             "startlinecolor": "#2a3f5f"
            },
            "baxis": {
             "endlinecolor": "#2a3f5f",
             "gridcolor": "white",
             "linecolor": "white",
             "minorgridcolor": "white",
             "startlinecolor": "#2a3f5f"
            },
            "type": "carpet"
           }
          ],
          "choropleth": [
           {
            "colorbar": {
             "outlinewidth": 0,
             "ticks": ""
            },
            "type": "choropleth"
           }
          ],
          "contour": [
           {
            "colorbar": {
             "outlinewidth": 0,
             "ticks": ""
            },
            "colorscale": [
             [
              0,
              "#0d0887"
             ],
             [
              0.1111111111111111,
              "#46039f"
             ],
             [
              0.2222222222222222,
              "#7201a8"
             ],
             [
              0.3333333333333333,
              "#9c179e"
             ],
             [
              0.4444444444444444,
              "#bd3786"
             ],
             [
              0.5555555555555556,
              "#d8576b"
             ],
             [
              0.6666666666666666,
              "#ed7953"
             ],
             [
              0.7777777777777778,
              "#fb9f3a"
             ],
             [
              0.8888888888888888,
              "#fdca26"
             ],
             [
              1,
              "#f0f921"
             ]
            ],
            "type": "contour"
           }
          ],
          "contourcarpet": [
           {
            "colorbar": {
             "outlinewidth": 0,
             "ticks": ""
            },
            "type": "contourcarpet"
           }
          ],
          "heatmap": [
           {
            "colorbar": {
             "outlinewidth": 0,
             "ticks": ""
            },
            "colorscale": [
             [
              0,
              "#0d0887"
             ],
             [
              0.1111111111111111,
              "#46039f"
             ],
             [
              0.2222222222222222,
              "#7201a8"
             ],
             [
              0.3333333333333333,
              "#9c179e"
             ],
             [
              0.4444444444444444,
              "#bd3786"
             ],
             [
              0.5555555555555556,
              "#d8576b"
             ],
             [
              0.6666666666666666,
              "#ed7953"
             ],
             [
              0.7777777777777778,
              "#fb9f3a"
             ],
             [
              0.8888888888888888,
              "#fdca26"
             ],
             [
              1,
              "#f0f921"
             ]
            ],
            "type": "heatmap"
           }
          ],
          "heatmapgl": [
           {
            "colorbar": {
             "outlinewidth": 0,
             "ticks": ""
            },
            "colorscale": [
             [
              0,
              "#0d0887"
             ],
             [
              0.1111111111111111,
              "#46039f"
             ],
             [
              0.2222222222222222,
              "#7201a8"
             ],
             [
              0.3333333333333333,
              "#9c179e"
             ],
             [
              0.4444444444444444,
              "#bd3786"
             ],
             [
              0.5555555555555556,
              "#d8576b"
             ],
             [
              0.6666666666666666,
              "#ed7953"
             ],
             [
              0.7777777777777778,
              "#fb9f3a"
             ],
             [
              0.8888888888888888,
              "#fdca26"
             ],
             [
              1,
              "#f0f921"
             ]
            ],
            "type": "heatmapgl"
           }
          ],
          "histogram": [
           {
            "marker": {
             "pattern": {
              "fillmode": "overlay",
              "size": 10,
              "solidity": 0.2
             }
            },
            "type": "histogram"
           }
          ],
          "histogram2d": [
           {
            "colorbar": {
             "outlinewidth": 0,
             "ticks": ""
            },
            "colorscale": [
             [
              0,
              "#0d0887"
             ],
             [
              0.1111111111111111,
              "#46039f"
             ],
             [
              0.2222222222222222,
              "#7201a8"
             ],
             [
              0.3333333333333333,
              "#9c179e"
             ],
             [
              0.4444444444444444,
              "#bd3786"
             ],
             [
              0.5555555555555556,
              "#d8576b"
             ],
             [
              0.6666666666666666,
              "#ed7953"
             ],
             [
              0.7777777777777778,
              "#fb9f3a"
             ],
             [
              0.8888888888888888,
              "#fdca26"
             ],
             [
              1,
              "#f0f921"
             ]
            ],
            "type": "histogram2d"
           }
          ],
          "histogram2dcontour": [
           {
            "colorbar": {
             "outlinewidth": 0,
             "ticks": ""
            },
            "colorscale": [
             [
              0,
              "#0d0887"
             ],
             [
              0.1111111111111111,
              "#46039f"
             ],
             [
              0.2222222222222222,
              "#7201a8"
             ],
             [
              0.3333333333333333,
              "#9c179e"
             ],
             [
              0.4444444444444444,
              "#bd3786"
             ],
             [
              0.5555555555555556,
              "#d8576b"
             ],
             [
              0.6666666666666666,
              "#ed7953"
             ],
             [
              0.7777777777777778,
              "#fb9f3a"
             ],
             [
              0.8888888888888888,
              "#fdca26"
             ],
             [
              1,
              "#f0f921"
             ]
            ],
            "type": "histogram2dcontour"
           }
          ],
          "mesh3d": [
           {
            "colorbar": {
             "outlinewidth": 0,
             "ticks": ""
            },
            "type": "mesh3d"
           }
          ],
          "parcoords": [
           {
            "line": {
             "colorbar": {
              "outlinewidth": 0,
              "ticks": ""
             }
            },
            "type": "parcoords"
           }
          ],
          "pie": [
           {
            "automargin": true,
            "type": "pie"
           }
          ],
          "scatter": [
           {
            "fillpattern": {
             "fillmode": "overlay",
             "size": 10,
             "solidity": 0.2
            },
            "type": "scatter"
           }
          ],
          "scatter3d": [
           {
            "line": {
             "colorbar": {
              "outlinewidth": 0,
              "ticks": ""
             }
            },
            "marker": {
             "colorbar": {
              "outlinewidth": 0,
              "ticks": ""
             }
            },
            "type": "scatter3d"
           }
          ],
          "scattercarpet": [
           {
            "marker": {
             "colorbar": {
              "outlinewidth": 0,
              "ticks": ""
             }
            },
            "type": "scattercarpet"
           }
          ],
          "scattergeo": [
           {
            "marker": {
             "colorbar": {
              "outlinewidth": 0,
              "ticks": ""
             }
            },
            "type": "scattergeo"
           }
          ],
          "scattergl": [
           {
            "marker": {
             "colorbar": {
              "outlinewidth": 0,
              "ticks": ""
             }
            },
            "type": "scattergl"
           }
          ],
          "scattermapbox": [
           {
            "marker": {
             "colorbar": {
              "outlinewidth": 0,
              "ticks": ""
             }
            },
            "type": "scattermapbox"
           }
          ],
          "scatterpolar": [
           {
            "marker": {
             "colorbar": {
              "outlinewidth": 0,
              "ticks": ""
             }
            },
            "type": "scatterpolar"
           }
          ],
          "scatterpolargl": [
           {
            "marker": {
             "colorbar": {
              "outlinewidth": 0,
              "ticks": ""
             }
            },
            "type": "scatterpolargl"
           }
          ],
          "scatterternary": [
           {
            "marker": {
             "colorbar": {
              "outlinewidth": 0,
              "ticks": ""
             }
            },
            "type": "scatterternary"
           }
          ],
          "surface": [
           {
            "colorbar": {
             "outlinewidth": 0,
             "ticks": ""
            },
            "colorscale": [
             [
              0,
              "#0d0887"
             ],
             [
              0.1111111111111111,
              "#46039f"
             ],
             [
              0.2222222222222222,
              "#7201a8"
             ],
             [
              0.3333333333333333,
              "#9c179e"
             ],
             [
              0.4444444444444444,
              "#bd3786"
             ],
             [
              0.5555555555555556,
              "#d8576b"
             ],
             [
              0.6666666666666666,
              "#ed7953"
             ],
             [
              0.7777777777777778,
              "#fb9f3a"
             ],
             [
              0.8888888888888888,
              "#fdca26"
             ],
             [
              1,
              "#f0f921"
             ]
            ],
            "type": "surface"
           }
          ],
          "table": [
           {
            "cells": {
             "fill": {
              "color": "#EBF0F8"
             },
             "line": {
              "color": "white"
             }
            },
            "header": {
             "fill": {
              "color": "#C8D4E3"
             },
             "line": {
              "color": "white"
             }
            },
            "type": "table"
           }
          ]
         },
         "layout": {
          "annotationdefaults": {
           "arrowcolor": "#2a3f5f",
           "arrowhead": 0,
           "arrowwidth": 1
          },
          "autotypenumbers": "strict",
          "coloraxis": {
           "colorbar": {
            "outlinewidth": 0,
            "ticks": ""
           }
          },
          "colorscale": {
           "diverging": [
            [
             0,
             "#8e0152"
            ],
            [
             0.1,
             "#c51b7d"
            ],
            [
             0.2,
             "#de77ae"
            ],
            [
             0.3,
             "#f1b6da"
            ],
            [
             0.4,
             "#fde0ef"
            ],
            [
             0.5,
             "#f7f7f7"
            ],
            [
             0.6,
             "#e6f5d0"
            ],
            [
             0.7,
             "#b8e186"
            ],
            [
             0.8,
             "#7fbc41"
            ],
            [
             0.9,
             "#4d9221"
            ],
            [
             1,
             "#276419"
            ]
           ],
           "sequential": [
            [
             0,
             "#0d0887"
            ],
            [
             0.1111111111111111,
             "#46039f"
            ],
            [
             0.2222222222222222,
             "#7201a8"
            ],
            [
             0.3333333333333333,
             "#9c179e"
            ],
            [
             0.4444444444444444,
             "#bd3786"
            ],
            [
             0.5555555555555556,
             "#d8576b"
            ],
            [
             0.6666666666666666,
             "#ed7953"
            ],
            [
             0.7777777777777778,
             "#fb9f3a"
            ],
            [
             0.8888888888888888,
             "#fdca26"
            ],
            [
             1,
             "#f0f921"
            ]
           ],
           "sequentialminus": [
            [
             0,
             "#0d0887"
            ],
            [
             0.1111111111111111,
             "#46039f"
            ],
            [
             0.2222222222222222,
             "#7201a8"
            ],
            [
             0.3333333333333333,
             "#9c179e"
            ],
            [
             0.4444444444444444,
             "#bd3786"
            ],
            [
             0.5555555555555556,
             "#d8576b"
            ],
            [
             0.6666666666666666,
             "#ed7953"
            ],
            [
             0.7777777777777778,
             "#fb9f3a"
            ],
            [
             0.8888888888888888,
             "#fdca26"
            ],
            [
             1,
             "#f0f921"
            ]
           ]
          },
          "colorway": [
           "#636efa",
           "#EF553B",
           "#00cc96",
           "#ab63fa",
           "#FFA15A",
           "#19d3f3",
           "#FF6692",
           "#B6E880",
           "#FF97FF",
           "#FECB52"
          ],
          "font": {
           "color": "#2a3f5f"
          },
          "geo": {
           "bgcolor": "white",
           "lakecolor": "white",
           "landcolor": "#E5ECF6",
           "showlakes": true,
           "showland": true,
           "subunitcolor": "white"
          },
          "hoverlabel": {
           "align": "left"
          },
          "hovermode": "closest",
          "mapbox": {
           "style": "light"
          },
          "paper_bgcolor": "white",
          "plot_bgcolor": "#E5ECF6",
          "polar": {
           "angularaxis": {
            "gridcolor": "white",
            "linecolor": "white",
            "ticks": ""
           },
           "bgcolor": "#E5ECF6",
           "radialaxis": {
            "gridcolor": "white",
            "linecolor": "white",
            "ticks": ""
           }
          },
          "scene": {
           "xaxis": {
            "backgroundcolor": "#E5ECF6",
            "gridcolor": "white",
            "gridwidth": 2,
            "linecolor": "white",
            "showbackground": true,
            "ticks": "",
            "zerolinecolor": "white"
           },
           "yaxis": {
            "backgroundcolor": "#E5ECF6",
            "gridcolor": "white",
            "gridwidth": 2,
            "linecolor": "white",
            "showbackground": true,
            "ticks": "",
            "zerolinecolor": "white"
           },
           "zaxis": {
            "backgroundcolor": "#E5ECF6",
            "gridcolor": "white",
            "gridwidth": 2,
            "linecolor": "white",
            "showbackground": true,
            "ticks": "",
            "zerolinecolor": "white"
           }
          },
          "shapedefaults": {
           "line": {
            "color": "#2a3f5f"
           }
          },
          "ternary": {
           "aaxis": {
            "gridcolor": "white",
            "linecolor": "white",
            "ticks": ""
           },
           "baxis": {
            "gridcolor": "white",
            "linecolor": "white",
            "ticks": ""
           },
           "bgcolor": "#E5ECF6",
           "caxis": {
            "gridcolor": "white",
            "linecolor": "white",
            "ticks": ""
           }
          },
          "title": {
           "x": 0.05
          },
          "xaxis": {
           "automargin": true,
           "gridcolor": "white",
           "linecolor": "white",
           "ticks": "",
           "title": {
            "standoff": 15
           },
           "zerolinecolor": "white",
           "zerolinewidth": 2
          },
          "yaxis": {
           "automargin": true,
           "gridcolor": "white",
           "linecolor": "white",
           "ticks": "",
           "title": {
            "standoff": 15
           },
           "zerolinecolor": "white",
           "zerolinewidth": 2
          }
         }
        },
        "title": {
         "text": "BMI Distribution by Workout Type"
        },
        "xaxis": {
         "anchor": "y",
         "autorange": true,
         "categoryarray": [
          "Yoga",
          "HIIT",
          "Cardio",
          "Strength"
         ],
         "categoryorder": "array",
         "domain": [
          0,
          1
         ],
         "range": [
          -0.5,
          3.5
         ],
         "title": {
          "text": "Workout Type"
         },
         "type": "category"
        },
        "yaxis": {
         "anchor": "x",
         "autorange": true,
         "domain": [
          0,
          1
         ],
         "range": [
          10.235555555555555,
          51.92444444444445
         ],
         "title": {
          "text": "BMI"
         },
         "type": "linear"
        }
       }
      },
      "image/png": "[encoded data removed]",
      "text/html": [
       "<div>                            <div id=\"5ae1a3a5-8df4-467c-a220-b7ca274a106a\" class=\"plotly-graph-div\" style=\"height:525px; width:100%;\"></div>            <script type=\"text/javascript\">                require([\"plotly\"], function(Plotly) {                    window.PLOTLYENV=window.PLOTLYENV || {};                                    if (document.getElementById(\"5ae1a3a5-8df4-467c-a220-b7ca274a106a\")) {                    Plotly.newPlot(                        \"5ae1a3a5-8df4-467c-a220-b7ca274a106a\",                        [{\"alignmentgroup\":\"True\",\"hovertemplate\":\"Workout Type=%{x}\\u003cbr\\u003eBMI=%{y}\\u003cextra\\u003e\\u003c\\u002fextra\\u003e\",\"legendgroup\":\"Yoga\",\"marker\":{\"color\":\"#440154\"},\"name\":\"Yoga\",\"notched\":false,\"offsetgroup\":\"Yoga\",\"orientation\":\"v\",\"showlegend\":true,\"x\":[\"Yoga\",\"Yoga\",\"Yoga\",\"Yoga\",\"Yoga\",\"Yoga\",\"Yoga\",\"Yoga\",\"Yoga\",\"Yoga\",\"Yoga\",\"Yoga\",\"Yoga\",\"Yoga\",\"Yoga\",\"Yoga\",\"Yoga\",\"Yoga\",\"Yoga\",\"Yoga\",\"Yoga\",\"Yoga\",\"Yoga\",\"Yoga\",\"Yoga\",\"Yoga\",\"Yoga\",\"Yoga\",\"Yoga\",\"Yoga\",\"Yoga\",\"Yoga\",\"Yoga\",\"Yoga\",\"Yoga\",\"Yoga\",\"Yoga\",\"Yoga\",\"Yoga\",\"Yoga\",\"Yoga\",\"Yoga\",\"Yoga\",\"Yoga\",\"Yoga\",\"Yoga\",\"Yoga\",\"Yoga\",\"Yoga\",\"Yoga\",\"Yoga\",\"Yoga\",\"Yoga\",\"Yoga\",\"Yoga\",\"Yoga\",\"Yoga\",\"Yoga\",\"Yoga\",\"Yoga\",\"Yoga\",\"Yoga\",\"Yoga\",\"Yoga\",\"Yoga\",\"Yoga\",\"Yoga\",\"Yoga\",\"Yoga\",\"Yoga\",\"Yoga\",\"Yoga\",\"Yoga\",\"Yoga\",\"Yoga\",\"Yoga\",\"Yoga\",\"Yoga\",\"Yoga\",\"Yoga\",\"Yoga\",\"Yoga\",\"Yoga\",\"Yoga\",\"Yoga\",\"Yoga\",\"Yoga\",\"Yoga\",\"Yoga\",\"Yoga\",\"Yoga\",\"Yoga\",\"Yoga\",\"Yoga\",\"Yoga\",\"Yoga\",\"Yoga\",\"Yoga\",\"Yoga\",\"Yoga\",\"Yoga\",\"Yoga\",\"Yoga\",\"Yoga\",\"Yoga\",\"Yoga\",\"Yoga\",\"Yoga\",\"Yoga\",\"Yoga\",\"Yoga\",\"Yoga\",\"Yoga\",\"Yoga\",\"Yoga\",\"Yoga\",\"Yoga\",\"Yoga\",\"Yoga\",\"Yoga\",\"Yoga\",\"Yoga\",\"Yoga\",\"Yoga\",\"Yoga\",\"Yoga\",\"Yoga\",\"Yoga\",\"Yoga\",\"Yoga\",\"Yoga\",\"Yoga\",\"Yoga\",\"Yoga\",\"Yoga\",\"Yoga\",\"Yoga\",\"Yoga\",\"Yoga\",\"Yoga\",\"Yoga\",\"Yoga\",\"Yoga\",\"Yoga\",\"Yoga\",\"Yoga\",\"Yoga\",\"Yoga\",\"Yoga\",\"Yoga\",\"Yoga\",\"Yoga\",\"Yoga\",\"Yoga\",\"Yoga\",\"Yoga\",\"Yoga\",\"Yoga\",\"Yoga\",\"Yoga\",\"Yoga\",\"Yoga\",\"Yoga\",\"Yoga\",\"Yoga\",\"Yoga\",\"Yoga\",\"Yoga\",\"Yoga\",\"Yoga\",\"Yoga\",\"Yoga\",\"Yoga\",\"Yoga\",\"Yoga\",\"Yoga\",\"Yoga\",\"Yoga\",\"Yoga\",\"Yoga\",\"Yoga\",\"Yoga\",\"Yoga\",\"Yoga\",\"Yoga\",\"Yoga\",\"Yoga\",\"Yoga\",\"Yoga\",\"Yoga\",\"Yoga\",\"Yoga\",\"Yoga\",\"Yoga\",\"Yoga\",\"Yoga\",\"Yoga\",\"Yoga\",\"Yoga\",\"Yoga\",\"Yoga\",\"Yoga\",\"Yoga\",\"Yoga\",\"Yoga\",\"Yoga\",\"Yoga\",\"Yoga\",\"Yoga\",\"Yoga\",\"Yoga\",\"Yoga\",\"Yoga\",\"Yoga\",\"Yoga\",\"Yoga\",\"Yoga\",\"Yoga\",\"Yoga\",\"Yoga\",\"Yoga\",\"Yoga\",\"Yoga\",\"Yoga\",\"Yoga\",\"Yoga\",\"Yoga\",\"Yoga\",\"Yoga\",\"Yoga\",\"Yoga\",\"Yoga\",\"Yoga\",\"Yoga\",\"Yoga\",\"Yoga\",\"Yoga\",\"Yoga\",\"Yoga\"],\"x0\":\" \",\"xaxis\":\"x\",\"y\":[30.2,35.93,25.16,38.16,21.78,28.31,33.8,18.07,19.43,28.35,16.86,19.72,15.24,33.16,19.65,23.53,21.53,29.61,40.71,29.61,15.7,22.61,17.54,18.66,25.81,23.74,30.52,24.16,29.95,17.88,34.24,22.43,21.78,18.26,22.64,24.55,14.54,26.1,20.06,16.04,29.88,25.58,13.03,30.22,26.77,17.94,17.16,15.65,21.02,14.69,22.85,18.32,19.12,28.09,16.28,24.91,16.22,36.02,16.35,21.26,15.72,25.23,12.73,47.72,25.35,25.39,20.4,17.61,29.21,17.46,23.75,15.02,29.26,19.21,18.62,18.62,21.72,23.94,28.27,20.62,20.28,31.05,19.44,18.33,18.13,27.52,17.93,19.65,25.41,32.24,29.7,22.41,25.35,19.35,21.45,36.22,20.47,15.5,28.02,23.59,23.27,27.55,27.68,22.41,27.79,15.5,23.14,22.17,26.58,28.88,35.51,26.69,26.01,31.3,30.51,14.87,26.32,25.11,16.25,24.16,26.75,23.73,27.59,23.87,31.53,20.86,26.4,30.89,25.49,27.18,17.32,17.25,28.93,17.85,23.84,43.4,29.46,20.7,26.43,32.34,24.76,25.15,20.14,27.35,27.92,16.53,23.35,31.14,35.44,20.13,21.66,38.5,22.07,18.68,19.06,19.71,29.1,29.17,19.01,21.99,19.45,19.73,45.14,22.14,24.31,20.83,29.14,16.09,46.98,23.79,27.58,41.34,14.87,33.07,38.76,24.5,35.19,19.13,23.11,25.62,22.22,30.43,20.83,28.7,22.31,21.87,32.72,13.95,13.82,17.91,26.99,23.01,19.86,24.42,28.2,27.78,27.11,34.8,29.69,20.36,22.67,19.55,21.49,29.97,22.48,30.68,16.66,17.2,22.06,40.52,49.84,18.98,26.08,29.89,13.36,14.74,23.48,25.7,19.88,25.56,18.46,23.7,26.75,31.32,21.84,28.56,24.07,30.19,21.83,41.56,23.33,27.18,30.43,25.85,29.23,21.67,23.88,16.8,21.48],\"y0\":\" \",\"yaxis\":\"y\",\"type\":\"box\"},{\"alignmentgroup\":\"True\",\"hovertemplate\":\"Workout Type=%{x}\\u003cbr\\u003eBMI=%{y}\\u003cextra\\u003e\\u003c\\u002fextra\\u003e\",\"legendgroup\":\"HIIT\",\"marker\":{\"color\":\"#482878\"},\"name\":\"HIIT\",\"notched\":false,\"offsetgroup\":\"HIIT\",\"orientation\":\"v\",\"showlegend\":true,\"x\":[\"HIIT\",\"HIIT\",\"HIIT\",\"HIIT\",\"HIIT\",\"HIIT\",\"HIIT\",\"HIIT\",\"HIIT\",\"HIIT\",\"HIIT\",\"HIIT\",\"HIIT\",\"HIIT\",\"HIIT\",\"HIIT\",\"HIIT\",\"HIIT\",\"HIIT\",\"HIIT\",\"HIIT\",\"HIIT\",\"HIIT\",\"HIIT\",\"HIIT\",\"HIIT\",\"HIIT\",\"HIIT\",\"HIIT\",\"HIIT\",\"HIIT\",\"HIIT\",\"HIIT\",\"HIIT\",\"HIIT\",\"HIIT\",\"HIIT\",\"HIIT\",\"HIIT\",\"HIIT\",\"HIIT\",\"HIIT\",\"HIIT\",\"HIIT\",\"HIIT\",\"HIIT\",\"HIIT\",\"HIIT\",\"HIIT\",\"HIIT\",\"HIIT\",\"HIIT\",\"HIIT\",\"HIIT\",\"HIIT\",\"HIIT\",\"HIIT\",\"HIIT\",\"HIIT\",\"HIIT\",\"HIIT\",\"HIIT\",\"HIIT\",\"HIIT\",\"HIIT\",\"HIIT\",\"HIIT\",\"HIIT\",\"HIIT\",\"HIIT\",\"HIIT\",\"HIIT\",\"HIIT\",\"HIIT\",\"HIIT\",\"HIIT\",\"HIIT\",\"HIIT\",\"HIIT\",\"HIIT\",\"HIIT\",\"HIIT\",\"HIIT\",\"HIIT\",\"HIIT\",\"HIIT\",\"HIIT\",\"HIIT\",\"HIIT\",\"HIIT\",\"HIIT\",\"HIIT\",\"HIIT\",\"HIIT\",\"HIIT\",\"HIIT\",\"HIIT\",\"HIIT\",\"HIIT\",\"HIIT\",\"HIIT\",\"HIIT\",\"HIIT\",\"HIIT\",\"HIIT\",\"HIIT\",\"HIIT\",\"HIIT\",\"HIIT\",\"HIIT\",\"HIIT\",\"HIIT\",\"HIIT\",\"HIIT\",\"HIIT\",\"HIIT\",\"HIIT\",\"HIIT\",\"HIIT\",\"HIIT\",\"HIIT\",\"HIIT\",\"HIIT\",\"HIIT\",\"HIIT\",\"HIIT\",\"HIIT\",\"HIIT\",\"HIIT\",\"HIIT\",\"HIIT\",\"HIIT\",\"HIIT\",\"HIIT\",\"HIIT\",\"HIIT\",\"HIIT\",\"HIIT\",\"HIIT\",\"HIIT\",\"HIIT\",\"HIIT\",\"HIIT\",\"HIIT\",\"HIIT\",\"HIIT\",\"HIIT\",\"HIIT\",\"HIIT\",\"HIIT\",\"HIIT\",\"HIIT\",\"HIIT\",\"HIIT\",\"HIIT\",\"HIIT\",\"HIIT\",\"HIIT\",\"HIIT\",\"HIIT\",\"HIIT\",\"HIIT\",\"HIIT\",\"HIIT\",\"HIIT\",\"HIIT\",\"HIIT\",\"HIIT\",\"HIIT\",\"HIIT\",\"HIIT\",\"HIIT\",\"HIIT\",\"HIIT\",\"HIIT\",\"HIIT\",\"HIIT\",\"HIIT\",\"HIIT\",\"HIIT\",\"HIIT\",\"HIIT\",\"HIIT\",\"HIIT\",\"HIIT\",\"HIIT\",\"HIIT\",\"HIIT\",\"HIIT\",\"HIIT\",\"HIIT\",\"HIIT\",\"HIIT\",\"HIIT\",\"HIIT\",\"HIIT\",\"HIIT\",\"HIIT\",\"HIIT\",\"HIIT\",\"HIIT\",\"HIIT\",\"HIIT\",\"HIIT\",\"HIIT\",\"HIIT\",\"HIIT\",\"HIIT\",\"HIIT\",\"HIIT\",\"HIIT\",\"HIIT\",\"HIIT\",\"HIIT\",\"HIIT\",\"HIIT\",\"HIIT\",\"HIIT\",\"HIIT\",\"HIIT\",\"HIIT\"],\"x0\":\" \",\"xaxis\":\"x\",\"y\":[32.0,20.55,43.31,17.89,23.62,27.34,26.96,22.51,20.12,24.54,27.64,33.4,19.37,27.84,40.1,22.78,16.99,33.55,39.12,25.89,24.72,29.53,31.44,22.31,21.64,23.52,20.88,45.43,24.75,31.61,27.93,22.69,16.42,18.18,19.88,37.87,24.16,31.17,22.54,16.78,34.53,18.28,25.08,22.33,26.26,28.76,35.18,19.01,23.51,28.15,15.02,28.49,29.98,25.73,24.36,45.14,26.47,33.86,18.77,40.09,24.54,26.64,24.25,22.55,17.47,36.47,21.26,24.87,29.56,24.51,28.46,35.82,26.9,16.2,24.31,22.79,23.92,26.47,30.12,21.87,22.51,23.81,22.26,19.69,34.89,28.43,18.23,34.53,23.08,19.74,22.1,26.41,26.95,24.64,19.69,23.53,22.32,14.59,21.39,23.53,15.88,24.55,34.63,20.2,46.9,33.2,26.52,21.27,21.26,18.35,16.8,15.43,32.69,23.33,20.75,20.1,17.93,28.35,31.63,27.82,24.91,25.98,31.84,25.33,21.07,21.04,31.08,26.79,27.69,21.34,20.2,26.16,30.09,24.26,24.35,16.5,13.81,21.66,21.8,24.72,41.84,23.56,24.31,19.49,23.94,33.5,30.05,23.17,30.59,22.02,17.65,27.94,19.41,17.06,16.23,22.48,25.03,19.47,31.26,23.37,24.52,15.72,22.64,32.84,21.45,19.72,25.33,22.19,30.63,27.47,30.64,30.74,23.88,31.49,19.92,17.33,16.48,14.6,25.75,16.56,32.74,23.71,30.49,30.55,21.67,19.31,21.16,29.34,27.53,26.54,17.05,32.75,28.78,18.45,23.77,28.56,26.81,26.33,17.61,22.96,13.38,27.05,17.44,30.34,27.43,21.06,34.92,12.97,25.54,23.79,28.28,20.76,27.2,16.01,44.66,27.55,20.07,23.02,30.63,23.93,37.74],\"y0\":\" \",\"yaxis\":\"y\",\"type\":\"box\"},{\"alignmentgroup\":\"True\",\"hovertemplate\":\"Workout Type=%{x}\\u003cbr\\u003eBMI=%{y}\\u003cextra\\u003e\\u003c\\u002fextra\\u003e\",\"legendgroup\":\"Cardio\",\"marker\":{\"color\":\"#3e4989\"},\"name\":\"Cardio\",\"notched\":false,\"offsetgroup\":\"Cardio\",\"orientation\":\"v\",\"showlegend\":true,\"x\":[\"Cardio\",\"Cardio\",\"Cardio\",\"Cardio\",\"Cardio\",\"Cardio\",\"Cardio\",\"Cardio\",\"Cardio\",\"Cardio\",\"Cardio\",\"Cardio\",\"Cardio\",\"Cardio\",\"Cardio\",\"Cardio\",\"Cardio\",\"Cardio\",\"Cardio\",\"Cardio\",\"Cardio\",\"Cardio\",\"Cardio\",\"Cardio\",\"Cardio\",\"Cardio\",\"Cardio\",\"Cardio\",\"Cardio\",\"Cardio\",\"Cardio\",\"Cardio\",\"Cardio\",\"Cardio\",\"Cardio\",\"Cardio\",\"Cardio\",\"Cardio\",\"Cardio\",\"Cardio\",\"Cardio\",\"Cardio\",\"Cardio\",\"Cardio\",\"Cardio\",\"Cardio\",\"Cardio\",\"Cardio\",\"Cardio\",\"Cardio\",\"Cardio\",\"Cardio\",\"Cardio\",\"Cardio\",\"Cardio\",\"Cardio\",\"Cardio\",\"Cardio\",\"Cardio\",\"Cardio\",\"Cardio\",\"Cardio\",\"Cardio\",\"Cardio\",\"Cardio\",\"Cardio\",\"Cardio\",\"Cardio\",\"Cardio\",\"Cardio\",\"Cardio\",\"Cardio\",\"Cardio\",\"Cardio\",\"Cardio\",\"Cardio\",\"Cardio\",\"Cardio\",\"Cardio\",\"Cardio\",\"Cardio\",\"Cardio\",\"Cardio\",\"Cardio\",\"Cardio\",\"Cardio\",\"Cardio\",\"Cardio\",\"Cardio\",\"Cardio\",\"Cardio\",\"Cardio\",\"Cardio\",\"Cardio\",\"Cardio\",\"Cardio\",\"Cardio\",\"Cardio\",\"Cardio\",\"Cardio\",\"Cardio\",\"Cardio\",\"Cardio\",\"Cardio\",\"Cardio\",\"Cardio\",\"Cardio\",\"Cardio\",\"Cardio\",\"Cardio\",\"Cardio\",\"Cardio\",\"Cardio\",\"Cardio\",\"Cardio\",\"Cardio\",\"Cardio\",\"Cardio\",\"Cardio\",\"Cardio\",\"Cardio\",\"Cardio\",\"Cardio\",\"Cardio\",\"Cardio\",\"Cardio\",\"Cardio\",\"Cardio\",\"Cardio\",\"Cardio\",\"Cardio\",\"Cardio\",\"Cardio\",\"Cardio\",\"Cardio\",\"Cardio\",\"Cardio\",\"Cardio\",\"Cardio\",\"Cardio\",\"Cardio\",\"Cardio\",\"Cardio\",\"Cardio\",\"Cardio\",\"Cardio\",\"Cardio\",\"Cardio\",\"Cardio\",\"Cardio\",\"Cardio\",\"Cardio\",\"Cardio\",\"Cardio\",\"Cardio\",\"Cardio\",\"Cardio\",\"Cardio\",\"Cardio\",\"Cardio\",\"Cardio\",\"Cardio\",\"Cardio\",\"Cardio\",\"Cardio\",\"Cardio\",\"Cardio\",\"Cardio\",\"Cardio\",\"Cardio\",\"Cardio\",\"Cardio\",\"Cardio\",\"Cardio\",\"Cardio\",\"Cardio\",\"Cardio\",\"Cardio\",\"Cardio\",\"Cardio\",\"Cardio\",\"Cardio\",\"Cardio\",\"Cardio\",\"Cardio\",\"Cardio\",\"Cardio\",\"Cardio\",\"Cardio\",\"Cardio\",\"Cardio\",\"Cardio\",\"Cardio\",\"Cardio\",\"Cardio\",\"Cardio\",\"Cardio\",\"Cardio\",\"Cardio\",\"Cardio\",\"Cardio\",\"Cardio\",\"Cardio\",\"Cardio\",\"Cardio\",\"Cardio\",\"Cardio\",\"Cardio\",\"Cardio\",\"Cardio\",\"Cardio\",\"Cardio\",\"Cardio\",\"Cardio\",\"Cardio\",\"Cardio\",\"Cardio\",\"Cardio\",\"Cardio\",\"Cardio\",\"Cardio\",\"Cardio\",\"Cardio\",\"Cardio\",\"Cardio\",\"Cardio\",\"Cardio\",\"Cardio\",\"Cardio\",\"Cardio\",\"Cardio\",\"Cardio\",\"Cardio\",\"Cardio\",\"Cardio\",\"Cardio\",\"Cardio\",\"Cardio\",\"Cardio\",\"Cardio\",\"Cardio\",\"Cardio\",\"Cardio\",\"Cardio\",\"Cardio\",\"Cardio\",\"Cardio\",\"Cardio\",\"Cardio\",\"Cardio\",\"Cardio\",\"Cardio\",\"Cardio\",\"Cardio\",\"Cardio\"],\"x0\":\" \",\"xaxis\":\"x\",\"y\":[24.71,23.76,30.57,30.07,43.4,13.98,22.95,25.83,24.37,21.4,17.3,23.93,23.17,33.61,27.18,34.18,44.84,21.77,20.86,25.89,20.88,21.88,35.86,18.15,21.58,17.27,29.71,21.53,27.85,22.15,37.56,18.76,16.52,26.65,29.26,21.41,24.5,22.08,30.18,19.63,23.05,20.55,28.97,12.47,21.91,39.16,27.69,25.86,24.97,22.82,24.87,19.67,17.94,27.71,14.61,28.22,36.29,26.73,21.16,26.67,24.78,18.67,29.11,23.53,25.07,28.43,17.75,19.01,18.88,15.24,26.64,17.72,25.75,28.92,20.16,19.69,31.14,23.46,34.83,30.1,31.75,45.49,29.26,19.98,25.49,43.31,31.4,15.8,28.49,23.64,20.71,31.94,14.36,44.71,22.76,30.26,37.76,26.74,25.51,18.67,26.46,15.59,21.8,19.37,25.13,29.83,17.63,22.23,36.25,12.67,31.04,14.85,25.02,32.7,18.1,26.57,39.3,30.89,32.63,23.65,37.53,28.59,34.12,26.05,19.1,15.5,18.39,27.61,19.91,27.23,17.03,23.22,22.56,33.17,20.38,17.7,42.3,21.16,27.84,32.51,21.16,28.52,30.76,30.4,25.05,16.27,25.55,36.01,24.09,22.96,33.21,21.23,40.26,30.4,20.62,22.15,25.73,19.51,20.29,24.64,16.14,18.44,24.28,23.46,16.19,29.34,22.57,16.54,26.36,18.64,23.8,31.05,26.48,23.78,25.73,29.49,33.33,23.81,29.89,27.14,26.47,39.77,19.02,28.97,24.84,30.96,22.32,24.87,27.88,17.4,12.85,23.2,26.46,32.73,20.29,18.68,15.14,12.32,23.79,26.48,31.71,22.44,15.73,17.4,20.27,23.64,26.43,40.79,21.0,23.1,22.48,16.97,26.66,21.29,25.72,37.98,15.65,23.8,24.84,26.68,31.31,28.46,23.6,46.94,24.2,23.21,24.21,29.5,32.66,23.25,24.44,36.95,26.32,23.98,24.78,26.47,26.14,31.64,33.61,44.1,22.6,28.68,18.65,30.66,27.11,22.99,23.79,31.74,16.01,23.41,23.28,27.03,14.3,22.48,19.5],\"y0\":\" \",\"yaxis\":\"y\",\"type\":\"box\"},{\"alignmentgroup\":\"True\",\"hovertemplate\":\"Workout Type=%{x}\\u003cbr\\u003eBMI=%{y}\\u003cextra\\u003e\\u003c\\u002fextra\\u003e\",\"legendgroup\":\"Strength\",\"marker\":{\"color\":\"#31688e\"},\"name\":\"Strength\",\"notched\":false,\"offsetgroup\":\"Strength\",\"orientation\":\"v\",\"showlegend\":true,\"x\":[\"Strength\",\"Strength\",\"Strength\",\"Strength\",\"Strength\",\"Strength\",\"Strength\",\"Strength\",\"Strength\",\"Strength\",\"Strength\",\"Strength\",\"Strength\",\"Strength\",\"Strength\",\"Strength\",\"Strength\",\"Strength\",\"Strength\",\"Strength\",\"Strength\",\"Strength\",\"Strength\",\"Strength\",\"Strength\",\"Strength\",\"Strength\",\"Strength\",\"Strength\",\"Strength\",\"Strength\",\"Strength\",\"Strength\",\"Strength\",\"Strength\",\"Strength\",\"Strength\",\"Strength\",\"Strength\",\"Strength\",\"Strength\",\"Strength\",\"Strength\",\"Strength\",\"Strength\",\"Strength\",\"Strength\",\"Strength\",\"Strength\",\"Strength\",\"Strength\",\"Strength\",\"Strength\",\"Strength\",\"Strength\",\"Strength\",\"Strength\",\"Strength\",\"Strength\",\"Strength\",\"Strength\",\"Strength\",\"Strength\",\"Strength\",\"Strength\",\"Strength\",\"Strength\",\"Strength\",\"Strength\",\"Strength\",\"Strength\",\"Strength\",\"Strength\",\"Strength\",\"Strength\",\"Strength\",\"Strength\",\"Strength\",\"Strength\",\"Strength\",\"Strength\",\"Strength\",\"Strength\",\"Strength\",\"Strength\",\"Strength\",\"Strength\",\"Strength\",\"Strength\",\"Strength\",\"Strength\",\"Strength\",\"Strength\",\"Strength\",\"Strength\",\"Strength\",\"Strength\",\"Strength\",\"Strength\",\"Strength\",\"Strength\",\"Strength\",\"Strength\",\"Strength\",\"Strength\",\"Strength\",\"Strength\",\"Strength\",\"Strength\",\"Strength\",\"Strength\",\"Strength\",\"Strength\",\"Strength\",\"Strength\",\"Strength\",\"Strength\",\"Strength\",\"Strength\",\"Strength\",\"Strength\",\"Strength\",\"Strength\",\"Strength\",\"Strength\",\"Strength\",\"Strength\",\"Strength\",\"Strength\",\"Strength\",\"Strength\",\"Strength\",\"Strength\",\"Strength\",\"Strength\",\"Strength\",\"Strength\",\"Strength\",\"Strength\",\"Strength\",\"Strength\",\"Strength\",\"Strength\",\"Strength\",\"Strength\",\"Strength\",\"Strength\",\"Strength\",\"Strength\",\"Strength\",\"Strength\",\"Strength\",\"Strength\",\"Strength\",\"Strength\",\"Strength\",\"Strength\",\"Strength\",\"Strength\",\"Strength\",\"Strength\",\"Strength\",\"Strength\",\"Strength\",\"Strength\",\"Strength\",\"Strength\",\"Strength\",\"Strength\",\"Strength\",\"Strength\",\"Strength\",\"Strength\",\"Strength\",\"Strength\",\"Strength\",\"Strength\",\"Strength\",\"Strength\",\"Strength\",\"Strength\",\"Strength\",\"Strength\",\"Strength\",\"Strength\",\"Strength\",\"Strength\",\"Strength\",\"Strength\",\"Strength\",\"Strength\",\"Strength\",\"Strength\",\"Strength\",\"Strength\",\"Strength\",\"Strength\",\"Strength\",\"Strength\",\"Strength\",\"Strength\",\"Strength\",\"Strength\",\"Strength\",\"Strength\",\"Strength\",\"Strength\",\"Strength\",\"Strength\",\"Strength\",\"Strength\",\"Strength\",\"Strength\",\"Strength\",\"Strength\",\"Strength\",\"Strength\",\"Strength\",\"Strength\",\"Strength\",\"Strength\",\"Strength\",\"Strength\",\"Strength\",\"Strength\",\"Strength\",\"Strength\",\"Strength\",\"Strength\",\"Strength\",\"Strength\",\"Strength\",\"Strength\",\"Strength\",\"Strength\",\"Strength\",\"Strength\",\"Strength\",\"Strength\",\"Strength\",\"Strength\",\"Strength\",\"Strength\",\"Strength\",\"Strength\",\"Strength\",\"Strength\",\"Strength\",\"Strength\",\"Strength\",\"Strength\",\"Strength\",\"Strength\",\"Strength\",\"Strength\",\"Strength\",\"Strength\",\"Strength\"],\"x0\":\" \",\"xaxis\":\"x\",\"y\":[18.41,14.39,32.34,13.88,21.81,28.41,17.6,42.63,33.14,19.11,17.77,15.31,20.42,32.69,22.45,32.93,17.11,22.28,27.7,16.76,28.87,19.42,22.89,30.3,26.05,34.5,18.12,23.09,31.41,29.87,25.68,27.85,27.96,34.06,30.54,14.93,15.08,26.86,23.59,13.23,25.65,38.78,27.01,23.07,15.9,22.16,25.1,19.63,25.42,29.56,25.85,24.96,21.3,23.53,23.73,32.69,25.28,29.07,16.56,28.05,21.36,34.68,30.37,21.49,25.36,34.29,22.15,26.84,26.61,20.38,17.57,20.76,13.71,31.48,32.32,24.25,34.14,24.34,25.2,23.06,29.92,27.97,26.13,19.45,20.91,13.51,28.44,14.88,26.01,15.07,34.06,23.97,19.91,28.69,15.61,25.23,34.25,21.65,18.53,38.73,22.98,24.13,29.98,28.78,22.27,15.46,22.18,14.78,28.49,33.04,24.52,14.1,26.33,19.76,40.45,20.63,20.66,30.47,17.92,20.05,21.87,20.61,24.78,22.44,18.37,17.44,24.13,41.6,33.45,18.12,23.56,26.36,19.71,25.67,18.29,32.66,25.05,26.39,24.31,20.71,25.22,21.63,26.02,22.28,22.86,26.19,17.6,23.95,13.78,34.06,24.37,23.76,23.84,18.35,26.16,23.88,21.05,23.88,28.03,27.12,36.46,17.51,14.85,17.82,18.24,23.78,15.49,25.57,31.75,25.01,28.12,15.75,37.11,27.57,15.23,15.42,35.79,17.01,35.04,33.72,27.66,34.34,17.59,21.48,29.62,21.0,30.44,18.7,16.41,21.8,19.09,19.36,20.11,20.76,28.88,33.97,12.91,27.74,26.98,22.72,22.81,32.42,18.09,26.35,31.13,28.66,27.16,18.7,25.17,24.19,18.52,18.19,26.1,17.83,18.79,25.54,38.49,24.22,23.23,15.51,20.28,44.26,25.44,20.11,36.45,41.03,26.99,27.84,22.44,24.89,15.92,18.79,24.01,18.42,23.22,17.27,29.3,19.73,25.92,21.84,14.57,24.36,40.09,14.07,24.13,23.75,24.23,35.47,19.82,17.39,48.43,21.34,25.14,26.22,36.8,28.77,25.69,33.38],\"y0\":\" \",\"yaxis\":\"y\",\"type\":\"box\"}],                        {\"template\":{\"data\":{\"histogram2dcontour\":[{\"type\":\"histogram2dcontour\",\"colorbar\":{\"outlinewidth\":0,\"ticks\":\"\"},\"colorscale\":[[0.0,\"#0d0887\"],[0.1111111111111111,\"#46039f\"],[0.2222222222222222,\"#7201a8\"],[0.3333333333333333,\"#9c179e\"],[0.4444444444444444,\"#bd3786\"],[0.5555555555555556,\"#d8576b\"],[0.6666666666666666,\"#ed7953\"],[0.7777777777777778,\"#fb9f3a\"],[0.8888888888888888,\"#fdca26\"],[1.0,\"#f0f921\"]]}],\"choropleth\":[{\"type\":\"choropleth\",\"colorbar\":{\"outlinewidth\":0,\"ticks\":\"\"}}],\"histogram2d\":[{\"type\":\"histogram2d\",\"colorbar\":{\"outlinewidth\":0,\"ticks\":\"\"},\"colorscale\":[[0.0,\"#0d0887\"],[0.1111111111111111,\"#46039f\"],[0.2222222222222222,\"#7201a8\"],[0.3333333333333333,\"#9c179e\"],[0.4444444444444444,\"#bd3786\"],[0.5555555555555556,\"#d8576b\"],[0.6666666666666666,\"#ed7953\"],[0.7777777777777778,\"#fb9f3a\"],[0.8888888888888888,\"#fdca26\"],[1.0,\"#f0f921\"]]}],\"heatmap\":[{\"type\":\"heatmap\",\"colorbar\":{\"outlinewidth\":0,\"ticks\":\"\"},\"colorscale\":[[0.0,\"#0d0887\"],[0.1111111111111111,\"#46039f\"],[0.2222222222222222,\"#7201a8\"],[0.3333333333333333,\"#9c179e\"],[0.4444444444444444,\"#bd3786\"],[0.5555555555555556,\"#d8576b\"],[0.6666666666666666,\"#ed7953\"],[0.7777777777777778,\"#fb9f3a\"],[0.8888888888888888,\"#fdca26\"],[1.0,\"#f0f921\"]]}],\"heatmapgl\":[{\"type\":\"heatmapgl\",\"colorbar\":{\"outlinewidth\":0,\"ticks\":\"\"},\"colorscale\":[[0.0,\"#0d0887\"],[0.1111111111111111,\"#46039f\"],[0.2222222222222222,\"#7201a8\"],[0.3333333333333333,\"#9c179e\"],[0.4444444444444444,\"#bd3786\"],[0.5555555555555556,\"#d8576b\"],[0.6666666666666666,\"#ed7953\"],[0.7777777777777778,\"#fb9f3a\"],[0.8888888888888888,\"#fdca26\"],[1.0,\"#f0f921\"]]}],\"contourcarpet\":[{\"type\":\"contourcarpet\",\"colorbar\":{\"outlinewidth\":0,\"ticks\":\"\"}}],\"contour\":[{\"type\":\"contour\",\"colorbar\":{\"outlinewidth\":0,\"ticks\":\"\"},\"colorscale\":[[0.0,\"#0d0887\"],[0.1111111111111111,\"#46039f\"],[0.2222222222222222,\"#7201a8\"],[0.3333333333333333,\"#9c179e\"],[0.4444444444444444,\"#bd3786\"],[0.5555555555555556,\"#d8576b\"],[0.6666666666666666,\"#ed7953\"],[0.7777777777777778,\"#fb9f3a\"],[0.8888888888888888,\"#fdca26\"],[1.0,\"#f0f921\"]]}],\"surface\":[{\"type\":\"surface\",\"colorbar\":{\"outlinewidth\":0,\"ticks\":\"\"},\"colorscale\":[[0.0,\"#0d0887\"],[0.1111111111111111,\"#46039f\"],[0.2222222222222222,\"#7201a8\"],[0.3333333333333333,\"#9c179e\"],[0.4444444444444444,\"#bd3786\"],[0.5555555555555556,\"#d8576b\"],[0.6666666666666666,\"#ed7953\"],[0.7777777777777778,\"#fb9f3a\"],[0.8888888888888888,\"#fdca26\"],[1.0,\"#f0f921\"]]}],\"mesh3d\":[{\"type\":\"mesh3d\",\"colorbar\":{\"outlinewidth\":0,\"ticks\":\"\"}}],\"scatter\":[{\"fillpattern\":{\"fillmode\":\"overlay\",\"size\":10,\"solidity\":0.2},\"type\":\"scatter\"}],\"parcoords\":[{\"type\":\"parcoords\",\"line\":{\"colorbar\":{\"outlinewidth\":0,\"ticks\":\"\"}}}],\"scatterpolargl\":[{\"type\":\"scatterpolargl\",\"marker\":{\"colorbar\":{\"outlinewidth\":0,\"ticks\":\"\"}}}],\"bar\":[{\"error_x\":{\"color\":\"#2a3f5f\"},\"error_y\":{\"color\":\"#2a3f5f\"},\"marker\":{\"line\":{\"color\":\"#E5ECF6\",\"width\":0.5},\"pattern\":{\"fillmode\":\"overlay\",\"size\":10,\"solidity\":0.2}},\"type\":\"bar\"}],\"scattergeo\":[{\"type\":\"scattergeo\",\"marker\":{\"colorbar\":{\"outlinewidth\":0,\"ticks\":\"\"}}}],\"scatterpolar\":[{\"type\":\"scatterpolar\",\"marker\":{\"colorbar\":{\"outlinewidth\":0,\"ticks\":\"\"}}}],\"histogram\":[{\"marker\":{\"pattern\":{\"fillmode\":\"overlay\",\"size\":10,\"solidity\":0.2}},\"type\":\"histogram\"}],\"scattergl\":[{\"type\":\"scattergl\",\"marker\":{\"colorbar\":{\"outlinewidth\":0,\"ticks\":\"\"}}}],\"scatter3d\":[{\"type\":\"scatter3d\",\"line\":{\"colorbar\":{\"outlinewidth\":0,\"ticks\":\"\"}},\"marker\":{\"colorbar\":{\"outlinewidth\":0,\"ticks\":\"\"}}}],\"scattermapbox\":[{\"type\":\"scattermapbox\",\"marker\":{\"colorbar\":{\"outlinewidth\":0,\"ticks\":\"\"}}}],\"scatterternary\":[{\"type\":\"scatterternary\",\"marker\":{\"colorbar\":{\"outlinewidth\":0,\"ticks\":\"\"}}}],\"scattercarpet\":[{\"type\":\"scattercarpet\",\"marker\":{\"colorbar\":{\"outlinewidth\":0,\"ticks\":\"\"}}}],\"carpet\":[{\"aaxis\":{\"endlinecolor\":\"#2a3f5f\",\"gridcolor\":\"white\",\"linecolor\":\"white\",\"minorgridcolor\":\"white\",\"startlinecolor\":\"#2a3f5f\"},\"baxis\":{\"endlinecolor\":\"#2a3f5f\",\"gridcolor\":\"white\",\"linecolor\":\"white\",\"minorgridcolor\":\"white\",\"startlinecolor\":\"#2a3f5f\"},\"type\":\"carpet\"}],\"table\":[{\"cells\":{\"fill\":{\"color\":\"#EBF0F8\"},\"line\":{\"color\":\"white\"}},\"header\":{\"fill\":{\"color\":\"#C8D4E3\"},\"line\":{\"color\":\"white\"}},\"type\":\"table\"}],\"barpolar\":[{\"marker\":{\"line\":{\"color\":\"#E5ECF6\",\"width\":0.5},\"pattern\":{\"fillmode\":\"overlay\",\"size\":10,\"solidity\":0.2}},\"type\":\"barpolar\"}],\"pie\":[{\"automargin\":true,\"type\":\"pie\"}]},\"layout\":{\"autotypenumbers\":\"strict\",\"colorway\":[\"#636efa\",\"#EF553B\",\"#00cc96\",\"#ab63fa\",\"#FFA15A\",\"#19d3f3\",\"#FF6692\",\"#B6E880\",\"#FF97FF\",\"#FECB52\"],\"font\":{\"color\":\"#2a3f5f\"},\"hovermode\":\"closest\",\"hoverlabel\":{\"align\":\"left\"},\"paper_bgcolor\":\"white\",\"plot_bgcolor\":\"#E5ECF6\",\"polar\":{\"bgcolor\":\"#E5ECF6\",\"angularaxis\":{\"gridcolor\":\"white\",\"linecolor\":\"white\",\"ticks\":\"\"},\"radialaxis\":{\"gridcolor\":\"white\",\"linecolor\":\"white\",\"ticks\":\"\"}},\"ternary\":{\"bgcolor\":\"#E5ECF6\",\"aaxis\":{\"gridcolor\":\"white\",\"linecolor\":\"white\",\"ticks\":\"\"},\"baxis\":{\"gridcolor\":\"white\",\"linecolor\":\"white\",\"ticks\":\"\"},\"caxis\":{\"gridcolor\":\"white\",\"linecolor\":\"white\",\"ticks\":\"\"}},\"coloraxis\":{\"colorbar\":{\"outlinewidth\":0,\"ticks\":\"\"}},\"colorscale\":{\"sequential\":[[0.0,\"#0d0887\"],[0.1111111111111111,\"#46039f\"],[0.2222222222222222,\"#7201a8\"],[0.3333333333333333,\"#9c179e\"],[0.4444444444444444,\"#bd3786\"],[0.5555555555555556,\"#d8576b\"],[0.6666666666666666,\"#ed7953\"],[0.7777777777777778,\"#fb9f3a\"],[0.8888888888888888,\"#fdca26\"],[1.0,\"#f0f921\"]],\"sequentialminus\":[[0.0,\"#0d0887\"],[0.1111111111111111,\"#46039f\"],[0.2222222222222222,\"#7201a8\"],[0.3333333333333333,\"#9c179e\"],[0.4444444444444444,\"#bd3786\"],[0.5555555555555556,\"#d8576b\"],[0.6666666666666666,\"#ed7953\"],[0.7777777777777778,\"#fb9f3a\"],[0.8888888888888888,\"#fdca26\"],[1.0,\"#f0f921\"]],\"diverging\":[[0,\"#8e0152\"],[0.1,\"#c51b7d\"],[0.2,\"#de77ae\"],[0.3,\"#f1b6da\"],[0.4,\"#fde0ef\"],[0.5,\"#f7f7f7\"],[0.6,\"#e6f5d0\"],[0.7,\"#b8e186\"],[0.8,\"#7fbc41\"],[0.9,\"#4d9221\"],[1,\"#276419\"]]},\"xaxis\":{\"gridcolor\":\"white\",\"linecolor\":\"white\",\"ticks\":\"\",\"title\":{\"standoff\":15},\"zerolinecolor\":\"white\",\"automargin\":true,\"zerolinewidth\":2},\"yaxis\":{\"gridcolor\":\"white\",\"linecolor\":\"white\",\"ticks\":\"\",\"title\":{\"standoff\":15},\"zerolinecolor\":\"white\",\"automargin\":true,\"zerolinewidth\":2},\"scene\":{\"xaxis\":{\"backgroundcolor\":\"#E5ECF6\",\"gridcolor\":\"white\",\"linecolor\":\"white\",\"showbackground\":true,\"ticks\":\"\",\"zerolinecolor\":\"white\",\"gridwidth\":2},\"yaxis\":{\"backgroundcolor\":\"#E5ECF6\",\"gridcolor\":\"white\",\"linecolor\":\"white\",\"showbackground\":true,\"ticks\":\"\",\"zerolinecolor\":\"white\",\"gridwidth\":2},\"zaxis\":{\"backgroundcolor\":\"#E5ECF6\",\"gridcolor\":\"white\",\"linecolor\":\"white\",\"showbackground\":true,\"ticks\":\"\",\"zerolinecolor\":\"white\",\"gridwidth\":2}},\"shapedefaults\":{\"line\":{\"color\":\"#2a3f5f\"}},\"annotationdefaults\":{\"arrowcolor\":\"#2a3f5f\",\"arrowhead\":0,\"arrowwidth\":1},\"geo\":{\"bgcolor\":\"white\",\"landcolor\":\"#E5ECF6\",\"subunitcolor\":\"white\",\"showland\":true,\"showlakes\":true,\"lakecolor\":\"white\"},\"title\":{\"x\":0.05},\"mapbox\":{\"style\":\"light\"}}},\"xaxis\":{\"anchor\":\"y\",\"domain\":[0.0,1.0],\"title\":{\"text\":\"Workout Type\"},\"categoryorder\":\"array\",\"categoryarray\":[\"Yoga\",\"HIIT\",\"Cardio\",\"Strength\"]},\"yaxis\":{\"anchor\":\"x\",\"domain\":[0.0,1.0],\"title\":{\"text\":\"BMI\"}},\"legend\":{\"title\":{\"text\":\"Workout Type\"},\"tracegroupgap\":0},\"title\":{\"text\":\"BMI Distribution by Workout Type\"},\"boxmode\":\"overlay\"},                        {\"responsive\": true}                    ).then(function(){\n",
       "                            \n",
       "var gd = document.getElementById('5ae1a3a5-8df4-467c-a220-b7ca274a106a');\n",
       "var x = new MutationObserver(function (mutations, observer) {{\n",
       "        var display = window.getComputedStyle(gd).display;\n",
       "        if (!display || display === 'none') {{\n",
       "            console.log([gd, 'removed!']);\n",
       "            Plotly.purge(gd);\n",
       "            observer.disconnect();\n",
       "        }}\n",
       "}});\n",
       "\n",
       "// Listen for the removal of the full notebook cells\n",
       "var notebookContainer = gd.closest('#notebook-container');\n",
       "if (notebookContainer) {{\n",
       "    x.observe(notebookContainer, {childList: true});\n",
       "}}\n",
       "\n",
       "// Listen for the clearing of the current output cell\n",
       "var outputEl = gd.closest('.output');\n",
       "if (outputEl) {{\n",
       "    x.observe(outputEl, {childList: true});\n",
       "}}\n",
       "\n",
       "                        })                };                });            </script>        </div>"
      ]
     },
     "metadata": {},
     "output_type": "display_data"
    }
   ],
   "source": [
    "fig2 = px.box(\n",
    "    df,\n",
    "    x='Workout_Type',\n",
    "    y='BMI',\n",
    "    color='Workout_Type',\n",
    "    title='BMI Distribution by Workout Type',\n",
    "    labels={'Workout_Type': 'Workout Type', 'BMI': 'BMI'},\n",
    "    color_discrete_sequence=px.colors.sequential.Viridis\n",
    ")\n",
    "fig_bmi.show()\n"
   ]
  },
  {
   "cell_type": "code",
   "execution_count": 242,
   "id": "e7d2ed9d-189d-43d4-98f2-6f563583d9dc",
   "metadata": {},
   "outputs": [],
   "source": [
    "def classify_fat_percentage(fat_percentage):\n",
    "    if fat_percentage < 18.33:\n",
    "        return \"Low\"\n",
    "    elif fat_percentage < 26.66:\n",
    "        return \"Medium\"\n",
    "    else:\n",
    "        return \"High\"\n",
    "\n",
    "# Example usage\n",
    "df['Fat_Percentage'] = df['Fat_Percentage'].apply(classify_fat_percentage)"
   ]
  },
  {
   "cell_type": "code",
   "execution_count": 244,
   "id": "b791d695-a2ea-4cfe-9f4f-bca694ee9f19",
   "metadata": {},
   "outputs": [],
   "source": [
    "from sklearn.preprocessing import LabelEncoder"
   ]
  },
  {
   "cell_type": "code",
   "execution_count": 246,
   "id": "47d538ff-6599-4889-a4a9-b2ef4d8687cf",
   "metadata": {},
   "outputs": [],
   "source": [
    "label_encoder = LabelEncoder()"
   ]
  },
  {
   "cell_type": "code",
   "execution_count": 248,
   "id": "d0e8f285-06b3-456c-aeff-30d5743add53",
   "metadata": {},
   "outputs": [
    {
     "data": {
      "text/plain": [
       "array([1, 0, 0, 0, 0, 1, 2, 0, 0, 0, 2, 2, 2, 0, 2, 2, 0, 0, 0, 2, 0, 2,\n",
       "       0, 0, 0, 2, 0, 2, 1, 0, 0, 0, 0, 0, 1, 0, 0, 2, 0, 2, 0, 0, 0, 0,\n",
       "       0, 2, 2, 2, 0, 0, 0, 1, 0, 2, 0, 2, 0, 0, 1, 0, 2, 0, 1, 2, 1, 0,\n",
       "       1, 0, 2, 2, 1, 0, 0, 0, 2, 2, 0, 2, 2, 1, 0, 1, 0, 2, 2, 0, 2, 0,\n",
       "       2, 0, 1, 1, 2, 0, 2, 0, 0, 2, 0, 1, 0, 0, 2, 0, 2, 1, 0, 1, 2, 0,\n",
       "       2, 0, 1, 1, 2, 2, 2, 1, 2, 0, 0, 0, 2, 2, 1, 0, 0, 1, 2, 1, 0, 0,\n",
       "       1, 0, 0, 0, 0, 2, 0, 1, 0, 0, 0, 0, 0, 1, 0, 2, 0, 0, 2, 2, 1, 0,\n",
       "       2, 0, 0, 0, 2, 0, 0, 2, 0, 1, 1, 0, 2, 0, 0, 0, 2, 0, 1, 0, 0, 2,\n",
       "       1, 0, 0, 0, 2, 1, 1, 2, 1, 2, 1, 2, 0, 0, 2, 0, 0, 0, 0, 0, 0, 1,\n",
       "       2, 2, 0, 1, 0, 0, 1, 2, 0, 0, 2, 1, 0, 2, 2, 0, 2, 0, 2, 0, 2, 2,\n",
       "       0, 1, 0, 1, 2, 1, 2, 0, 0, 1, 2, 0, 0, 1, 2, 2, 0, 1, 0, 0, 0, 2,\n",
       "       0, 0, 2, 2, 2, 0, 2, 0, 2, 2, 0, 0, 0, 2, 1, 2, 2, 0, 0, 2, 0, 0,\n",
       "       0, 0, 0, 1, 0, 1, 0, 0, 0, 2, 1, 2, 2, 2, 2, 0, 0, 0, 0, 2, 0, 1,\n",
       "       2, 2, 2, 2, 0, 2, 2, 0, 2, 2, 0, 2, 2, 0, 2, 2, 2, 1, 2, 0, 0, 1,\n",
       "       2, 1, 1, 2, 2, 0, 0, 2, 1, 0, 2, 0, 2, 2, 0, 0, 0, 0, 0, 0, 0, 0,\n",
       "       1, 0, 0, 2, 2, 0, 0, 0, 2, 2, 2, 1, 2, 0, 2, 2, 2, 0, 2, 2, 0, 0,\n",
       "       0, 0, 2, 0, 1, 2, 2, 0, 0, 0, 0, 0, 1, 0, 2, 2, 0, 2, 2, 0, 2, 1,\n",
       "       2, 0, 2, 0, 2, 0, 1, 2, 2, 0, 2, 0, 0, 0, 2, 2, 2, 1, 0, 0, 2, 1,\n",
       "       1, 0, 1, 0, 0, 0, 0, 0, 2, 2, 0, 2, 2, 0, 0, 0, 1, 0, 0, 0, 2, 0,\n",
       "       0, 1, 0, 1, 1, 0, 1, 0, 1, 2, 2, 1, 1, 2, 0, 2, 2, 0, 0, 0, 1, 2,\n",
       "       2, 2, 1, 1, 2, 0, 2, 0, 0, 0, 0, 0, 0, 2, 0, 1, 0, 1, 2, 2, 0, 0,\n",
       "       2, 2, 0, 2, 0, 2, 0, 0, 0, 0, 2, 0, 0, 1, 2, 0, 0, 2, 0, 2, 2, 0,\n",
       "       1, 1, 0, 2, 0, 0, 0, 0, 1, 0, 2, 2, 0, 1, 2, 0, 0, 0, 0, 2, 0, 2,\n",
       "       0, 2, 0, 0, 2, 1, 1, 1, 2, 0, 0, 2, 1, 0, 0, 0, 2, 0, 2, 0, 2, 0,\n",
       "       2, 1, 1, 0, 0, 2, 2, 0, 1, 0, 1, 0, 0, 2, 1, 0, 0, 0, 2, 2, 0, 2,\n",
       "       2, 2, 0, 0, 2, 0, 2, 1, 2, 2, 0, 2, 2, 0, 0, 2, 0, 2, 0, 2, 0, 2,\n",
       "       1, 0, 2, 0, 2, 0, 0, 0, 0, 0, 0, 0, 1, 0, 0, 1, 0, 0, 2, 1, 0, 2,\n",
       "       2, 1, 0, 0, 2, 0, 2, 1, 2, 2, 0, 1, 2, 2, 1, 1, 1, 2, 0, 0, 2, 1,\n",
       "       2, 2, 0, 0, 0, 1, 1, 0, 2, 0, 2, 1, 0, 0, 1, 0, 2, 2, 2, 0, 2, 0,\n",
       "       1, 0, 2, 2, 0, 0, 2, 2, 1, 2, 2, 1, 2, 0, 0, 0, 2, 0, 0, 0, 0, 2,\n",
       "       0, 2, 2, 2, 0, 0, 0, 0, 1, 1, 0, 2, 2, 1, 0, 0, 0, 0, 2, 0, 2, 0,\n",
       "       0, 0, 0, 2, 2, 2, 2, 2, 2, 2, 1, 2, 2, 0, 2, 0, 2, 0, 2, 2, 0, 0,\n",
       "       2, 0, 2, 0, 2, 2, 2, 1, 1, 0, 2, 0, 0, 2, 2, 2, 0, 2, 0, 0, 2, 0,\n",
       "       2, 2, 1, 0, 0, 2, 1, 0, 2, 2, 1, 2, 1, 2, 0, 0, 0, 2, 0, 0, 2, 2,\n",
       "       0, 0, 0, 2, 0, 1, 0, 0, 0, 2, 0, 1, 0, 0, 2, 2, 0, 2, 2, 0, 2, 1,\n",
       "       0, 0, 0, 0, 1, 2, 2, 1, 0, 1, 0, 0, 0, 0, 1, 2, 0, 0, 2, 2, 1, 0,\n",
       "       2, 0, 0, 0, 2, 2, 2, 0, 2, 1, 2, 0, 2, 2, 0, 0, 2, 0, 1, 1, 2, 0,\n",
       "       2, 0, 0, 0, 0, 2, 2, 0, 0, 0, 0, 0, 0, 0, 0, 0, 1, 1, 1, 0, 2, 1,\n",
       "       0, 0, 2, 2, 1, 2, 0, 0, 0, 1, 0, 2, 1, 2, 2, 0, 2, 2, 2, 0, 2, 2,\n",
       "       2, 0, 0, 0, 0, 1, 1, 2, 1, 2, 0, 0, 1, 0, 0, 0, 0, 2, 1, 2, 0, 2,\n",
       "       2, 1, 2, 2, 2, 1, 0, 2, 2, 2, 0, 2, 1, 0, 0, 2, 1, 1, 0, 2, 2, 0,\n",
       "       1, 2, 0, 2, 2, 0, 2, 0, 1, 0, 2, 2, 0, 0, 0, 2, 0, 0, 1, 2, 1, 0,\n",
       "       2, 2, 2, 2, 0, 0, 2, 0, 1, 2, 2, 0, 2, 2, 0, 0, 2, 2, 1, 1, 2, 2,\n",
       "       0, 0, 1, 2, 0, 2, 2, 0, 1, 0, 0, 1, 0, 2, 0, 0, 1, 2, 2, 2, 1, 2,\n",
       "       1, 2, 2, 0, 0], dtype=int64)"
      ]
     },
     "execution_count": 248,
     "metadata": {},
     "output_type": "execute_result"
    }
   ],
   "source": [
    "categorical_columns = ['Gender','Workout_Type','Fat_Percentage' ]\n",
    "for col in categorical_columns:\n",
    "    df[col] = label_encoder.fit_transform(df[col])\n",
    "label_encoder.fit_transform(df[col])"
   ]
  },
  {
   "cell_type": "code",
   "execution_count": 250,
   "id": "640b328a-95b9-4806-8178-9b9a18786648",
   "metadata": {},
   "outputs": [
    {
     "name": "stdout",
     "output_type": "stream",
     "text": [
      "<class 'pandas.core.frame.DataFrame'>\n",
      "RangeIndex: 973 entries, 0 to 972\n",
      "Data columns (total 15 columns):\n",
      " #   Column                         Non-Null Count  Dtype  \n",
      "---  ------                         --------------  -----  \n",
      " 0   Age                            973 non-null    int64  \n",
      " 1   Gender                         973 non-null    int32  \n",
      " 2   Weight (kg)                    973 non-null    float64\n",
      " 3   Height (m)                     973 non-null    float64\n",
      " 4   Max_BPM                        973 non-null    int64  \n",
      " 5   Avg_BPM                        973 non-null    int64  \n",
      " 6   Resting_BPM                    973 non-null    int64  \n",
      " 7   Session_Duration (hours)       973 non-null    float64\n",
      " 8   Calories_Burned                973 non-null    float64\n",
      " 9   Workout_Type                   973 non-null    int32  \n",
      " 10  Fat_Percentage                 973 non-null    int32  \n",
      " 11  Water_Intake (liters)          973 non-null    float64\n",
      " 12  Workout_Frequency (days/week)  973 non-null    int64  \n",
      " 13  Experience_Level               973 non-null    int64  \n",
      " 14  BMI                            973 non-null    float64\n",
      "dtypes: float64(6), int32(3), int64(6)\n",
      "memory usage: 102.8 KB\n"
     ]
    }
   ],
   "source": [
    "df.info()"
   ]
  },
  {
   "cell_type": "code",
   "execution_count": 252,
   "id": "07294bfb-39e0-49e8-a605-9c9a1956e5ab",
   "metadata": {},
   "outputs": [
    {
     "data": {
      "text/plain": [
       "<Axes: >"
      ]
     },
     "execution_count": 252,
     "metadata": {},
     "output_type": "execute_result"
    },
    {
     "data": {
      "image/png": "[encoded data removed]",
      "text/plain": [
       "<Figure size 2000x1000 with 2 Axes>"
      ]
     },
     "metadata": {},
     "output_type": "display_data"
    }
   ],
   "source": [
    "plt.figure(figsize=(20,10)) \n",
    "sns.heatmap(df.corr(), annot=True) "
   ]
  },
  {
   "cell_type": "code",
   "execution_count": null,
   "id": "eadbc30c-de17-4c38-9fdd-19d5a6634f53",
   "metadata": {},
   "outputs": [],
   "source": []
  },
  {
   "cell_type": "code",
   "execution_count": 254,
   "id": "48612097-d8ae-4347-893b-2c6f4107e603",
   "metadata": {},
   "outputs": [
    {
     "data": {
      "text/plain": [
       "array([[ 56.  ,   1.  ,  88.3 , ...,   3.5 ,   4.  ,  30.2 ],\n",
       "       [ 46.  ,   0.  ,  74.9 , ...,   2.1 ,   4.  ,  32.  ],\n",
       "       [ 32.  ,   0.  ,  68.1 , ...,   2.3 ,   4.  ,  24.71],\n",
       "       ...,\n",
       "       [ 59.  ,   0.  ,  60.4 , ...,   2.7 ,   5.  ,  19.5 ],\n",
       "       [ 32.  ,   1.  , 126.4 , ...,   2.1 ,   3.  ,  37.74],\n",
       "       [ 46.  ,   1.  ,  88.7 , ...,   3.5 ,   2.  ,  33.38]])"
      ]
     },
     "execution_count": 254,
     "metadata": {},
     "output_type": "execute_result"
    }
   ],
   "source": [
    "X= df.drop(['Experience_Level'],axis=1).values\n",
    "X"
   ]
  },
  {
   "cell_type": "code",
   "execution_count": 257,
   "id": "4595d019-53ff-4c40-8bec-4ee49910e0c7",
   "metadata": {},
   "outputs": [],
   "source": [
    "y=df['Experience_Level']\n"
   ]
  },
  {
   "cell_type": "code",
   "execution_count": 259,
   "id": "284f7bf6-a1ab-4b09-adb9-e77f3118b221",
   "metadata": {},
   "outputs": [],
   "source": [
    "from sklearn.model_selection import train_test_split"
   ]
  },
  {
   "cell_type": "code",
   "execution_count": 261,
   "id": "ab9b5c5a-ea12-440e-9209-8c6b25087c0b",
   "metadata": {},
   "outputs": [],
   "source": [
    "X_train, X_test, y_train, y_test = train_test_split(X, y, test_size = 0.2, random_state=42)"
   ]
  },
  {
   "cell_type": "code",
   "execution_count": 263,
   "id": "f825bc20-86fc-478a-ab6e-2186d1fb1cb4",
   "metadata": {},
   "outputs": [],
   "source": [
    "from sklearn.preprocessing import StandardScaler"
   ]
  },
  {
   "cell_type": "code",
   "execution_count": 265,
   "id": "67417021-47a9-4ce8-ae6c-5cb27d96007d",
   "metadata": {},
   "outputs": [],
   "source": [
    "sc = StandardScaler()"
   ]
  },
  {
   "cell_type": "code",
   "execution_count": 267,
   "id": "e47c1d58-d7e4-432f-8b01-f8a09494794c",
   "metadata": {},
   "outputs": [
    {
     "data": {
      "text/plain": [
       "array([[-1.53304512,  0.93767108, -0.88120507, ...,  0.93198659,\n",
       "         0.7420429 , -0.4972275 ],\n",
       "       [ 0.03035419, -1.06647205, -0.61565746, ..., -1.56371867,\n",
       "        -0.37030657, -0.37838126],\n",
       "       [ 1.2646168 , -1.06647205,  0.09563078, ..., -1.23095797,\n",
       "        -0.37030657,  0.1229061 ],\n",
       "       ...,\n",
       "       [-1.2861926 , -1.06647205, -0.8005924 , ..., -1.23095797,\n",
       "         0.7420429 , -0.17420951],\n",
       "       [ 1.01776428, -1.06647205, -0.81956009, ..., -0.39905621,\n",
       "        -0.37030657,  0.0421516 ],\n",
       "       [-0.79248755,  0.93767108, -0.71049589, ..., -1.06457762,\n",
       "        -0.37030657, -0.32505282]])"
      ]
     },
     "execution_count": 267,
     "metadata": {},
     "output_type": "execute_result"
    }
   ],
   "source": [
    "X_train = sc.fit_transform(X_train)\n",
    "X_train"
   ]
  },
  {
   "cell_type": "code",
   "execution_count": 269,
   "id": "0e0d2225-12b4-46d7-bdb1-711481587c0d",
   "metadata": {},
   "outputs": [
    {
     "data": {
      "text/plain": [
       "array([[-0.38106668,  0.93767108, -0.07982032, ..., -0.89819727,\n",
       "         0.7420429 ,  0.30269913],\n",
       "       [ 0.77091176,  0.93767108,  0.48921028, ...,  1.43112764,\n",
       "         1.85439238,  0.08938536],\n",
       "       [ 0.85319593,  0.93767108,  0.26633996, ...,  1.09836694,\n",
       "        -0.37030657,  0.30879381],\n",
       "       ...,\n",
       "       [-1.45076095, -1.06647205, -1.07088193, ..., -0.73181692,\n",
       "        -0.37030657, -1.11279009],\n",
       "       [ 0.68862758,  0.93767108,  2.53772042, ...,  0.59922589,\n",
       "        -1.48265605,  2.48154692],\n",
       "       [-1.20390843,  0.93767108,  0.69311291, ...,  1.43112764,\n",
       "         0.7420429 ,  0.42459271]])"
      ]
     },
     "execution_count": 269,
     "metadata": {},
     "output_type": "execute_result"
    }
   ],
   "source": [
    "X_test = sc.transform(X_test)\n",
    "X_test"
   ]
  },
  {
   "cell_type": "markdown",
   "id": "f8401cb8-1e7c-4cc3-a63f-30927f0e7061",
   "metadata": {},
   "source": [
    "# SVC Training Model"
   ]
  },
  {
   "cell_type": "code",
   "execution_count": 272,
   "id": "06d69644-2785-4ca5-8935-3a437b583fd4",
   "metadata": {},
   "outputs": [],
   "source": [
    "from sklearn.svm import SVC"
   ]
  },
  {
   "cell_type": "code",
   "execution_count": 274,
   "id": "3a946beb-deba-4c4a-a84e-27d8f8edd0ad",
   "metadata": {},
   "outputs": [],
   "source": [
    "classifier = SVC(kernel = 'linear', random_state =42)"
   ]
  },
  {
   "cell_type": "code",
   "execution_count": 276,
   "id": "479d6b76-1422-4762-9315-08a6402e3c61",
   "metadata": {},
   "outputs": [
    {
     "data": {
      "text/html": [
       "<style>#sk-container-id-15 {\n",
       "  /* Definition of color scheme common for light and dark mode */\n",
       "  --sklearn-color-text: black;\n",
       "  --sklearn-color-line: gray;\n",
       "  /* Definition of color scheme for unfitted estimators */\n",
       "  --sklearn-color-unfitted-level-0: #fff5e6;\n",
       "  --sklearn-color-unfitted-level-1: #f6e4d2;\n",
       "  --sklearn-color-unfitted-level-2: #ffe0b3;\n",
       "  --sklearn-color-unfitted-level-3: chocolate;\n",
       "  /* Definition of color scheme for fitted estimators */\n",
       "  --sklearn-color-fitted-level-0: #f0f8ff;\n",
       "  --sklearn-color-fitted-level-1: #d4ebff;\n",
       "  --sklearn-color-fitted-level-2: #b3dbfd;\n",
       "  --sklearn-color-fitted-level-3: cornflowerblue;\n",
       "\n",
       "  /* Specific color for light theme */\n",
       "  --sklearn-color-text-on-default-background: var(--sg-text-color, var(--theme-code-foreground, var(--jp-content-font-color1, black)));\n",
       "  --sklearn-color-background: var(--sg-background-color, var(--theme-background, var(--jp-layout-color0, white)));\n",
       "  --sklearn-color-border-box: var(--sg-text-color, var(--theme-code-foreground, var(--jp-content-font-color1, black)));\n",
       "  --sklearn-color-icon: #696969;\n",
       "\n",
       "  @media (prefers-color-scheme: dark) {\n",
       "    /* Redefinition of color scheme for dark theme */\n",
       "    --sklearn-color-text-on-default-background: var(--sg-text-color, var(--theme-code-foreground, var(--jp-content-font-color1, white)));\n",
       "    --sklearn-color-background: var(--sg-background-color, var(--theme-background, var(--jp-layout-color0, #111)));\n",
       "    --sklearn-color-border-box: var(--sg-text-color, var(--theme-code-foreground, var(--jp-content-font-color1, white)));\n",
       "    --sklearn-color-icon: #878787;\n",
       "  }\n",
       "}\n",
       "\n",
       "#sk-container-id-15 {\n",
       "  color: var(--sklearn-color-text);\n",
       "}\n",
       "\n",
       "#sk-container-id-15 pre {\n",
       "  padding: 0;\n",
       "}\n",
       "\n",
       "#sk-container-id-15 input.sk-hidden--visually {\n",
       "  border: 0;\n",
       "  clip: rect(1px 1px 1px 1px);\n",
       "  clip: rect(1px, 1px, 1px, 1px);\n",
       "  height: 1px;\n",
       "  margin: -1px;\n",
       "  overflow: hidden;\n",
       "  padding: 0;\n",
       "  position: absolute;\n",
       "  width: 1px;\n",
       "}\n",
       "\n",
       "#sk-container-id-15 div.sk-dashed-wrapped {\n",
       "  border: 1px dashed var(--sklearn-color-line);\n",
       "  margin: 0 0.4em 0.5em 0.4em;\n",
       "  box-sizing: border-box;\n",
       "  padding-bottom: 0.4em;\n",
       "  background-color: var(--sklearn-color-background);\n",
       "}\n",
       "\n",
       "#sk-container-id-15 div.sk-container {\n",
       "  /* jupyter's `normalize.less` sets `[hidden] { display: none; }`\n",
       "     but bootstrap.min.css set `[hidden] { display: none !important; }`\n",
       "     so we also need the `!important` here to be able to override the\n",
       "     default hidden behavior on the sphinx rendered scikit-learn.org.\n",
       "     See: https://github.com/scikit-learn/scikit-learn/issues/21755 */\n",
       "  display: inline-block !important;\n",
       "  position: relative;\n",
       "}\n",
       "\n",
       "#sk-container-id-15 div.sk-text-repr-fallback {\n",
       "  display: none;\n",
       "}\n",
       "\n",
       "div.sk-parallel-item,\n",
       "div.sk-serial,\n",
       "div.sk-item {\n",
       "  /* draw centered vertical line to link estimators */\n",
       "  background-image: linear-gradient(var(--sklearn-color-text-on-default-background), var(--sklearn-color-text-on-default-background));\n",
       "  background-size: 2px 100%;\n",
       "  background-repeat: no-repeat;\n",
       "  background-position: center center;\n",
       "}\n",
       "\n",
       "/* Parallel-specific style estimator block */\n",
       "\n",
       "#sk-container-id-15 div.sk-parallel-item::after {\n",
       "  content: \"\";\n",
       "  width: 100%;\n",
       "  border-bottom: 2px solid var(--sklearn-color-text-on-default-background);\n",
       "  flex-grow: 1;\n",
       "}\n",
       "\n",
       "#sk-container-id-15 div.sk-parallel {\n",
       "  display: flex;\n",
       "  align-items: stretch;\n",
       "  justify-content: center;\n",
       "  background-color: var(--sklearn-color-background);\n",
       "  position: relative;\n",
       "}\n",
       "\n",
       "#sk-container-id-15 div.sk-parallel-item {\n",
       "  display: flex;\n",
       "  flex-direction: column;\n",
       "}\n",
       "\n",
       "#sk-container-id-15 div.sk-parallel-item:first-child::after {\n",
       "  align-self: flex-end;\n",
       "  width: 50%;\n",
       "}\n",
       "\n",
       "#sk-container-id-15 div.sk-parallel-item:last-child::after {\n",
       "  align-self: flex-start;\n",
       "  width: 50%;\n",
       "}\n",
       "\n",
       "#sk-container-id-15 div.sk-parallel-item:only-child::after {\n",
       "  width: 0;\n",
       "}\n",
       "\n",
       "/* Serial-specific style estimator block */\n",
       "\n",
       "#sk-container-id-15 div.sk-serial {\n",
       "  display: flex;\n",
       "  flex-direction: column;\n",
       "  align-items: center;\n",
       "  background-color: var(--sklearn-color-background);\n",
       "  padding-right: 1em;\n",
       "  padding-left: 1em;\n",
       "}\n",
       "\n",
       "\n",
       "/* Toggleable style: style used for estimator/Pipeline/ColumnTransformer box that is\n",
       "clickable and can be expanded/collapsed.\n",
       "- Pipeline and ColumnTransformer use this feature and define the default style\n",
       "- Estimators will overwrite some part of the style using the `sk-estimator` class\n",
       "*/\n",
       "\n",
       "/* Pipeline and ColumnTransformer style (default) */\n",
       "\n",
       "#sk-container-id-15 div.sk-toggleable {\n",
       "  /* Default theme specific background. It is overwritten whether we have a\n",
       "  specific estimator or a Pipeline/ColumnTransformer */\n",
       "  background-color: var(--sklearn-color-background);\n",
       "}\n",
       "\n",
       "/* Toggleable label */\n",
       "#sk-container-id-15 label.sk-toggleable__label {\n",
       "  cursor: pointer;\n",
       "  display: block;\n",
       "  width: 100%;\n",
       "  margin-bottom: 0;\n",
       "  padding: 0.5em;\n",
       "  box-sizing: border-box;\n",
       "  text-align: center;\n",
       "}\n",
       "\n",
       "#sk-container-id-15 label.sk-toggleable__label-arrow:before {\n",
       "  /* Arrow on the left of the label */\n",
       "  content: \"▸\";\n",
       "  float: left;\n",
       "  margin-right: 0.25em;\n",
       "  color: var(--sklearn-color-icon);\n",
       "}\n",
       "\n",
       "#sk-container-id-15 label.sk-toggleable__label-arrow:hover:before {\n",
       "  color: var(--sklearn-color-text);\n",
       "}\n",
       "\n",
       "/* Toggleable content - dropdown */\n",
       "\n",
       "#sk-container-id-15 div.sk-toggleable__content {\n",
       "  max-height: 0;\n",
       "  max-width: 0;\n",
       "  overflow: hidden;\n",
       "  text-align: left;\n",
       "  /* unfitted */\n",
       "  background-color: var(--sklearn-color-unfitted-level-0);\n",
       "}\n",
       "\n",
       "#sk-container-id-15 div.sk-toggleable__content.fitted {\n",
       "  /* fitted */\n",
       "  background-color: var(--sklearn-color-fitted-level-0);\n",
       "}\n",
       "\n",
       "#sk-container-id-15 div.sk-toggleable__content pre {\n",
       "  margin: 0.2em;\n",
       "  border-radius: 0.25em;\n",
       "  color: var(--sklearn-color-text);\n",
       "  /* unfitted */\n",
       "  background-color: var(--sklearn-color-unfitted-level-0);\n",
       "}\n",
       "\n",
       "#sk-container-id-15 div.sk-toggleable__content.fitted pre {\n",
       "  /* unfitted */\n",
       "  background-color: var(--sklearn-color-fitted-level-0);\n",
       "}\n",
       "\n",
       "#sk-container-id-15 input.sk-toggleable__control:checked~div.sk-toggleable__content {\n",
       "  /* Expand drop-down */\n",
       "  max-height: 200px;\n",
       "  max-width: 100%;\n",
       "  overflow: auto;\n",
       "}\n",
       "\n",
       "#sk-container-id-15 input.sk-toggleable__control:checked~label.sk-toggleable__label-arrow:before {\n",
       "  content: \"▾\";\n",
       "}\n",
       "\n",
       "/* Pipeline/ColumnTransformer-specific style */\n",
       "\n",
       "#sk-container-id-15 div.sk-label input.sk-toggleable__control:checked~label.sk-toggleable__label {\n",
       "  color: var(--sklearn-color-text);\n",
       "  background-color: var(--sklearn-color-unfitted-level-2);\n",
       "}\n",
       "\n",
       "#sk-container-id-15 div.sk-label.fitted input.sk-toggleable__control:checked~label.sk-toggleable__label {\n",
       "  background-color: var(--sklearn-color-fitted-level-2);\n",
       "}\n",
       "\n",
       "/* Estimator-specific style */\n",
       "\n",
       "/* Colorize estimator box */\n",
       "#sk-container-id-15 div.sk-estimator input.sk-toggleable__control:checked~label.sk-toggleable__label {\n",
       "  /* unfitted */\n",
       "  background-color: var(--sklearn-color-unfitted-level-2);\n",
       "}\n",
       "\n",
       "#sk-container-id-15 div.sk-estimator.fitted input.sk-toggleable__control:checked~label.sk-toggleable__label {\n",
       "  /* fitted */\n",
       "  background-color: var(--sklearn-color-fitted-level-2);\n",
       "}\n",
       "\n",
       "#sk-container-id-15 div.sk-label label.sk-toggleable__label,\n",
       "#sk-container-id-15 div.sk-label label {\n",
       "  /* The background is the default theme color */\n",
       "  color: var(--sklearn-color-text-on-default-background);\n",
       "}\n",
       "\n",
       "/* On hover, darken the color of the background */\n",
       "#sk-container-id-15 div.sk-label:hover label.sk-toggleable__label {\n",
       "  color: var(--sklearn-color-text);\n",
       "  background-color: var(--sklearn-color-unfitted-level-2);\n",
       "}\n",
       "\n",
       "/* Label box, darken color on hover, fitted */\n",
       "#sk-container-id-15 div.sk-label.fitted:hover label.sk-toggleable__label.fitted {\n",
       "  color: var(--sklearn-color-text);\n",
       "  background-color: var(--sklearn-color-fitted-level-2);\n",
       "}\n",
       "\n",
       "/* Estimator label */\n",
       "\n",
       "#sk-container-id-15 div.sk-label label {\n",
       "  font-family: monospace;\n",
       "  font-weight: bold;\n",
       "  display: inline-block;\n",
       "  line-height: 1.2em;\n",
       "}\n",
       "\n",
       "#sk-container-id-15 div.sk-label-container {\n",
       "  text-align: center;\n",
       "}\n",
       "\n",
       "/* Estimator-specific */\n",
       "#sk-container-id-15 div.sk-estimator {\n",
       "  font-family: monospace;\n",
       "  border: 1px dotted var(--sklearn-color-border-box);\n",
       "  border-radius: 0.25em;\n",
       "  box-sizing: border-box;\n",
       "  margin-bottom: 0.5em;\n",
       "  /* unfitted */\n",
       "  background-color: var(--sklearn-color-unfitted-level-0);\n",
       "}\n",
       "\n",
       "#sk-container-id-15 div.sk-estimator.fitted {\n",
       "  /* fitted */\n",
       "  background-color: var(--sklearn-color-fitted-level-0);\n",
       "}\n",
       "\n",
       "/* on hover */\n",
       "#sk-container-id-15 div.sk-estimator:hover {\n",
       "  /* unfitted */\n",
       "  background-color: var(--sklearn-color-unfitted-level-2);\n",
       "}\n",
       "\n",
       "#sk-container-id-15 div.sk-estimator.fitted:hover {\n",
       "  /* fitted */\n",
       "  background-color: var(--sklearn-color-fitted-level-2);\n",
       "}\n",
       "\n",
       "/* Specification for estimator info (e.g. \"i\" and \"?\") */\n",
       "\n",
       "/* Common style for \"i\" and \"?\" */\n",
       "\n",
       ".sk-estimator-doc-link,\n",
       "a:link.sk-estimator-doc-link,\n",
       "a:visited.sk-estimator-doc-link {\n",
       "  float: right;\n",
       "  font-size: smaller;\n",
       "  line-height: 1em;\n",
       "  font-family: monospace;\n",
       "  background-color: var(--sklearn-color-background);\n",
       "  border-radius: 1em;\n",
       "  height: 1em;\n",
       "  width: 1em;\n",
       "  text-decoration: none !important;\n",
       "  margin-left: 1ex;\n",
       "  /* unfitted */\n",
       "  border: var(--sklearn-color-unfitted-level-1) 1pt solid;\n",
       "  color: var(--sklearn-color-unfitted-level-1);\n",
       "}\n",
       "\n",
       ".sk-estimator-doc-link.fitted,\n",
       "a:link.sk-estimator-doc-link.fitted,\n",
       "a:visited.sk-estimator-doc-link.fitted {\n",
       "  /* fitted */\n",
       "  border: var(--sklearn-color-fitted-level-1) 1pt solid;\n",
       "  color: var(--sklearn-color-fitted-level-1);\n",
       "}\n",
       "\n",
       "/* On hover */\n",
       "div.sk-estimator:hover .sk-estimator-doc-link:hover,\n",
       ".sk-estimator-doc-link:hover,\n",
       "div.sk-label-container:hover .sk-estimator-doc-link:hover,\n",
       ".sk-estimator-doc-link:hover {\n",
       "  /* unfitted */\n",
       "  background-color: var(--sklearn-color-unfitted-level-3);\n",
       "  color: var(--sklearn-color-background);\n",
       "  text-decoration: none;\n",
       "}\n",
       "\n",
       "div.sk-estimator.fitted:hover .sk-estimator-doc-link.fitted:hover,\n",
       ".sk-estimator-doc-link.fitted:hover,\n",
       "div.sk-label-container:hover .sk-estimator-doc-link.fitted:hover,\n",
       ".sk-estimator-doc-link.fitted:hover {\n",
       "  /* fitted */\n",
       "  background-color: var(--sklearn-color-fitted-level-3);\n",
       "  color: var(--sklearn-color-background);\n",
       "  text-decoration: none;\n",
       "}\n",
       "\n",
       "/* Span, style for the box shown on hovering the info icon */\n",
       ".sk-estimator-doc-link span {\n",
       "  display: none;\n",
       "  z-index: 9999;\n",
       "  position: relative;\n",
       "  font-weight: normal;\n",
       "  right: .2ex;\n",
       "  padding: .5ex;\n",
       "  margin: .5ex;\n",
       "  width: min-content;\n",
       "  min-width: 20ex;\n",
       "  max-width: 50ex;\n",
       "  color: var(--sklearn-color-text);\n",
       "  box-shadow: 2pt 2pt 4pt #999;\n",
       "  /* unfitted */\n",
       "  background: var(--sklearn-color-unfitted-level-0);\n",
       "  border: .5pt solid var(--sklearn-color-unfitted-level-3);\n",
       "}\n",
       "\n",
       ".sk-estimator-doc-link.fitted span {\n",
       "  /* fitted */\n",
       "  background: var(--sklearn-color-fitted-level-0);\n",
       "  border: var(--sklearn-color-fitted-level-3);\n",
       "}\n",
       "\n",
       ".sk-estimator-doc-link:hover span {\n",
       "  display: block;\n",
       "}\n",
       "\n",
       "/* \"?\"-specific style due to the `<a>` HTML tag */\n",
       "\n",
       "#sk-container-id-15 a.estimator_doc_link {\n",
       "  float: right;\n",
       "  font-size: 1rem;\n",
       "  line-height: 1em;\n",
       "  font-family: monospace;\n",
       "  background-color: var(--sklearn-color-background);\n",
       "  border-radius: 1rem;\n",
       "  height: 1rem;\n",
       "  width: 1rem;\n",
       "  text-decoration: none;\n",
       "  /* unfitted */\n",
       "  color: var(--sklearn-color-unfitted-level-1);\n",
       "  border: var(--sklearn-color-unfitted-level-1) 1pt solid;\n",
       "}\n",
       "\n",
       "#sk-container-id-15 a.estimator_doc_link.fitted {\n",
       "  /* fitted */\n",
       "  border: var(--sklearn-color-fitted-level-1) 1pt solid;\n",
       "  color: var(--sklearn-color-fitted-level-1);\n",
       "}\n",
       "\n",
       "/* On hover */\n",
       "#sk-container-id-15 a.estimator_doc_link:hover {\n",
       "  /* unfitted */\n",
       "  background-color: var(--sklearn-color-unfitted-level-3);\n",
       "  color: var(--sklearn-color-background);\n",
       "  text-decoration: none;\n",
       "}\n",
       "\n",
       "#sk-container-id-15 a.estimator_doc_link.fitted:hover {\n",
       "  /* fitted */\n",
       "  background-color: var(--sklearn-color-fitted-level-3);\n",
       "}\n",
       "</style><div id=\"sk-container-id-15\" class=\"sk-top-container\"><div class=\"sk-text-repr-fallback\"><pre>SVC(kernel=&#x27;linear&#x27;, random_state=42)</pre><b>In a Jupyter environment, please rerun this cell to show the HTML representation or trust the notebook. <br />On GitHub, the HTML representation is unable to render, please try loading this page with nbviewer.org.</b></div><div class=\"sk-container\" hidden><div class=\"sk-item\"><div class=\"sk-estimator fitted sk-toggleable\"><input class=\"sk-toggleable__control sk-hidden--visually\" id=\"sk-estimator-id-15\" type=\"checkbox\" checked><label for=\"sk-estimator-id-15\" class=\"sk-toggleable__label fitted sk-toggleable__label-arrow fitted\">&nbsp;&nbsp;SVC<a class=\"sk-estimator-doc-link fitted\" rel=\"noreferrer\" target=\"_blank\" href=\"https://scikit-learn.org/1.5/modules/generated/sklearn.svm.SVC.html\">?<span>Documentation for SVC</span></a><span class=\"sk-estimator-doc-link fitted\">i<span>Fitted</span></span></label><div class=\"sk-toggleable__content fitted\"><pre>SVC(kernel=&#x27;linear&#x27;, random_state=42)</pre></div> </div></div></div></div>"
      ],
      "text/plain": [
       "SVC(kernel='linear', random_state=42)"
      ]
     },
     "execution_count": 276,
     "metadata": {},
     "output_type": "execute_result"
    }
   ],
   "source": [
    "classifier.fit(X_train, y_train)"
   ]
  },
  {
   "cell_type": "code",
   "execution_count": 278,
   "id": "bf51f16f-8c72-4457-b0d7-f6a54c37a287",
   "metadata": {},
   "outputs": [
    {
     "data": {
      "text/plain": [
       "967    2\n",
       "365    1\n",
       "559    1\n",
       "33     1\n",
       "31     2\n",
       "      ..\n",
       "106    1\n",
       "270    1\n",
       "860    2\n",
       "435    1\n",
       "102    2\n",
       "Name: Experience_Level, Length: 778, dtype: int64"
      ]
     },
     "execution_count": 278,
     "metadata": {},
     "output_type": "execute_result"
    }
   ],
   "source": [
    "\n",
    "y_train"
   ]
  },
  {
   "cell_type": "code",
   "execution_count": 280,
   "id": "46a5c2cd-b927-4b37-b68c-07fccbc8396f",
   "metadata": {},
   "outputs": [
    {
     "data": {
      "text/plain": [
       "array([2, 3, 2, 1, 3, 3, 2, 2, 2, 1, 3, 1, 2, 2, 1, 1, 2, 3, 2, 1, 2, 1,\n",
       "       2, 1, 1, 2, 1, 1, 2, 2, 1, 2, 1, 3, 3, 3, 1, 2, 1, 1, 1, 1, 1, 1,\n",
       "       2, 1, 2, 2, 2, 2, 1, 3, 2, 2, 1, 3, 2, 1, 1, 2, 1, 2, 3, 3, 1, 2,\n",
       "       1, 3, 2, 3, 3, 2, 1, 3, 3, 2, 1, 1, 3, 3, 1, 2, 2, 3, 2, 1, 2, 1,\n",
       "       2, 1, 2, 1, 3, 3, 2, 2, 2, 2, 2, 3, 1, 3, 2, 1, 3, 3, 2, 3, 2, 3,\n",
       "       2, 1, 1, 1, 3, 2, 2, 2, 1, 1, 2, 1, 1, 1, 3, 2, 3, 2, 1, 1, 2, 2,\n",
       "       1, 1, 3, 2, 3, 3, 1, 1, 1, 1, 2, 1, 2, 1, 1, 3, 3, 1, 2, 2, 3, 2,\n",
       "       2, 1, 1, 1, 3, 3, 3, 2, 2, 1, 2, 2, 2, 1, 2, 1, 1, 2, 1, 2, 2, 3,\n",
       "       1, 2, 2, 2, 1, 2, 1, 1, 2, 2, 1, 2, 1, 2, 1, 2, 1, 1, 3],\n",
       "      dtype=int64)"
      ]
     },
     "execution_count": 280,
     "metadata": {},
     "output_type": "execute_result"
    }
   ],
   "source": [
    "y_pred = classifier.predict(X_test)\n",
    "y_pred"
   ]
  },
  {
   "cell_type": "code",
   "execution_count": 282,
   "id": "336c3c8e-d615-42ff-83ff-3cb021fb9a47",
   "metadata": {},
   "outputs": [
    {
     "name": "stdout",
     "output_type": "stream",
     "text": [
      "[[66 12  0]\n",
      " [ 9 66  0]\n",
      " [ 0  0 42]]\n"
     ]
    },
    {
     "data": {
      "text/plain": [
       "0.8923076923076924"
      ]
     },
     "execution_count": 282,
     "metadata": {},
     "output_type": "execute_result"
    }
   ],
   "source": [
    "from sklearn.metrics import confusion_matrix, accuracy_score\n",
    "cm = confusion_matrix(y_test, y_pred)\n",
    "print(cm)\n",
    "accuracy_score(y_test, y_pred)"
   ]
  },
  {
   "cell_type": "code",
   "execution_count": 284,
   "id": "b71f6a97-16ed-4114-8de3-4af788288e7d",
   "metadata": {},
   "outputs": [],
   "source": [
    "from sklearn.svm import SVC\n",
    "classifier = SVC(kernel='poly', random_state=300, degree=3, C=100)\n",
    "    \n",
    "  "
   ]
  },
  {
   "cell_type": "code",
   "execution_count": 286,
   "id": "df678370-b56c-4e60-99f5-da033d21c78e",
   "metadata": {},
   "outputs": [
    {
     "data": {
      "text/html": [
       "<style>#sk-container-id-16 {\n",
       "  /* Definition of color scheme common for light and dark mode */\n",
       "  --sklearn-color-text: black;\n",
       "  --sklearn-color-line: gray;\n",
       "  /* Definition of color scheme for unfitted estimators */\n",
       "  --sklearn-color-unfitted-level-0: #fff5e6;\n",
       "  --sklearn-color-unfitted-level-1: #f6e4d2;\n",
       "  --sklearn-color-unfitted-level-2: #ffe0b3;\n",
       "  --sklearn-color-unfitted-level-3: chocolate;\n",
       "  /* Definition of color scheme for fitted estimators */\n",
       "  --sklearn-color-fitted-level-0: #f0f8ff;\n",
       "  --sklearn-color-fitted-level-1: #d4ebff;\n",
       "  --sklearn-color-fitted-level-2: #b3dbfd;\n",
       "  --sklearn-color-fitted-level-3: cornflowerblue;\n",
       "\n",
       "  /* Specific color for light theme */\n",
       "  --sklearn-color-text-on-default-background: var(--sg-text-color, var(--theme-code-foreground, var(--jp-content-font-color1, black)));\n",
       "  --sklearn-color-background: var(--sg-background-color, var(--theme-background, var(--jp-layout-color0, white)));\n",
       "  --sklearn-color-border-box: var(--sg-text-color, var(--theme-code-foreground, var(--jp-content-font-color1, black)));\n",
       "  --sklearn-color-icon: #696969;\n",
       "\n",
       "  @media (prefers-color-scheme: dark) {\n",
       "    /* Redefinition of color scheme for dark theme */\n",
       "    --sklearn-color-text-on-default-background: var(--sg-text-color, var(--theme-code-foreground, var(--jp-content-font-color1, white)));\n",
       "    --sklearn-color-background: var(--sg-background-color, var(--theme-background, var(--jp-layout-color0, #111)));\n",
       "    --sklearn-color-border-box: var(--sg-text-color, var(--theme-code-foreground, var(--jp-content-font-color1, white)));\n",
       "    --sklearn-color-icon: #878787;\n",
       "  }\n",
       "}\n",
       "\n",
       "#sk-container-id-16 {\n",
       "  color: var(--sklearn-color-text);\n",
       "}\n",
       "\n",
       "#sk-container-id-16 pre {\n",
       "  padding: 0;\n",
       "}\n",
       "\n",
       "#sk-container-id-16 input.sk-hidden--visually {\n",
       "  border: 0;\n",
       "  clip: rect(1px 1px 1px 1px);\n",
       "  clip: rect(1px, 1px, 1px, 1px);\n",
       "  height: 1px;\n",
       "  margin: -1px;\n",
       "  overflow: hidden;\n",
       "  padding: 0;\n",
       "  position: absolute;\n",
       "  width: 1px;\n",
       "}\n",
       "\n",
       "#sk-container-id-16 div.sk-dashed-wrapped {\n",
       "  border: 1px dashed var(--sklearn-color-line);\n",
       "  margin: 0 0.4em 0.5em 0.4em;\n",
       "  box-sizing: border-box;\n",
       "  padding-bottom: 0.4em;\n",
       "  background-color: var(--sklearn-color-background);\n",
       "}\n",
       "\n",
       "#sk-container-id-16 div.sk-container {\n",
       "  /* jupyter's `normalize.less` sets `[hidden] { display: none; }`\n",
       "     but bootstrap.min.css set `[hidden] { display: none !important; }`\n",
       "     so we also need the `!important` here to be able to override the\n",
       "     default hidden behavior on the sphinx rendered scikit-learn.org.\n",
       "     See: https://github.com/scikit-learn/scikit-learn/issues/21755 */\n",
       "  display: inline-block !important;\n",
       "  position: relative;\n",
       "}\n",
       "\n",
       "#sk-container-id-16 div.sk-text-repr-fallback {\n",
       "  display: none;\n",
       "}\n",
       "\n",
       "div.sk-parallel-item,\n",
       "div.sk-serial,\n",
       "div.sk-item {\n",
       "  /* draw centered vertical line to link estimators */\n",
       "  background-image: linear-gradient(var(--sklearn-color-text-on-default-background), var(--sklearn-color-text-on-default-background));\n",
       "  background-size: 2px 100%;\n",
       "  background-repeat: no-repeat;\n",
       "  background-position: center center;\n",
       "}\n",
       "\n",
       "/* Parallel-specific style estimator block */\n",
       "\n",
       "#sk-container-id-16 div.sk-parallel-item::after {\n",
       "  content: \"\";\n",
       "  width: 100%;\n",
       "  border-bottom: 2px solid var(--sklearn-color-text-on-default-background);\n",
       "  flex-grow: 1;\n",
       "}\n",
       "\n",
       "#sk-container-id-16 div.sk-parallel {\n",
       "  display: flex;\n",
       "  align-items: stretch;\n",
       "  justify-content: center;\n",
       "  background-color: var(--sklearn-color-background);\n",
       "  position: relative;\n",
       "}\n",
       "\n",
       "#sk-container-id-16 div.sk-parallel-item {\n",
       "  display: flex;\n",
       "  flex-direction: column;\n",
       "}\n",
       "\n",
       "#sk-container-id-16 div.sk-parallel-item:first-child::after {\n",
       "  align-self: flex-end;\n",
       "  width: 50%;\n",
       "}\n",
       "\n",
       "#sk-container-id-16 div.sk-parallel-item:last-child::after {\n",
       "  align-self: flex-start;\n",
       "  width: 50%;\n",
       "}\n",
       "\n",
       "#sk-container-id-16 div.sk-parallel-item:only-child::after {\n",
       "  width: 0;\n",
       "}\n",
       "\n",
       "/* Serial-specific style estimator block */\n",
       "\n",
       "#sk-container-id-16 div.sk-serial {\n",
       "  display: flex;\n",
       "  flex-direction: column;\n",
       "  align-items: center;\n",
       "  background-color: var(--sklearn-color-background);\n",
       "  padding-right: 1em;\n",
       "  padding-left: 1em;\n",
       "}\n",
       "\n",
       "\n",
       "/* Toggleable style: style used for estimator/Pipeline/ColumnTransformer box that is\n",
       "clickable and can be expanded/collapsed.\n",
       "- Pipeline and ColumnTransformer use this feature and define the default style\n",
       "- Estimators will overwrite some part of the style using the `sk-estimator` class\n",
       "*/\n",
       "\n",
       "/* Pipeline and ColumnTransformer style (default) */\n",
       "\n",
       "#sk-container-id-16 div.sk-toggleable {\n",
       "  /* Default theme specific background. It is overwritten whether we have a\n",
       "  specific estimator or a Pipeline/ColumnTransformer */\n",
       "  background-color: var(--sklearn-color-background);\n",
       "}\n",
       "\n",
       "/* Toggleable label */\n",
       "#sk-container-id-16 label.sk-toggleable__label {\n",
       "  cursor: pointer;\n",
       "  display: block;\n",
       "  width: 100%;\n",
       "  margin-bottom: 0;\n",
       "  padding: 0.5em;\n",
       "  box-sizing: border-box;\n",
       "  text-align: center;\n",
       "}\n",
       "\n",
       "#sk-container-id-16 label.sk-toggleable__label-arrow:before {\n",
       "  /* Arrow on the left of the label */\n",
       "  content: \"▸\";\n",
       "  float: left;\n",
       "  margin-right: 0.25em;\n",
       "  color: var(--sklearn-color-icon);\n",
       "}\n",
       "\n",
       "#sk-container-id-16 label.sk-toggleable__label-arrow:hover:before {\n",
       "  color: var(--sklearn-color-text);\n",
       "}\n",
       "\n",
       "/* Toggleable content - dropdown */\n",
       "\n",
       "#sk-container-id-16 div.sk-toggleable__content {\n",
       "  max-height: 0;\n",
       "  max-width: 0;\n",
       "  overflow: hidden;\n",
       "  text-align: left;\n",
       "  /* unfitted */\n",
       "  background-color: var(--sklearn-color-unfitted-level-0);\n",
       "}\n",
       "\n",
       "#sk-container-id-16 div.sk-toggleable__content.fitted {\n",
       "  /* fitted */\n",
       "  background-color: var(--sklearn-color-fitted-level-0);\n",
       "}\n",
       "\n",
       "#sk-container-id-16 div.sk-toggleable__content pre {\n",
       "  margin: 0.2em;\n",
       "  border-radius: 0.25em;\n",
       "  color: var(--sklearn-color-text);\n",
       "  /* unfitted */\n",
       "  background-color: var(--sklearn-color-unfitted-level-0);\n",
       "}\n",
       "\n",
       "#sk-container-id-16 div.sk-toggleable__content.fitted pre {\n",
       "  /* unfitted */\n",
       "  background-color: var(--sklearn-color-fitted-level-0);\n",
       "}\n",
       "\n",
       "#sk-container-id-16 input.sk-toggleable__control:checked~div.sk-toggleable__content {\n",
       "  /* Expand drop-down */\n",
       "  max-height: 200px;\n",
       "  max-width: 100%;\n",
       "  overflow: auto;\n",
       "}\n",
       "\n",
       "#sk-container-id-16 input.sk-toggleable__control:checked~label.sk-toggleable__label-arrow:before {\n",
       "  content: \"▾\";\n",
       "}\n",
       "\n",
       "/* Pipeline/ColumnTransformer-specific style */\n",
       "\n",
       "#sk-container-id-16 div.sk-label input.sk-toggleable__control:checked~label.sk-toggleable__label {\n",
       "  color: var(--sklearn-color-text);\n",
       "  background-color: var(--sklearn-color-unfitted-level-2);\n",
       "}\n",
       "\n",
       "#sk-container-id-16 div.sk-label.fitted input.sk-toggleable__control:checked~label.sk-toggleable__label {\n",
       "  background-color: var(--sklearn-color-fitted-level-2);\n",
       "}\n",
       "\n",
       "/* Estimator-specific style */\n",
       "\n",
       "/* Colorize estimator box */\n",
       "#sk-container-id-16 div.sk-estimator input.sk-toggleable__control:checked~label.sk-toggleable__label {\n",
       "  /* unfitted */\n",
       "  background-color: var(--sklearn-color-unfitted-level-2);\n",
       "}\n",
       "\n",
       "#sk-container-id-16 div.sk-estimator.fitted input.sk-toggleable__control:checked~label.sk-toggleable__label {\n",
       "  /* fitted */\n",
       "  background-color: var(--sklearn-color-fitted-level-2);\n",
       "}\n",
       "\n",
       "#sk-container-id-16 div.sk-label label.sk-toggleable__label,\n",
       "#sk-container-id-16 div.sk-label label {\n",
       "  /* The background is the default theme color */\n",
       "  color: var(--sklearn-color-text-on-default-background);\n",
       "}\n",
       "\n",
       "/* On hover, darken the color of the background */\n",
       "#sk-container-id-16 div.sk-label:hover label.sk-toggleable__label {\n",
       "  color: var(--sklearn-color-text);\n",
       "  background-color: var(--sklearn-color-unfitted-level-2);\n",
       "}\n",
       "\n",
       "/* Label box, darken color on hover, fitted */\n",
       "#sk-container-id-16 div.sk-label.fitted:hover label.sk-toggleable__label.fitted {\n",
       "  color: var(--sklearn-color-text);\n",
       "  background-color: var(--sklearn-color-fitted-level-2);\n",
       "}\n",
       "\n",
       "/* Estimator label */\n",
       "\n",
       "#sk-container-id-16 div.sk-label label {\n",
       "  font-family: monospace;\n",
       "  font-weight: bold;\n",
       "  display: inline-block;\n",
       "  line-height: 1.2em;\n",
       "}\n",
       "\n",
       "#sk-container-id-16 div.sk-label-container {\n",
       "  text-align: center;\n",
       "}\n",
       "\n",
       "/* Estimator-specific */\n",
       "#sk-container-id-16 div.sk-estimator {\n",
       "  font-family: monospace;\n",
       "  border: 1px dotted var(--sklearn-color-border-box);\n",
       "  border-radius: 0.25em;\n",
       "  box-sizing: border-box;\n",
       "  margin-bottom: 0.5em;\n",
       "  /* unfitted */\n",
       "  background-color: var(--sklearn-color-unfitted-level-0);\n",
       "}\n",
       "\n",
       "#sk-container-id-16 div.sk-estimator.fitted {\n",
       "  /* fitted */\n",
       "  background-color: var(--sklearn-color-fitted-level-0);\n",
       "}\n",
       "\n",
       "/* on hover */\n",
       "#sk-container-id-16 div.sk-estimator:hover {\n",
       "  /* unfitted */\n",
       "  background-color: var(--sklearn-color-unfitted-level-2);\n",
       "}\n",
       "\n",
       "#sk-container-id-16 div.sk-estimator.fitted:hover {\n",
       "  /* fitted */\n",
       "  background-color: var(--sklearn-color-fitted-level-2);\n",
       "}\n",
       "\n",
       "/* Specification for estimator info (e.g. \"i\" and \"?\") */\n",
       "\n",
       "/* Common style for \"i\" and \"?\" */\n",
       "\n",
       ".sk-estimator-doc-link,\n",
       "a:link.sk-estimator-doc-link,\n",
       "a:visited.sk-estimator-doc-link {\n",
       "  float: right;\n",
       "  font-size: smaller;\n",
       "  line-height: 1em;\n",
       "  font-family: monospace;\n",
       "  background-color: var(--sklearn-color-background);\n",
       "  border-radius: 1em;\n",
       "  height: 1em;\n",
       "  width: 1em;\n",
       "  text-decoration: none !important;\n",
       "  margin-left: 1ex;\n",
       "  /* unfitted */\n",
       "  border: var(--sklearn-color-unfitted-level-1) 1pt solid;\n",
       "  color: var(--sklearn-color-unfitted-level-1);\n",
       "}\n",
       "\n",
       ".sk-estimator-doc-link.fitted,\n",
       "a:link.sk-estimator-doc-link.fitted,\n",
       "a:visited.sk-estimator-doc-link.fitted {\n",
       "  /* fitted */\n",
       "  border: var(--sklearn-color-fitted-level-1) 1pt solid;\n",
       "  color: var(--sklearn-color-fitted-level-1);\n",
       "}\n",
       "\n",
       "/* On hover */\n",
       "div.sk-estimator:hover .sk-estimator-doc-link:hover,\n",
       ".sk-estimator-doc-link:hover,\n",
       "div.sk-label-container:hover .sk-estimator-doc-link:hover,\n",
       ".sk-estimator-doc-link:hover {\n",
       "  /* unfitted */\n",
       "  background-color: var(--sklearn-color-unfitted-level-3);\n",
       "  color: var(--sklearn-color-background);\n",
       "  text-decoration: none;\n",
       "}\n",
       "\n",
       "div.sk-estimator.fitted:hover .sk-estimator-doc-link.fitted:hover,\n",
       ".sk-estimator-doc-link.fitted:hover,\n",
       "div.sk-label-container:hover .sk-estimator-doc-link.fitted:hover,\n",
       ".sk-estimator-doc-link.fitted:hover {\n",
       "  /* fitted */\n",
       "  background-color: var(--sklearn-color-fitted-level-3);\n",
       "  color: var(--sklearn-color-background);\n",
       "  text-decoration: none;\n",
       "}\n",
       "\n",
       "/* Span, style for the box shown on hovering the info icon */\n",
       ".sk-estimator-doc-link span {\n",
       "  display: none;\n",
       "  z-index: 9999;\n",
       "  position: relative;\n",
       "  font-weight: normal;\n",
       "  right: .2ex;\n",
       "  padding: .5ex;\n",
       "  margin: .5ex;\n",
       "  width: min-content;\n",
       "  min-width: 20ex;\n",
       "  max-width: 50ex;\n",
       "  color: var(--sklearn-color-text);\n",
       "  box-shadow: 2pt 2pt 4pt #999;\n",
       "  /* unfitted */\n",
       "  background: var(--sklearn-color-unfitted-level-0);\n",
       "  border: .5pt solid var(--sklearn-color-unfitted-level-3);\n",
       "}\n",
       "\n",
       ".sk-estimator-doc-link.fitted span {\n",
       "  /* fitted */\n",
       "  background: var(--sklearn-color-fitted-level-0);\n",
       "  border: var(--sklearn-color-fitted-level-3);\n",
       "}\n",
       "\n",
       ".sk-estimator-doc-link:hover span {\n",
       "  display: block;\n",
       "}\n",
       "\n",
       "/* \"?\"-specific style due to the `<a>` HTML tag */\n",
       "\n",
       "#sk-container-id-16 a.estimator_doc_link {\n",
       "  float: right;\n",
       "  font-size: 1rem;\n",
       "  line-height: 1em;\n",
       "  font-family: monospace;\n",
       "  background-color: var(--sklearn-color-background);\n",
       "  border-radius: 1rem;\n",
       "  height: 1rem;\n",
       "  width: 1rem;\n",
       "  text-decoration: none;\n",
       "  /* unfitted */\n",
       "  color: var(--sklearn-color-unfitted-level-1);\n",
       "  border: var(--sklearn-color-unfitted-level-1) 1pt solid;\n",
       "}\n",
       "\n",
       "#sk-container-id-16 a.estimator_doc_link.fitted {\n",
       "  /* fitted */\n",
       "  border: var(--sklearn-color-fitted-level-1) 1pt solid;\n",
       "  color: var(--sklearn-color-fitted-level-1);\n",
       "}\n",
       "\n",
       "/* On hover */\n",
       "#sk-container-id-16 a.estimator_doc_link:hover {\n",
       "  /* unfitted */\n",
       "  background-color: var(--sklearn-color-unfitted-level-3);\n",
       "  color: var(--sklearn-color-background);\n",
       "  text-decoration: none;\n",
       "}\n",
       "\n",
       "#sk-container-id-16 a.estimator_doc_link.fitted:hover {\n",
       "  /* fitted */\n",
       "  background-color: var(--sklearn-color-fitted-level-3);\n",
       "}\n",
       "</style><div id=\"sk-container-id-16\" class=\"sk-top-container\"><div class=\"sk-text-repr-fallback\"><pre>SVC(C=100, kernel=&#x27;poly&#x27;, random_state=300)</pre><b>In a Jupyter environment, please rerun this cell to show the HTML representation or trust the notebook. <br />On GitHub, the HTML representation is unable to render, please try loading this page with nbviewer.org.</b></div><div class=\"sk-container\" hidden><div class=\"sk-item\"><div class=\"sk-estimator fitted sk-toggleable\"><input class=\"sk-toggleable__control sk-hidden--visually\" id=\"sk-estimator-id-16\" type=\"checkbox\" checked><label for=\"sk-estimator-id-16\" class=\"sk-toggleable__label fitted sk-toggleable__label-arrow fitted\">&nbsp;&nbsp;SVC<a class=\"sk-estimator-doc-link fitted\" rel=\"noreferrer\" target=\"_blank\" href=\"https://scikit-learn.org/1.5/modules/generated/sklearn.svm.SVC.html\">?<span>Documentation for SVC</span></a><span class=\"sk-estimator-doc-link fitted\">i<span>Fitted</span></span></label><div class=\"sk-toggleable__content fitted\"><pre>SVC(C=100, kernel=&#x27;poly&#x27;, random_state=300)</pre></div> </div></div></div></div>"
      ],
      "text/plain": [
       "SVC(C=100, kernel='poly', random_state=300)"
      ]
     },
     "execution_count": 286,
     "metadata": {},
     "output_type": "execute_result"
    }
   ],
   "source": [
    "classifier.fit(X_train, y_train)"
   ]
  },
  {
   "cell_type": "code",
   "execution_count": 288,
   "id": "664da8e4-b07a-4d41-b76a-dede0f0e0e29",
   "metadata": {},
   "outputs": [],
   "source": [
    "y_pred = classifier.predict(X_test)"
   ]
  },
  {
   "cell_type": "code",
   "execution_count": 290,
   "id": "1437a0c7-e909-4a79-a505-219aac49f382",
   "metadata": {},
   "outputs": [
    {
     "name": "stdout",
     "output_type": "stream",
     "text": [
      "[[67 11  0]\n",
      " [18 56  1]\n",
      " [ 0  2 40]]\n"
     ]
    },
    {
     "data": {
      "text/plain": [
       "0.8358974358974359"
      ]
     },
     "execution_count": 290,
     "metadata": {},
     "output_type": "execute_result"
    }
   ],
   "source": [
    "from sklearn.metrics import confusion_matrix, accuracy_score\n",
    "cm = confusion_matrix(y_test, y_pred)\n",
    "print(cm)\n",
    "accuracy_score(y_test, y_pred)"
   ]
  },
  {
   "cell_type": "code",
   "execution_count": 292,
   "id": "453c43a5-de2b-4730-9772-258cbc5bfa9e",
   "metadata": {},
   "outputs": [],
   "source": [
    "classifier = SVC(kernel = 'rbf', random_state = 150)"
   ]
  },
  {
   "cell_type": "code",
   "execution_count": 294,
   "id": "b1318363-ce18-4466-b993-eb6fcb074a93",
   "metadata": {},
   "outputs": [
    {
     "data": {
      "text/html": [
       "<style>#sk-container-id-17 {\n",
       "  /* Definition of color scheme common for light and dark mode */\n",
       "  --sklearn-color-text: black;\n",
       "  --sklearn-color-line: gray;\n",
       "  /* Definition of color scheme for unfitted estimators */\n",
       "  --sklearn-color-unfitted-level-0: #fff5e6;\n",
       "  --sklearn-color-unfitted-level-1: #f6e4d2;\n",
       "  --sklearn-color-unfitted-level-2: #ffe0b3;\n",
       "  --sklearn-color-unfitted-level-3: chocolate;\n",
       "  /* Definition of color scheme for fitted estimators */\n",
       "  --sklearn-color-fitted-level-0: #f0f8ff;\n",
       "  --sklearn-color-fitted-level-1: #d4ebff;\n",
       "  --sklearn-color-fitted-level-2: #b3dbfd;\n",
       "  --sklearn-color-fitted-level-3: cornflowerblue;\n",
       "\n",
       "  /* Specific color for light theme */\n",
       "  --sklearn-color-text-on-default-background: var(--sg-text-color, var(--theme-code-foreground, var(--jp-content-font-color1, black)));\n",
       "  --sklearn-color-background: var(--sg-background-color, var(--theme-background, var(--jp-layout-color0, white)));\n",
       "  --sklearn-color-border-box: var(--sg-text-color, var(--theme-code-foreground, var(--jp-content-font-color1, black)));\n",
       "  --sklearn-color-icon: #696969;\n",
       "\n",
       "  @media (prefers-color-scheme: dark) {\n",
       "    /* Redefinition of color scheme for dark theme */\n",
       "    --sklearn-color-text-on-default-background: var(--sg-text-color, var(--theme-code-foreground, var(--jp-content-font-color1, white)));\n",
       "    --sklearn-color-background: var(--sg-background-color, var(--theme-background, var(--jp-layout-color0, #111)));\n",
       "    --sklearn-color-border-box: var(--sg-text-color, var(--theme-code-foreground, var(--jp-content-font-color1, white)));\n",
       "    --sklearn-color-icon: #878787;\n",
       "  }\n",
       "}\n",
       "\n",
       "#sk-container-id-17 {\n",
       "  color: var(--sklearn-color-text);\n",
       "}\n",
       "\n",
       "#sk-container-id-17 pre {\n",
       "  padding: 0;\n",
       "}\n",
       "\n",
       "#sk-container-id-17 input.sk-hidden--visually {\n",
       "  border: 0;\n",
       "  clip: rect(1px 1px 1px 1px);\n",
       "  clip: rect(1px, 1px, 1px, 1px);\n",
       "  height: 1px;\n",
       "  margin: -1px;\n",
       "  overflow: hidden;\n",
       "  padding: 0;\n",
       "  position: absolute;\n",
       "  width: 1px;\n",
       "}\n",
       "\n",
       "#sk-container-id-17 div.sk-dashed-wrapped {\n",
       "  border: 1px dashed var(--sklearn-color-line);\n",
       "  margin: 0 0.4em 0.5em 0.4em;\n",
       "  box-sizing: border-box;\n",
       "  padding-bottom: 0.4em;\n",
       "  background-color: var(--sklearn-color-background);\n",
       "}\n",
       "\n",
       "#sk-container-id-17 div.sk-container {\n",
       "  /* jupyter's `normalize.less` sets `[hidden] { display: none; }`\n",
       "     but bootstrap.min.css set `[hidden] { display: none !important; }`\n",
       "     so we also need the `!important` here to be able to override the\n",
       "     default hidden behavior on the sphinx rendered scikit-learn.org.\n",
       "     See: https://github.com/scikit-learn/scikit-learn/issues/21755 */\n",
       "  display: inline-block !important;\n",
       "  position: relative;\n",
       "}\n",
       "\n",
       "#sk-container-id-17 div.sk-text-repr-fallback {\n",
       "  display: none;\n",
       "}\n",
       "\n",
       "div.sk-parallel-item,\n",
       "div.sk-serial,\n",
       "div.sk-item {\n",
       "  /* draw centered vertical line to link estimators */\n",
       "  background-image: linear-gradient(var(--sklearn-color-text-on-default-background), var(--sklearn-color-text-on-default-background));\n",
       "  background-size: 2px 100%;\n",
       "  background-repeat: no-repeat;\n",
       "  background-position: center center;\n",
       "}\n",
       "\n",
       "/* Parallel-specific style estimator block */\n",
       "\n",
       "#sk-container-id-17 div.sk-parallel-item::after {\n",
       "  content: \"\";\n",
       "  width: 100%;\n",
       "  border-bottom: 2px solid var(--sklearn-color-text-on-default-background);\n",
       "  flex-grow: 1;\n",
       "}\n",
       "\n",
       "#sk-container-id-17 div.sk-parallel {\n",
       "  display: flex;\n",
       "  align-items: stretch;\n",
       "  justify-content: center;\n",
       "  background-color: var(--sklearn-color-background);\n",
       "  position: relative;\n",
       "}\n",
       "\n",
       "#sk-container-id-17 div.sk-parallel-item {\n",
       "  display: flex;\n",
       "  flex-direction: column;\n",
       "}\n",
       "\n",
       "#sk-container-id-17 div.sk-parallel-item:first-child::after {\n",
       "  align-self: flex-end;\n",
       "  width: 50%;\n",
       "}\n",
       "\n",
       "#sk-container-id-17 div.sk-parallel-item:last-child::after {\n",
       "  align-self: flex-start;\n",
       "  width: 50%;\n",
       "}\n",
       "\n",
       "#sk-container-id-17 div.sk-parallel-item:only-child::after {\n",
       "  width: 0;\n",
       "}\n",
       "\n",
       "/* Serial-specific style estimator block */\n",
       "\n",
       "#sk-container-id-17 div.sk-serial {\n",
       "  display: flex;\n",
       "  flex-direction: column;\n",
       "  align-items: center;\n",
       "  background-color: var(--sklearn-color-background);\n",
       "  padding-right: 1em;\n",
       "  padding-left: 1em;\n",
       "}\n",
       "\n",
       "\n",
       "/* Toggleable style: style used for estimator/Pipeline/ColumnTransformer box that is\n",
       "clickable and can be expanded/collapsed.\n",
       "- Pipeline and ColumnTransformer use this feature and define the default style\n",
       "- Estimators will overwrite some part of the style using the `sk-estimator` class\n",
       "*/\n",
       "\n",
       "/* Pipeline and ColumnTransformer style (default) */\n",
       "\n",
       "#sk-container-id-17 div.sk-toggleable {\n",
       "  /* Default theme specific background. It is overwritten whether we have a\n",
       "  specific estimator or a Pipeline/ColumnTransformer */\n",
       "  background-color: var(--sklearn-color-background);\n",
       "}\n",
       "\n",
       "/* Toggleable label */\n",
       "#sk-container-id-17 label.sk-toggleable__label {\n",
       "  cursor: pointer;\n",
       "  display: block;\n",
       "  width: 100%;\n",
       "  margin-bottom: 0;\n",
       "  padding: 0.5em;\n",
       "  box-sizing: border-box;\n",
       "  text-align: center;\n",
       "}\n",
       "\n",
       "#sk-container-id-17 label.sk-toggleable__label-arrow:before {\n",
       "  /* Arrow on the left of the label */\n",
       "  content: \"▸\";\n",
       "  float: left;\n",
       "  margin-right: 0.25em;\n",
       "  color: var(--sklearn-color-icon);\n",
       "}\n",
       "\n",
       "#sk-container-id-17 label.sk-toggleable__label-arrow:hover:before {\n",
       "  color: var(--sklearn-color-text);\n",
       "}\n",
       "\n",
       "/* Toggleable content - dropdown */\n",
       "\n",
       "#sk-container-id-17 div.sk-toggleable__content {\n",
       "  max-height: 0;\n",
       "  max-width: 0;\n",
       "  overflow: hidden;\n",
       "  text-align: left;\n",
       "  /* unfitted */\n",
       "  background-color: var(--sklearn-color-unfitted-level-0);\n",
       "}\n",
       "\n",
       "#sk-container-id-17 div.sk-toggleable__content.fitted {\n",
       "  /* fitted */\n",
       "  background-color: var(--sklearn-color-fitted-level-0);\n",
       "}\n",
       "\n",
       "#sk-container-id-17 div.sk-toggleable__content pre {\n",
       "  margin: 0.2em;\n",
       "  border-radius: 0.25em;\n",
       "  color: var(--sklearn-color-text);\n",
       "  /* unfitted */\n",
       "  background-color: var(--sklearn-color-unfitted-level-0);\n",
       "}\n",
       "\n",
       "#sk-container-id-17 div.sk-toggleable__content.fitted pre {\n",
       "  /* unfitted */\n",
       "  background-color: var(--sklearn-color-fitted-level-0);\n",
       "}\n",
       "\n",
       "#sk-container-id-17 input.sk-toggleable__control:checked~div.sk-toggleable__content {\n",
       "  /* Expand drop-down */\n",
       "  max-height: 200px;\n",
       "  max-width: 100%;\n",
       "  overflow: auto;\n",
       "}\n",
       "\n",
       "#sk-container-id-17 input.sk-toggleable__control:checked~label.sk-toggleable__label-arrow:before {\n",
       "  content: \"▾\";\n",
       "}\n",
       "\n",
       "/* Pipeline/ColumnTransformer-specific style */\n",
       "\n",
       "#sk-container-id-17 div.sk-label input.sk-toggleable__control:checked~label.sk-toggleable__label {\n",
       "  color: var(--sklearn-color-text);\n",
       "  background-color: var(--sklearn-color-unfitted-level-2);\n",
       "}\n",
       "\n",
       "#sk-container-id-17 div.sk-label.fitted input.sk-toggleable__control:checked~label.sk-toggleable__label {\n",
       "  background-color: var(--sklearn-color-fitted-level-2);\n",
       "}\n",
       "\n",
       "/* Estimator-specific style */\n",
       "\n",
       "/* Colorize estimator box */\n",
       "#sk-container-id-17 div.sk-estimator input.sk-toggleable__control:checked~label.sk-toggleable__label {\n",
       "  /* unfitted */\n",
       "  background-color: var(--sklearn-color-unfitted-level-2);\n",
       "}\n",
       "\n",
       "#sk-container-id-17 div.sk-estimator.fitted input.sk-toggleable__control:checked~label.sk-toggleable__label {\n",
       "  /* fitted */\n",
       "  background-color: var(--sklearn-color-fitted-level-2);\n",
       "}\n",
       "\n",
       "#sk-container-id-17 div.sk-label label.sk-toggleable__label,\n",
       "#sk-container-id-17 div.sk-label label {\n",
       "  /* The background is the default theme color */\n",
       "  color: var(--sklearn-color-text-on-default-background);\n",
       "}\n",
       "\n",
       "/* On hover, darken the color of the background */\n",
       "#sk-container-id-17 div.sk-label:hover label.sk-toggleable__label {\n",
       "  color: var(--sklearn-color-text);\n",
       "  background-color: var(--sklearn-color-unfitted-level-2);\n",
       "}\n",
       "\n",
       "/* Label box, darken color on hover, fitted */\n",
       "#sk-container-id-17 div.sk-label.fitted:hover label.sk-toggleable__label.fitted {\n",
       "  color: var(--sklearn-color-text);\n",
       "  background-color: var(--sklearn-color-fitted-level-2);\n",
       "}\n",
       "\n",
       "/* Estimator label */\n",
       "\n",
       "#sk-container-id-17 div.sk-label label {\n",
       "  font-family: monospace;\n",
       "  font-weight: bold;\n",
       "  display: inline-block;\n",
       "  line-height: 1.2em;\n",
       "}\n",
       "\n",
       "#sk-container-id-17 div.sk-label-container {\n",
       "  text-align: center;\n",
       "}\n",
       "\n",
       "/* Estimator-specific */\n",
       "#sk-container-id-17 div.sk-estimator {\n",
       "  font-family: monospace;\n",
       "  border: 1px dotted var(--sklearn-color-border-box);\n",
       "  border-radius: 0.25em;\n",
       "  box-sizing: border-box;\n",
       "  margin-bottom: 0.5em;\n",
       "  /* unfitted */\n",
       "  background-color: var(--sklearn-color-unfitted-level-0);\n",
       "}\n",
       "\n",
       "#sk-container-id-17 div.sk-estimator.fitted {\n",
       "  /* fitted */\n",
       "  background-color: var(--sklearn-color-fitted-level-0);\n",
       "}\n",
       "\n",
       "/* on hover */\n",
       "#sk-container-id-17 div.sk-estimator:hover {\n",
       "  /* unfitted */\n",
       "  background-color: var(--sklearn-color-unfitted-level-2);\n",
       "}\n",
       "\n",
       "#sk-container-id-17 div.sk-estimator.fitted:hover {\n",
       "  /* fitted */\n",
       "  background-color: var(--sklearn-color-fitted-level-2);\n",
       "}\n",
       "\n",
       "/* Specification for estimator info (e.g. \"i\" and \"?\") */\n",
       "\n",
       "/* Common style for \"i\" and \"?\" */\n",
       "\n",
       ".sk-estimator-doc-link,\n",
       "a:link.sk-estimator-doc-link,\n",
       "a:visited.sk-estimator-doc-link {\n",
       "  float: right;\n",
       "  font-size: smaller;\n",
       "  line-height: 1em;\n",
       "  font-family: monospace;\n",
       "  background-color: var(--sklearn-color-background);\n",
       "  border-radius: 1em;\n",
       "  height: 1em;\n",
       "  width: 1em;\n",
       "  text-decoration: none !important;\n",
       "  margin-left: 1ex;\n",
       "  /* unfitted */\n",
       "  border: var(--sklearn-color-unfitted-level-1) 1pt solid;\n",
       "  color: var(--sklearn-color-unfitted-level-1);\n",
       "}\n",
       "\n",
       ".sk-estimator-doc-link.fitted,\n",
       "a:link.sk-estimator-doc-link.fitted,\n",
       "a:visited.sk-estimator-doc-link.fitted {\n",
       "  /* fitted */\n",
       "  border: var(--sklearn-color-fitted-level-1) 1pt solid;\n",
       "  color: var(--sklearn-color-fitted-level-1);\n",
       "}\n",
       "\n",
       "/* On hover */\n",
       "div.sk-estimator:hover .sk-estimator-doc-link:hover,\n",
       ".sk-estimator-doc-link:hover,\n",
       "div.sk-label-container:hover .sk-estimator-doc-link:hover,\n",
       ".sk-estimator-doc-link:hover {\n",
       "  /* unfitted */\n",
       "  background-color: var(--sklearn-color-unfitted-level-3);\n",
       "  color: var(--sklearn-color-background);\n",
       "  text-decoration: none;\n",
       "}\n",
       "\n",
       "div.sk-estimator.fitted:hover .sk-estimator-doc-link.fitted:hover,\n",
       ".sk-estimator-doc-link.fitted:hover,\n",
       "div.sk-label-container:hover .sk-estimator-doc-link.fitted:hover,\n",
       ".sk-estimator-doc-link.fitted:hover {\n",
       "  /* fitted */\n",
       "  background-color: var(--sklearn-color-fitted-level-3);\n",
       "  color: var(--sklearn-color-background);\n",
       "  text-decoration: none;\n",
       "}\n",
       "\n",
       "/* Span, style for the box shown on hovering the info icon */\n",
       ".sk-estimator-doc-link span {\n",
       "  display: none;\n",
       "  z-index: 9999;\n",
       "  position: relative;\n",
       "  font-weight: normal;\n",
       "  right: .2ex;\n",
       "  padding: .5ex;\n",
       "  margin: .5ex;\n",
       "  width: min-content;\n",
       "  min-width: 20ex;\n",
       "  max-width: 50ex;\n",
       "  color: var(--sklearn-color-text);\n",
       "  box-shadow: 2pt 2pt 4pt #999;\n",
       "  /* unfitted */\n",
       "  background: var(--sklearn-color-unfitted-level-0);\n",
       "  border: .5pt solid var(--sklearn-color-unfitted-level-3);\n",
       "}\n",
       "\n",
       ".sk-estimator-doc-link.fitted span {\n",
       "  /* fitted */\n",
       "  background: var(--sklearn-color-fitted-level-0);\n",
       "  border: var(--sklearn-color-fitted-level-3);\n",
       "}\n",
       "\n",
       ".sk-estimator-doc-link:hover span {\n",
       "  display: block;\n",
       "}\n",
       "\n",
       "/* \"?\"-specific style due to the `<a>` HTML tag */\n",
       "\n",
       "#sk-container-id-17 a.estimator_doc_link {\n",
       "  float: right;\n",
       "  font-size: 1rem;\n",
       "  line-height: 1em;\n",
       "  font-family: monospace;\n",
       "  background-color: var(--sklearn-color-background);\n",
       "  border-radius: 1rem;\n",
       "  height: 1rem;\n",
       "  width: 1rem;\n",
       "  text-decoration: none;\n",
       "  /* unfitted */\n",
       "  color: var(--sklearn-color-unfitted-level-1);\n",
       "  border: var(--sklearn-color-unfitted-level-1) 1pt solid;\n",
       "}\n",
       "\n",
       "#sk-container-id-17 a.estimator_doc_link.fitted {\n",
       "  /* fitted */\n",
       "  border: var(--sklearn-color-fitted-level-1) 1pt solid;\n",
       "  color: var(--sklearn-color-fitted-level-1);\n",
       "}\n",
       "\n",
       "/* On hover */\n",
       "#sk-container-id-17 a.estimator_doc_link:hover {\n",
       "  /* unfitted */\n",
       "  background-color: var(--sklearn-color-unfitted-level-3);\n",
       "  color: var(--sklearn-color-background);\n",
       "  text-decoration: none;\n",
       "}\n",
       "\n",
       "#sk-container-id-17 a.estimator_doc_link.fitted:hover {\n",
       "  /* fitted */\n",
       "  background-color: var(--sklearn-color-fitted-level-3);\n",
       "}\n",
       "</style><div id=\"sk-container-id-17\" class=\"sk-top-container\"><div class=\"sk-text-repr-fallback\"><pre>SVC(random_state=150)</pre><b>In a Jupyter environment, please rerun this cell to show the HTML representation or trust the notebook. <br />On GitHub, the HTML representation is unable to render, please try loading this page with nbviewer.org.</b></div><div class=\"sk-container\" hidden><div class=\"sk-item\"><div class=\"sk-estimator fitted sk-toggleable\"><input class=\"sk-toggleable__control sk-hidden--visually\" id=\"sk-estimator-id-17\" type=\"checkbox\" checked><label for=\"sk-estimator-id-17\" class=\"sk-toggleable__label fitted sk-toggleable__label-arrow fitted\">&nbsp;&nbsp;SVC<a class=\"sk-estimator-doc-link fitted\" rel=\"noreferrer\" target=\"_blank\" href=\"https://scikit-learn.org/1.5/modules/generated/sklearn.svm.SVC.html\">?<span>Documentation for SVC</span></a><span class=\"sk-estimator-doc-link fitted\">i<span>Fitted</span></span></label><div class=\"sk-toggleable__content fitted\"><pre>SVC(random_state=150)</pre></div> </div></div></div></div>"
      ],
      "text/plain": [
       "SVC(random_state=150)"
      ]
     },
     "execution_count": 294,
     "metadata": {},
     "output_type": "execute_result"
    }
   ],
   "source": [
    "classifier.fit(X_train, y_train)"
   ]
  },
  {
   "cell_type": "code",
   "execution_count": 296,
   "id": "19b2c0f6-fa38-4940-ac3a-e19ec6989875",
   "metadata": {},
   "outputs": [
    {
     "data": {
      "text/plain": [
       "array([2, 3, 2, 1, 3, 3, 2, 2, 2, 1, 3, 1, 2, 2, 1, 1, 2, 3, 2, 1, 2, 1,\n",
       "       2, 1, 1, 2, 1, 1, 2, 2, 1, 2, 1, 3, 3, 3, 1, 2, 1, 1, 1, 2, 1, 1,\n",
       "       2, 1, 2, 2, 2, 2, 1, 3, 2, 2, 1, 3, 2, 1, 1, 2, 1, 2, 3, 3, 1, 2,\n",
       "       2, 3, 2, 3, 3, 2, 1, 3, 3, 2, 1, 1, 3, 3, 1, 2, 2, 3, 2, 1, 2, 1,\n",
       "       2, 1, 2, 1, 3, 3, 2, 2, 1, 2, 2, 3, 1, 3, 2, 1, 3, 3, 2, 3, 2, 3,\n",
       "       2, 1, 1, 1, 3, 2, 2, 2, 1, 1, 2, 1, 1, 1, 3, 2, 3, 2, 1, 1, 2, 2,\n",
       "       1, 1, 3, 2, 3, 3, 1, 1, 1, 1, 1, 1, 2, 1, 1, 3, 3, 1, 2, 2, 3, 2,\n",
       "       2, 1, 1, 1, 3, 3, 3, 2, 2, 1, 2, 2, 2, 1, 2, 1, 1, 2, 1, 2, 2, 3,\n",
       "       1, 2, 2, 2, 1, 2, 1, 1, 2, 2, 1, 2, 1, 2, 1, 2, 1, 1, 3],\n",
       "      dtype=int64)"
      ]
     },
     "execution_count": 296,
     "metadata": {},
     "output_type": "execute_result"
    }
   ],
   "source": [
    "y_pred = classifier.predict(X_test)\n",
    "y_pred"
   ]
  },
  {
   "cell_type": "code",
   "execution_count": 298,
   "id": "8d0a42c5-3ad6-49b3-afba-4bc186ef14b9",
   "metadata": {},
   "outputs": [
    {
     "data": {
      "text/plain": [
       "199    2\n",
       "538    3\n",
       "174    1\n",
       "464    1\n",
       "66     3\n",
       "      ..\n",
       "578    1\n",
       "327    2\n",
       "878    2\n",
       "849    1\n",
       "801    3\n",
       "Name: Experience_Level, Length: 195, dtype: int64"
      ]
     },
     "execution_count": 298,
     "metadata": {},
     "output_type": "execute_result"
    }
   ],
   "source": [
    "y_test"
   ]
  },
  {
   "cell_type": "code",
   "execution_count": 300,
   "id": "73549a4b-fcce-40b8-bf8a-196b6814ba9c",
   "metadata": {},
   "outputs": [
    {
     "name": "stdout",
     "output_type": "stream",
     "text": [
      "[[67 11  0]\n",
      " [ 8 67  0]\n",
      " [ 0  0 42]]\n"
     ]
    },
    {
     "data": {
      "text/plain": [
       "0.9025641025641026"
      ]
     },
     "execution_count": 300,
     "metadata": {},
     "output_type": "execute_result"
    }
   ],
   "source": [
    "from sklearn.metrics import confusion_matrix, accuracy_score\n",
    "cm = confusion_matrix(y_test, y_pred)\n",
    "print(cm)\n",
    "accuracy_score(y_test, y_pred)"
   ]
  },
  {
   "cell_type": "code",
   "execution_count": 306,
   "id": "ea0be5ce-b4da-4d70-938b-d9c87cac6a1f",
   "metadata": {},
   "outputs": [
    {
     "data": {
      "text/html": [
       "\n",
       "        <iframe\n",
       "            width=\"100%\"\n",
       "            height=\"650\"\n",
       "            src=\"http://127.0.0.1:8051/\"\n",
       "            frameborder=\"0\"\n",
       "            allowfullscreen\n",
       "            \n",
       "        ></iframe>\n",
       "        "
      ],
      "text/plain": [
       "<IPython.lib.display.IFrame at 0x2f39e2a41a0>"
      ]
     },
     "metadata": {},
     "output_type": "display_data"
    }
   ],
   "source": [
    "import dash\n",
    "from dash import dcc, html\n",
    "\n",
    "# Initialize the Dash app\n",
    "app = dash.Dash(__name__)\n",
    "\n",
    "# Layout of the app\n",
    "app.layout = html.Div(children=[\n",
    "    html.H1(children='GYM_Excercises Dashboard'),\n",
    "\n",
    "    html.Div(children='''\n",
    "        Dash: A web application framework for Python.\n",
    "    '''),\n",
    "    \n",
    "    dcc.Graph(id='Workout Type Distribution', figure=fig),\n",
    "    dcc.Graph(id='Gender Distribution Across Workout Types', figure=fig1),\n",
    "    dcc.Graph(id='BMI Distribution by Workout Type', figure=fig2),\n",
    "    \n",
    "    \n",
    "    \n",
    "])\n",
    "\n",
    "app.run_server(port=8051)"
   ]
  },
  {
   "cell_type": "code",
   "execution_count": null,
   "id": "efb119d6-7be3-4522-9b7e-0bd9aff26f20",
   "metadata": {},
   "outputs": [],
   "source": []
  },
  {
   "cell_type": "code",
   "execution_count": null,
   "id": "aa02c5a8-bf77-4db3-ac8d-03b162c659c8",
   "metadata": {},
   "outputs": [],
   "source": []
  }
 ],
 "metadata": {
  "kernelspec": {
   "display_name": "Python 3 (ipykernel)",
   "language": "python",
   "name": "python3"
  },
  "language_info": {
   "codemirror_mode": {
    "name": "ipython",
    "version": 3
   },
   "file_extension": ".py",
   "mimetype": "text/x-python",
   "name": "python",
   "nbconvert_exporter": "python",
   "pygments_lexer": "ipython3",
   "version": "3.12.4"
  }
 },
 "nbformat": 4,
 "nbformat_minor": 5
}
